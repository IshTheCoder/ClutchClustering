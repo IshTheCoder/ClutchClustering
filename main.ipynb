{
 "cells": [
  {
   "cell_type": "code",
   "execution_count": 9,
   "metadata": {},
   "outputs": [],
   "source": [
    "import pandas as pd\n",
    "import matplotlib.pyplot as plt\n",
    "from sklearn.cluster import KMeans\n",
    "import numpy as np\n",
    "from sklearn.decomposition import PCA\n",
    "import plotly.graph_objects as go\n",
    "from collections import defaultdict\n",
    "import csv\n"
   ]
  },
  {
   "cell_type": "code",
   "execution_count": 10,
   "metadata": {},
   "outputs": [
    {
     "name": "stdout",
     "output_type": "stream",
     "text": [
      "395\n",
      "2015\n",
      "7\n",
      "['Danilo Gallinari', 'Khris Middleton', 'Kevin Martin', 'Jeff Green', 'Gerald Henderson', ' ', 'Tyson Chandler', 'Brandan Wright', 'DeAndre Jordan', 'Ian Mahinmi', 'JaVale McGee', '  ', 'Mario Hezonja', 'Evan Fournier', 'Marcus Thornton', 'Kentavious Caldwell-Pope', 'Markel Brown', '   ', 'Al-Farouq Aminu', 'Robert Covington', 'Jae Crowder', 'Gerald Green', 'Lamar Patterson', '    ', 'Alex Len', 'Roy Hibbert', 'Brook Lopez', 'Nene', 'Greg Monroe', '     ', 'Jon Leuer', 'Terrence Jones', 'Kelly Olynyk', 'Darrell Arthur', 'Mike Scott', '      ', 'CJ McCollum', 'Monta Ellis', 'John Wall', 'Eric Bledsoe', 'Mario Chalmers', '       ']\n"
     ]
    },
    {
     "data": {
      "application/vnd.plotly.v1+json": {
       "config": {
        "plotlyServerURL": "https://plot.ly"
       },
       "data": [
        {
         "marker": {
          "color": "rgba(229.2156862745098, 77.90196078431373, 52.72549019607843, 1)",
          "line": {
           "color": "rgba(229.2156862745098, 77.90196078431373, 52.72549019607843, 1)",
           "width": 1.5
          }
         },
         "name": "Iso",
         "orientation": "h",
         "type": "bar",
         "x": [
          0.18899999999999997,
          0.111,
          0.131,
          0.096,
          0.086,
          0,
          0,
          0,
          0,
          0.023,
          0,
          0,
          0.043,
          0.051,
          0.046,
          0.05,
          0.031,
          0,
          0.038,
          0.040999999999999995,
          0.021,
          0.033,
          0,
          0,
          0.025,
          0,
          0.066,
          0.066,
          0.052000000000000005,
          0,
          0.079,
          0.057999999999999996,
          0.028999999999999998,
          0.024,
          0,
          0,
          0.114,
          0.073,
          0.11199999999999999,
          0.131,
          0.057999999999999996,
          0
         ],
         "y": [
          "Danilo Gallinari",
          "Khris Middleton",
          "Kevin Martin",
          "Jeff Green",
          "Gerald Henderson",
          " ",
          "Tyson Chandler",
          "Brandan Wright",
          "DeAndre Jordan",
          "Ian Mahinmi",
          "JaVale McGee",
          "  ",
          "Mario Hezonja",
          "Evan Fournier",
          "Marcus Thornton",
          "Kentavious Caldwell-Pope",
          "Markel Brown",
          "   ",
          "Al-Farouq Aminu",
          "Robert Covington",
          "Jae Crowder",
          "Gerald Green",
          "Lamar Patterson",
          "    ",
          "Alex Len",
          "Roy Hibbert",
          "Brook Lopez",
          "Nene",
          "Greg Monroe",
          "     ",
          "Jon Leuer",
          "Terrence Jones",
          "Kelly Olynyk",
          "Darrell Arthur",
          "Mike Scott",
          "      ",
          "CJ McCollum",
          "Monta Ellis",
          "John Wall",
          "Eric Bledsoe",
          "Mario Chalmers",
          "       "
         ]
        },
        {
         "marker": {
          "color": "rgba(245.76470588235296, 121.74509803921568, 72.88235294117646, 1)",
          "line": {
           "color": "rgba(245.76470588235296, 121.74509803921568, 72.88235294117646, 1)",
           "width": 1.5
          }
         },
         "name": "Tra",
         "orientation": "h",
         "type": "bar",
         "x": [
          0.099,
          0.136,
          0.154,
          0.141,
          0.131,
          0,
          0.05,
          0,
          0.075,
          0.078,
          0,
          0,
          0.159,
          0.16,
          0.184,
          0.222,
          0.172,
          0,
          0.179,
          0.2,
          0.207,
          0.17300000000000001,
          0.114,
          0,
          0.045,
          0.033,
          0.037000000000000005,
          0.075,
          0.054000000000000006,
          0,
          0.106,
          0.16699999999999998,
          0.139,
          0.083,
          0.159,
          0,
          0.131,
          0.175,
          0.235,
          0.187,
          0.152,
          0
         ],
         "y": [
          "Danilo Gallinari",
          "Khris Middleton",
          "Kevin Martin",
          "Jeff Green",
          "Gerald Henderson",
          " ",
          "Tyson Chandler",
          "Brandan Wright",
          "DeAndre Jordan",
          "Ian Mahinmi",
          "JaVale McGee",
          "  ",
          "Mario Hezonja",
          "Evan Fournier",
          "Marcus Thornton",
          "Kentavious Caldwell-Pope",
          "Markel Brown",
          "   ",
          "Al-Farouq Aminu",
          "Robert Covington",
          "Jae Crowder",
          "Gerald Green",
          "Lamar Patterson",
          "    ",
          "Alex Len",
          "Roy Hibbert",
          "Brook Lopez",
          "Nene",
          "Greg Monroe",
          "     ",
          "Jon Leuer",
          "Terrence Jones",
          "Kelly Olynyk",
          "Darrell Arthur",
          "Mike Scott",
          "      ",
          "CJ McCollum",
          "Monta Ellis",
          "John Wall",
          "Eric Bledsoe",
          "Mario Chalmers",
          "       "
         ]
        },
        {
         "marker": {
          "color": "rgba(252.11764705882354, 167.6274509803921, 94.05882352941174, 1)",
          "line": {
           "color": "rgba(252.11764705882354, 167.6274509803921, 94.05882352941174, 1)",
           "width": 1.5
          }
         },
         "name": "PRB",
         "orientation": "h",
         "type": "bar",
         "x": [
          0.12,
          0.18,
          0.154,
          0.18600000000000003,
          0.182,
          0,
          0,
          0,
          0,
          0,
          0,
          0,
          0.204,
          0.218,
          0.214,
          0.22399999999999998,
          0.23600000000000002,
          0,
          0.085,
          0.045,
          0.073,
          0.073,
          0.114,
          0,
          0,
          0,
          0,
          0,
          0,
          0,
          0,
          0,
          0,
          0,
          0,
          0,
          0.374,
          0.38299999999999995,
          0.402,
          0.382,
          0.39899999999999997,
          0
         ],
         "y": [
          "Danilo Gallinari",
          "Khris Middleton",
          "Kevin Martin",
          "Jeff Green",
          "Gerald Henderson",
          " ",
          "Tyson Chandler",
          "Brandan Wright",
          "DeAndre Jordan",
          "Ian Mahinmi",
          "JaVale McGee",
          "  ",
          "Mario Hezonja",
          "Evan Fournier",
          "Marcus Thornton",
          "Kentavious Caldwell-Pope",
          "Markel Brown",
          "   ",
          "Al-Farouq Aminu",
          "Robert Covington",
          "Jae Crowder",
          "Gerald Green",
          "Lamar Patterson",
          "    ",
          "Alex Len",
          "Roy Hibbert",
          "Brook Lopez",
          "Nene",
          "Greg Monroe",
          "     ",
          "Jon Leuer",
          "Terrence Jones",
          "Kelly Olynyk",
          "Darrell Arthur",
          "Mike Scott",
          "      ",
          "CJ McCollum",
          "Monta Ellis",
          "John Wall",
          "Eric Bledsoe",
          "Mario Chalmers",
          "       "
         ]
        },
        {
         "marker": {
          "color": "rgba(253.60784313725492, 204.39215686274508, 122.52941176470586, 1)",
          "line": {
           "color": "rgba(253.60784313725492, 204.39215686274508, 122.52941176470586, 1)",
           "width": 1.5
          }
         },
         "name": "PRR",
         "orientation": "h",
         "type": "bar",
         "x": [
          0.04,
          0.017,
          0,
          0.075,
          0,
          0,
          0.18,
          0.33299999999999996,
          0.203,
          0.209,
          0.22699999999999998,
          0,
          0,
          0,
          0,
          0,
          0,
          0,
          0.04,
          0.055,
          0.038,
          0,
          0,
          0,
          0.113,
          0.17,
          0.212,
          0.16899999999999998,
          0.10800000000000001,
          0,
          0.235,
          0.12,
          0.19399999999999998,
          0.20800000000000002,
          0.188,
          0,
          0,
          0,
          0,
          0,
          0,
          0
         ],
         "y": [
          "Danilo Gallinari",
          "Khris Middleton",
          "Kevin Martin",
          "Jeff Green",
          "Gerald Henderson",
          " ",
          "Tyson Chandler",
          "Brandan Wright",
          "DeAndre Jordan",
          "Ian Mahinmi",
          "JaVale McGee",
          "  ",
          "Mario Hezonja",
          "Evan Fournier",
          "Marcus Thornton",
          "Kentavious Caldwell-Pope",
          "Markel Brown",
          "   ",
          "Al-Farouq Aminu",
          "Robert Covington",
          "Jae Crowder",
          "Gerald Green",
          "Lamar Patterson",
          "    ",
          "Alex Len",
          "Roy Hibbert",
          "Brook Lopez",
          "Nene",
          "Greg Monroe",
          "     ",
          "Jon Leuer",
          "Terrence Jones",
          "Kelly Olynyk",
          "Darrell Arthur",
          "Mike Scott",
          "      ",
          "CJ McCollum",
          "Monta Ellis",
          "John Wall",
          "Eric Bledsoe",
          "Mario Chalmers",
          "       "
         ]
        },
        {
         "marker": {
          "color": "rgba(254.31372549019608, 233.72549019607845, 155.31372549019605, 1)",
          "line": {
           "color": "rgba(254.31372549019608, 233.72549019607845, 155.31372549019605, 1)",
           "width": 1.5
          }
         },
         "name": "Pos",
         "orientation": "h",
         "type": "bar",
         "x": [
          0.085,
          0.081,
          0.040999999999999995,
          0.084,
          0.078,
          0,
          0.083,
          0,
          0.07200000000000001,
          0.10800000000000001,
          0.076,
          0,
          0,
          0,
          0,
          0,
          0,
          0,
          0.021,
          0,
          0.035,
          0.027999999999999997,
          0,
          0,
          0.29600000000000004,
          0.293,
          0.298,
          0.31,
          0.33799999999999997,
          0,
          0.075,
          0.079,
          0.073,
          0.08,
          0.081,
          0,
          0,
          0,
          0.009000000000000001,
          0.016,
          0,
          0
         ],
         "y": [
          "Danilo Gallinari",
          "Khris Middleton",
          "Kevin Martin",
          "Jeff Green",
          "Gerald Henderson",
          " ",
          "Tyson Chandler",
          "Brandan Wright",
          "DeAndre Jordan",
          "Ian Mahinmi",
          "JaVale McGee",
          "  ",
          "Mario Hezonja",
          "Evan Fournier",
          "Marcus Thornton",
          "Kentavious Caldwell-Pope",
          "Markel Brown",
          "   ",
          "Al-Farouq Aminu",
          "Robert Covington",
          "Jae Crowder",
          "Gerald Green",
          "Lamar Patterson",
          "    ",
          "Alex Len",
          "Roy Hibbert",
          "Brook Lopez",
          "Nene",
          "Greg Monroe",
          "     ",
          "Jon Leuer",
          "Terrence Jones",
          "Kelly Olynyk",
          "Darrell Arthur",
          "Mike Scott",
          "      ",
          "CJ McCollum",
          "Monta Ellis",
          "John Wall",
          "Eric Bledsoe",
          "Mario Chalmers",
          "       "
         ]
        },
        {
         "marker": {
          "color": "rgba(254.2549019607843, 254.68627450980392, 189.98039215686273, 1)",
          "line": {
           "color": "rgba(254.2549019607843, 254.68627450980392, 189.98039215686273, 1)",
           "width": 1.5
          }
         },
         "name": "Spo",
         "orientation": "h",
         "type": "bar",
         "x": [
          0.213,
          0.16399999999999998,
          0.149,
          0.179,
          0.221,
          0,
          0.040999999999999995,
          0,
          0,
          0.08,
          0.057999999999999996,
          0,
          0.256,
          0.248,
          0.266,
          0.255,
          0.289,
          0,
          0.374,
          0.37200000000000005,
          0.33,
          0.35,
          0.43,
          0,
          0.09,
          0.121,
          0.085,
          0.061,
          0.062,
          0,
          0.23600000000000002,
          0.233,
          0.249,
          0.301,
          0.282,
          0,
          0.14800000000000002,
          0.147,
          0.128,
          0.122,
          0.168,
          0
         ],
         "y": [
          "Danilo Gallinari",
          "Khris Middleton",
          "Kevin Martin",
          "Jeff Green",
          "Gerald Henderson",
          " ",
          "Tyson Chandler",
          "Brandan Wright",
          "DeAndre Jordan",
          "Ian Mahinmi",
          "JaVale McGee",
          "  ",
          "Mario Hezonja",
          "Evan Fournier",
          "Marcus Thornton",
          "Kentavious Caldwell-Pope",
          "Markel Brown",
          "   ",
          "Al-Farouq Aminu",
          "Robert Covington",
          "Jae Crowder",
          "Gerald Green",
          "Lamar Patterson",
          "    ",
          "Alex Len",
          "Roy Hibbert",
          "Brook Lopez",
          "Nene",
          "Greg Monroe",
          "     ",
          "Jon Leuer",
          "Terrence Jones",
          "Kelly Olynyk",
          "Darrell Arthur",
          "Mike Scott",
          "      ",
          "CJ McCollum",
          "Monta Ellis",
          "John Wall",
          "Eric Bledsoe",
          "Mario Chalmers",
          "       "
         ]
        },
        {
         "marker": {
          "color": "rgba(228.921568627451, 244.01960784313727, 155.3137254901961, 1)",
          "line": {
           "color": "rgba(228.921568627451, 244.01960784313727, 155.3137254901961, 1)",
           "width": 1.5
          }
         },
         "name": "Han",
         "orientation": "h",
         "type": "bar",
         "x": [
          0.066,
          0.10300000000000001,
          0.053,
          0.040999999999999995,
          0.07400000000000001,
          0,
          0,
          0,
          0,
          0,
          0,
          0,
          0.07400000000000001,
          0.086,
          0.066,
          0.052000000000000005,
          0.038,
          0,
          0.06,
          0.081,
          0.065,
          0.11800000000000001,
          0,
          0,
          0,
          0,
          0.006999999999999999,
          0,
          0,
          0,
          0.019,
          0,
          0.05,
          0,
          0,
          0,
          0.078,
          0.067,
          0.025,
          0.027000000000000003,
          0.06,
          0
         ],
         "y": [
          "Danilo Gallinari",
          "Khris Middleton",
          "Kevin Martin",
          "Jeff Green",
          "Gerald Henderson",
          " ",
          "Tyson Chandler",
          "Brandan Wright",
          "DeAndre Jordan",
          "Ian Mahinmi",
          "JaVale McGee",
          "  ",
          "Mario Hezonja",
          "Evan Fournier",
          "Marcus Thornton",
          "Kentavious Caldwell-Pope",
          "Markel Brown",
          "   ",
          "Al-Farouq Aminu",
          "Robert Covington",
          "Jae Crowder",
          "Gerald Green",
          "Lamar Patterson",
          "    ",
          "Alex Len",
          "Roy Hibbert",
          "Brook Lopez",
          "Nene",
          "Greg Monroe",
          "     ",
          "Jon Leuer",
          "Terrence Jones",
          "Kelly Olynyk",
          "Darrell Arthur",
          "Mike Scott",
          "      ",
          "CJ McCollum",
          "Monta Ellis",
          "John Wall",
          "Eric Bledsoe",
          "Mario Chalmers",
          "       "
         ]
        },
        {
         "marker": {
          "color": "rgba(197.00000000000006, 230.37254901960785, 126.0588235294118, 1)",
          "line": {
           "color": "rgba(197.00000000000006, 230.37254901960785, 126.0588235294118, 1)",
           "width": 1.5
          }
         },
         "name": "Cut",
         "orientation": "h",
         "type": "bar",
         "x": [
          0.054000000000000006,
          0.021,
          0.046,
          0.077,
          0.053,
          0,
          0.267,
          0.19399999999999998,
          0.20800000000000002,
          0.29600000000000004,
          0.29100000000000004,
          0,
          0.031,
          0.045,
          0.044000000000000004,
          0.032,
          0.045,
          0,
          0.051,
          0.035,
          0.055999999999999994,
          0.036000000000000004,
          0.096,
          0,
          0.19699999999999998,
          0.11800000000000001,
          0.13699999999999998,
          0.213,
          0.17600000000000002,
          0,
          0.08900000000000001,
          0.14800000000000002,
          0.075,
          0.11800000000000001,
          0.152,
          0,
          0.022000000000000002,
          0.019,
          0.009000000000000001,
          0.016,
          0.023,
          0
         ],
         "y": [
          "Danilo Gallinari",
          "Khris Middleton",
          "Kevin Martin",
          "Jeff Green",
          "Gerald Henderson",
          " ",
          "Tyson Chandler",
          "Brandan Wright",
          "DeAndre Jordan",
          "Ian Mahinmi",
          "JaVale McGee",
          "  ",
          "Mario Hezonja",
          "Evan Fournier",
          "Marcus Thornton",
          "Kentavious Caldwell-Pope",
          "Markel Brown",
          "   ",
          "Al-Farouq Aminu",
          "Robert Covington",
          "Jae Crowder",
          "Gerald Green",
          "Lamar Patterson",
          "    ",
          "Alex Len",
          "Roy Hibbert",
          "Brook Lopez",
          "Nene",
          "Greg Monroe",
          "     ",
          "Jon Leuer",
          "Terrence Jones",
          "Kelly Olynyk",
          "Darrell Arthur",
          "Mike Scott",
          "      ",
          "CJ McCollum",
          "Monta Ellis",
          "John Wall",
          "Eric Bledsoe",
          "Mario Chalmers",
          "       "
         ]
        },
        {
         "marker": {
          "color": "rgba(159.7254901960785, 214.25490196078434, 105.31372549019609, 1)",
          "line": {
           "color": "rgba(159.7254901960785, 214.25490196078434, 105.31372549019609, 1)",
           "width": 1.5
          }
         },
         "name": "Off",
         "orientation": "h",
         "type": "bar",
         "x": [
          0.047,
          0.11800000000000001,
          0.22,
          0.057999999999999996,
          0.083,
          0,
          0,
          0,
          0,
          0,
          0,
          0,
          0.139,
          0.126,
          0.078,
          0.081,
          0.08800000000000001,
          0,
          0.05,
          0.049,
          0.07400000000000001,
          0.11199999999999999,
          0,
          0,
          0.018000000000000002,
          0,
          0.013000000000000001,
          0,
          0.011000000000000001,
          0,
          0,
          0,
          0.057,
          0.026000000000000002,
          0,
          0,
          0.08,
          0.055999999999999994,
          0.016,
          0.044000000000000004,
          0.024,
          0
         ],
         "y": [
          "Danilo Gallinari",
          "Khris Middleton",
          "Kevin Martin",
          "Jeff Green",
          "Gerald Henderson",
          " ",
          "Tyson Chandler",
          "Brandan Wright",
          "DeAndre Jordan",
          "Ian Mahinmi",
          "JaVale McGee",
          "  ",
          "Mario Hezonja",
          "Evan Fournier",
          "Marcus Thornton",
          "Kentavious Caldwell-Pope",
          "Markel Brown",
          "   ",
          "Al-Farouq Aminu",
          "Robert Covington",
          "Jae Crowder",
          "Gerald Green",
          "Lamar Patterson",
          "    ",
          "Alex Len",
          "Roy Hibbert",
          "Brook Lopez",
          "Nene",
          "Greg Monroe",
          "     ",
          "Jon Leuer",
          "Terrence Jones",
          "Kelly Olynyk",
          "Darrell Arthur",
          "Mike Scott",
          "      ",
          "CJ McCollum",
          "Monta Ellis",
          "John Wall",
          "Eric Bledsoe",
          "Mario Chalmers",
          "       "
         ]
        },
        {
         "marker": {
          "color": "rgba(114.54901960784316, 194.49019607843138, 100.37254901960786, 1)",
          "line": {
           "color": "rgba(114.54901960784316, 194.49019607843138, 100.37254901960786, 1)",
           "width": 1.5
          }
         },
         "name": "OffR",
         "orientation": "h",
         "type": "bar",
         "x": [
          0.035,
          0.013000000000000001,
          0,
          0.051,
          0.024,
          0,
          0.215,
          0,
          0.174,
          0.091,
          0.198,
          0,
          0.026000000000000002,
          0.015,
          0.034,
          0.034,
          0.033,
          0,
          0.057999999999999996,
          0.039,
          0.035,
          0.027999999999999997,
          0,
          0,
          0.127,
          0.125,
          0.099,
          0.035,
          0.141,
          0,
          0.084,
          0.08800000000000001,
          0.066,
          0.078,
          0.055999999999999994,
          0,
          0.012,
          0.013999999999999999,
          0.01,
          0,
          0.023,
          0
         ],
         "y": [
          "Danilo Gallinari",
          "Khris Middleton",
          "Kevin Martin",
          "Jeff Green",
          "Gerald Henderson",
          " ",
          "Tyson Chandler",
          "Brandan Wright",
          "DeAndre Jordan",
          "Ian Mahinmi",
          "JaVale McGee",
          "  ",
          "Mario Hezonja",
          "Evan Fournier",
          "Marcus Thornton",
          "Kentavious Caldwell-Pope",
          "Markel Brown",
          "   ",
          "Al-Farouq Aminu",
          "Robert Covington",
          "Jae Crowder",
          "Gerald Green",
          "Lamar Patterson",
          "    ",
          "Alex Len",
          "Roy Hibbert",
          "Brook Lopez",
          "Nene",
          "Greg Monroe",
          "     ",
          "Jon Leuer",
          "Terrence Jones",
          "Kelly Olynyk",
          "Darrell Arthur",
          "Mike Scott",
          "      ",
          "CJ McCollum",
          "Monta Ellis",
          "John Wall",
          "Eric Bledsoe",
          "Mario Chalmers",
          "       "
         ]
        },
        {
         "marker": {
          "color": "rgba(63.254901960784316, 170.1372549019608, 89.31372549019608, 1)",
          "line": {
           "color": "rgba(63.254901960784316, 170.1372549019608, 89.31372549019608, 1)",
           "width": 1.5
          }
         },
         "name": "Misc",
         "orientation": "h",
         "type": "bar",
         "x": [
          0.053,
          0.055,
          0.044000000000000004,
          0.055,
          0.057,
          0,
          0.151,
          0,
          0.254,
          0.109,
          0.081,
          0,
          0.057,
          0.044000000000000004,
          0.057999999999999996,
          0.047,
          0.064,
          0,
          0.044000000000000004,
          0.08,
          0.066,
          0.046,
          0,
          0,
          0.084,
          0.11199999999999999,
          0.047,
          0.059000000000000004,
          0.047,
          0,
          0.063,
          0.079,
          0.057,
          0.078,
          0.036000000000000004,
          0,
          0.037000000000000005,
          0.055,
          0.054000000000000006,
          0.06,
          0.09,
          0
         ],
         "y": [
          "Danilo Gallinari",
          "Khris Middleton",
          "Kevin Martin",
          "Jeff Green",
          "Gerald Henderson",
          " ",
          "Tyson Chandler",
          "Brandan Wright",
          "DeAndre Jordan",
          "Ian Mahinmi",
          "JaVale McGee",
          "  ",
          "Mario Hezonja",
          "Evan Fournier",
          "Marcus Thornton",
          "Kentavious Caldwell-Pope",
          "Markel Brown",
          "   ",
          "Al-Farouq Aminu",
          "Robert Covington",
          "Jae Crowder",
          "Gerald Green",
          "Lamar Patterson",
          "    ",
          "Alex Len",
          "Roy Hibbert",
          "Brook Lopez",
          "Nene",
          "Greg Monroe",
          "     ",
          "Jon Leuer",
          "Terrence Jones",
          "Kelly Olynyk",
          "Darrell Arthur",
          "Mike Scott",
          "      ",
          "CJ McCollum",
          "Monta Ellis",
          "John Wall",
          "Eric Bledsoe",
          "Mario Chalmers",
          "       "
         ]
        }
       ],
       "layout": {
        "autosize": true,
        "barmode": "stack",
        "height": 1200,
        "template": {
         "data": {
          "bar": [
           {
            "error_x": {
             "color": "#2a3f5f"
            },
            "error_y": {
             "color": "#2a3f5f"
            },
            "marker": {
             "line": {
              "color": "#E5ECF6",
              "width": 0.5
             }
            },
            "type": "bar"
           }
          ],
          "barpolar": [
           {
            "marker": {
             "line": {
              "color": "#E5ECF6",
              "width": 0.5
             }
            },
            "type": "barpolar"
           }
          ],
          "carpet": [
           {
            "aaxis": {
             "endlinecolor": "#2a3f5f",
             "gridcolor": "white",
             "linecolor": "white",
             "minorgridcolor": "white",
             "startlinecolor": "#2a3f5f"
            },
            "baxis": {
             "endlinecolor": "#2a3f5f",
             "gridcolor": "white",
             "linecolor": "white",
             "minorgridcolor": "white",
             "startlinecolor": "#2a3f5f"
            },
            "type": "carpet"
           }
          ],
          "choropleth": [
           {
            "colorbar": {
             "outlinewidth": 0,
             "ticks": ""
            },
            "type": "choropleth"
           }
          ],
          "contour": [
           {
            "colorbar": {
             "outlinewidth": 0,
             "ticks": ""
            },
            "colorscale": [
             [
              0,
              "#0d0887"
             ],
             [
              0.1111111111111111,
              "#46039f"
             ],
             [
              0.2222222222222222,
              "#7201a8"
             ],
             [
              0.3333333333333333,
              "#9c179e"
             ],
             [
              0.4444444444444444,
              "#bd3786"
             ],
             [
              0.5555555555555556,
              "#d8576b"
             ],
             [
              0.6666666666666666,
              "#ed7953"
             ],
             [
              0.7777777777777778,
              "#fb9f3a"
             ],
             [
              0.8888888888888888,
              "#fdca26"
             ],
             [
              1,
              "#f0f921"
             ]
            ],
            "type": "contour"
           }
          ],
          "contourcarpet": [
           {
            "colorbar": {
             "outlinewidth": 0,
             "ticks": ""
            },
            "type": "contourcarpet"
           }
          ],
          "heatmap": [
           {
            "colorbar": {
             "outlinewidth": 0,
             "ticks": ""
            },
            "colorscale": [
             [
              0,
              "#0d0887"
             ],
             [
              0.1111111111111111,
              "#46039f"
             ],
             [
              0.2222222222222222,
              "#7201a8"
             ],
             [
              0.3333333333333333,
              "#9c179e"
             ],
             [
              0.4444444444444444,
              "#bd3786"
             ],
             [
              0.5555555555555556,
              "#d8576b"
             ],
             [
              0.6666666666666666,
              "#ed7953"
             ],
             [
              0.7777777777777778,
              "#fb9f3a"
             ],
             [
              0.8888888888888888,
              "#fdca26"
             ],
             [
              1,
              "#f0f921"
             ]
            ],
            "type": "heatmap"
           }
          ],
          "heatmapgl": [
           {
            "colorbar": {
             "outlinewidth": 0,
             "ticks": ""
            },
            "colorscale": [
             [
              0,
              "#0d0887"
             ],
             [
              0.1111111111111111,
              "#46039f"
             ],
             [
              0.2222222222222222,
              "#7201a8"
             ],
             [
              0.3333333333333333,
              "#9c179e"
             ],
             [
              0.4444444444444444,
              "#bd3786"
             ],
             [
              0.5555555555555556,
              "#d8576b"
             ],
             [
              0.6666666666666666,
              "#ed7953"
             ],
             [
              0.7777777777777778,
              "#fb9f3a"
             ],
             [
              0.8888888888888888,
              "#fdca26"
             ],
             [
              1,
              "#f0f921"
             ]
            ],
            "type": "heatmapgl"
           }
          ],
          "histogram": [
           {
            "marker": {
             "colorbar": {
              "outlinewidth": 0,
              "ticks": ""
             }
            },
            "type": "histogram"
           }
          ],
          "histogram2d": [
           {
            "colorbar": {
             "outlinewidth": 0,
             "ticks": ""
            },
            "colorscale": [
             [
              0,
              "#0d0887"
             ],
             [
              0.1111111111111111,
              "#46039f"
             ],
             [
              0.2222222222222222,
              "#7201a8"
             ],
             [
              0.3333333333333333,
              "#9c179e"
             ],
             [
              0.4444444444444444,
              "#bd3786"
             ],
             [
              0.5555555555555556,
              "#d8576b"
             ],
             [
              0.6666666666666666,
              "#ed7953"
             ],
             [
              0.7777777777777778,
              "#fb9f3a"
             ],
             [
              0.8888888888888888,
              "#fdca26"
             ],
             [
              1,
              "#f0f921"
             ]
            ],
            "type": "histogram2d"
           }
          ],
          "histogram2dcontour": [
           {
            "colorbar": {
             "outlinewidth": 0,
             "ticks": ""
            },
            "colorscale": [
             [
              0,
              "#0d0887"
             ],
             [
              0.1111111111111111,
              "#46039f"
             ],
             [
              0.2222222222222222,
              "#7201a8"
             ],
             [
              0.3333333333333333,
              "#9c179e"
             ],
             [
              0.4444444444444444,
              "#bd3786"
             ],
             [
              0.5555555555555556,
              "#d8576b"
             ],
             [
              0.6666666666666666,
              "#ed7953"
             ],
             [
              0.7777777777777778,
              "#fb9f3a"
             ],
             [
              0.8888888888888888,
              "#fdca26"
             ],
             [
              1,
              "#f0f921"
             ]
            ],
            "type": "histogram2dcontour"
           }
          ],
          "mesh3d": [
           {
            "colorbar": {
             "outlinewidth": 0,
             "ticks": ""
            },
            "type": "mesh3d"
           }
          ],
          "parcoords": [
           {
            "line": {
             "colorbar": {
              "outlinewidth": 0,
              "ticks": ""
             }
            },
            "type": "parcoords"
           }
          ],
          "pie": [
           {
            "automargin": true,
            "type": "pie"
           }
          ],
          "scatter": [
           {
            "marker": {
             "colorbar": {
              "outlinewidth": 0,
              "ticks": ""
             }
            },
            "type": "scatter"
           }
          ],
          "scatter3d": [
           {
            "line": {
             "colorbar": {
              "outlinewidth": 0,
              "ticks": ""
             }
            },
            "marker": {
             "colorbar": {
              "outlinewidth": 0,
              "ticks": ""
             }
            },
            "type": "scatter3d"
           }
          ],
          "scattercarpet": [
           {
            "marker": {
             "colorbar": {
              "outlinewidth": 0,
              "ticks": ""
             }
            },
            "type": "scattercarpet"
           }
          ],
          "scattergeo": [
           {
            "marker": {
             "colorbar": {
              "outlinewidth": 0,
              "ticks": ""
             }
            },
            "type": "scattergeo"
           }
          ],
          "scattergl": [
           {
            "marker": {
             "colorbar": {
              "outlinewidth": 0,
              "ticks": ""
             }
            },
            "type": "scattergl"
           }
          ],
          "scattermapbox": [
           {
            "marker": {
             "colorbar": {
              "outlinewidth": 0,
              "ticks": ""
             }
            },
            "type": "scattermapbox"
           }
          ],
          "scatterpolar": [
           {
            "marker": {
             "colorbar": {
              "outlinewidth": 0,
              "ticks": ""
             }
            },
            "type": "scatterpolar"
           }
          ],
          "scatterpolargl": [
           {
            "marker": {
             "colorbar": {
              "outlinewidth": 0,
              "ticks": ""
             }
            },
            "type": "scatterpolargl"
           }
          ],
          "scatterternary": [
           {
            "marker": {
             "colorbar": {
              "outlinewidth": 0,
              "ticks": ""
             }
            },
            "type": "scatterternary"
           }
          ],
          "surface": [
           {
            "colorbar": {
             "outlinewidth": 0,
             "ticks": ""
            },
            "colorscale": [
             [
              0,
              "#0d0887"
             ],
             [
              0.1111111111111111,
              "#46039f"
             ],
             [
              0.2222222222222222,
              "#7201a8"
             ],
             [
              0.3333333333333333,
              "#9c179e"
             ],
             [
              0.4444444444444444,
              "#bd3786"
             ],
             [
              0.5555555555555556,
              "#d8576b"
             ],
             [
              0.6666666666666666,
              "#ed7953"
             ],
             [
              0.7777777777777778,
              "#fb9f3a"
             ],
             [
              0.8888888888888888,
              "#fdca26"
             ],
             [
              1,
              "#f0f921"
             ]
            ],
            "type": "surface"
           }
          ],
          "table": [
           {
            "cells": {
             "fill": {
              "color": "#EBF0F8"
             },
             "line": {
              "color": "white"
             }
            },
            "header": {
             "fill": {
              "color": "#C8D4E3"
             },
             "line": {
              "color": "white"
             }
            },
            "type": "table"
           }
          ]
         },
         "layout": {
          "annotationdefaults": {
           "arrowcolor": "#2a3f5f",
           "arrowhead": 0,
           "arrowwidth": 1
          },
          "coloraxis": {
           "colorbar": {
            "outlinewidth": 0,
            "ticks": ""
           }
          },
          "colorscale": {
           "diverging": [
            [
             0,
             "#8e0152"
            ],
            [
             0.1,
             "#c51b7d"
            ],
            [
             0.2,
             "#de77ae"
            ],
            [
             0.3,
             "#f1b6da"
            ],
            [
             0.4,
             "#fde0ef"
            ],
            [
             0.5,
             "#f7f7f7"
            ],
            [
             0.6,
             "#e6f5d0"
            ],
            [
             0.7,
             "#b8e186"
            ],
            [
             0.8,
             "#7fbc41"
            ],
            [
             0.9,
             "#4d9221"
            ],
            [
             1,
             "#276419"
            ]
           ],
           "sequential": [
            [
             0,
             "#0d0887"
            ],
            [
             0.1111111111111111,
             "#46039f"
            ],
            [
             0.2222222222222222,
             "#7201a8"
            ],
            [
             0.3333333333333333,
             "#9c179e"
            ],
            [
             0.4444444444444444,
             "#bd3786"
            ],
            [
             0.5555555555555556,
             "#d8576b"
            ],
            [
             0.6666666666666666,
             "#ed7953"
            ],
            [
             0.7777777777777778,
             "#fb9f3a"
            ],
            [
             0.8888888888888888,
             "#fdca26"
            ],
            [
             1,
             "#f0f921"
            ]
           ],
           "sequentialminus": [
            [
             0,
             "#0d0887"
            ],
            [
             0.1111111111111111,
             "#46039f"
            ],
            [
             0.2222222222222222,
             "#7201a8"
            ],
            [
             0.3333333333333333,
             "#9c179e"
            ],
            [
             0.4444444444444444,
             "#bd3786"
            ],
            [
             0.5555555555555556,
             "#d8576b"
            ],
            [
             0.6666666666666666,
             "#ed7953"
            ],
            [
             0.7777777777777778,
             "#fb9f3a"
            ],
            [
             0.8888888888888888,
             "#fdca26"
            ],
            [
             1,
             "#f0f921"
            ]
           ]
          },
          "colorway": [
           "#636efa",
           "#EF553B",
           "#00cc96",
           "#ab63fa",
           "#FFA15A",
           "#19d3f3",
           "#FF6692",
           "#B6E880",
           "#FF97FF",
           "#FECB52"
          ],
          "font": {
           "color": "#2a3f5f"
          },
          "geo": {
           "bgcolor": "white",
           "lakecolor": "white",
           "landcolor": "#E5ECF6",
           "showlakes": true,
           "showland": true,
           "subunitcolor": "white"
          },
          "hoverlabel": {
           "align": "left"
          },
          "hovermode": "closest",
          "mapbox": {
           "style": "light"
          },
          "paper_bgcolor": "white",
          "plot_bgcolor": "#E5ECF6",
          "polar": {
           "angularaxis": {
            "gridcolor": "white",
            "linecolor": "white",
            "ticks": ""
           },
           "bgcolor": "#E5ECF6",
           "radialaxis": {
            "gridcolor": "white",
            "linecolor": "white",
            "ticks": ""
           }
          },
          "scene": {
           "xaxis": {
            "backgroundcolor": "#E5ECF6",
            "gridcolor": "white",
            "gridwidth": 2,
            "linecolor": "white",
            "showbackground": true,
            "ticks": "",
            "zerolinecolor": "white"
           },
           "yaxis": {
            "backgroundcolor": "#E5ECF6",
            "gridcolor": "white",
            "gridwidth": 2,
            "linecolor": "white",
            "showbackground": true,
            "ticks": "",
            "zerolinecolor": "white"
           },
           "zaxis": {
            "backgroundcolor": "#E5ECF6",
            "gridcolor": "white",
            "gridwidth": 2,
            "linecolor": "white",
            "showbackground": true,
            "ticks": "",
            "zerolinecolor": "white"
           }
          },
          "shapedefaults": {
           "line": {
            "color": "#2a3f5f"
           }
          },
          "ternary": {
           "aaxis": {
            "gridcolor": "white",
            "linecolor": "white",
            "ticks": ""
           },
           "baxis": {
            "gridcolor": "white",
            "linecolor": "white",
            "ticks": ""
           },
           "bgcolor": "#E5ECF6",
           "caxis": {
            "gridcolor": "white",
            "linecolor": "white",
            "ticks": ""
           }
          },
          "title": {
           "x": 0.05
          },
          "xaxis": {
           "automargin": true,
           "gridcolor": "white",
           "linecolor": "white",
           "ticks": "",
           "title": {
            "standoff": 15
           },
           "zerolinecolor": "white",
           "zerolinewidth": 2
          },
          "yaxis": {
           "automargin": true,
           "gridcolor": "white",
           "linecolor": "white",
           "ticks": "",
           "title": {
            "standoff": 15
           },
           "zerolinecolor": "white",
           "zerolinewidth": 2
          }
         }
        },
        "width": 900
       }
      },
      "text/html": [
       "<div>\n",
       "        \n",
       "        \n",
       "            <div id=\"2e640f21-62b1-44c2-980c-aa3180d8729e\" class=\"plotly-graph-div\" style=\"height:1200px; width:900px;\"></div>\n",
       "            <script type=\"text/javascript\">\n",
       "                require([\"plotly\"], function(Plotly) {\n",
       "                    window.PLOTLYENV=window.PLOTLYENV || {};\n",
       "                    \n",
       "                if (document.getElementById(\"2e640f21-62b1-44c2-980c-aa3180d8729e\")) {\n",
       "                    Plotly.newPlot(\n",
       "                        '2e640f21-62b1-44c2-980c-aa3180d8729e',\n",
       "                        [{\"marker\": {\"color\": \"rgba(229.2156862745098, 77.90196078431373, 52.72549019607843, 1)\", \"line\": {\"color\": \"rgba(229.2156862745098, 77.90196078431373, 52.72549019607843, 1)\", \"width\": 1.5}}, \"name\": \"Iso\", \"orientation\": \"h\", \"type\": \"bar\", \"x\": [0.18899999999999997, 0.111, 0.131, 0.096, 0.086, 0.0, 0.0, 0.0, 0.0, 0.023, 0.0, 0.0, 0.043, 0.051, 0.046, 0.05, 0.031, 0.0, 0.038, 0.040999999999999995, 0.021, 0.033, 0.0, 0.0, 0.025, 0.0, 0.066, 0.066, 0.052000000000000005, 0.0, 0.079, 0.057999999999999996, 0.028999999999999998, 0.024, 0.0, 0.0, 0.114, 0.073, 0.11199999999999999, 0.131, 0.057999999999999996, 0.0], \"y\": [\"Danilo Gallinari\", \"Khris Middleton\", \"Kevin Martin\", \"Jeff Green\", \"Gerald Henderson\", \" \", \"Tyson Chandler\", \"Brandan Wright\", \"DeAndre Jordan\", \"Ian Mahinmi\", \"JaVale McGee\", \"  \", \"Mario Hezonja\", \"Evan Fournier\", \"Marcus Thornton\", \"Kentavious Caldwell-Pope\", \"Markel Brown\", \"   \", \"Al-Farouq Aminu\", \"Robert Covington\", \"Jae Crowder\", \"Gerald Green\", \"Lamar Patterson\", \"    \", \"Alex Len\", \"Roy Hibbert\", \"Brook Lopez\", \"Nene\", \"Greg Monroe\", \"     \", \"Jon Leuer\", \"Terrence Jones\", \"Kelly Olynyk\", \"Darrell Arthur\", \"Mike Scott\", \"      \", \"CJ McCollum\", \"Monta Ellis\", \"John Wall\", \"Eric Bledsoe\", \"Mario Chalmers\", \"       \"]}, {\"marker\": {\"color\": \"rgba(245.76470588235296, 121.74509803921568, 72.88235294117646, 1)\", \"line\": {\"color\": \"rgba(245.76470588235296, 121.74509803921568, 72.88235294117646, 1)\", \"width\": 1.5}}, \"name\": \"Tra\", \"orientation\": \"h\", \"type\": \"bar\", \"x\": [0.099, 0.136, 0.154, 0.141, 0.131, 0.0, 0.05, 0.0, 0.075, 0.078, 0.0, 0.0, 0.159, 0.16, 0.184, 0.222, 0.172, 0.0, 0.179, 0.2, 0.207, 0.17300000000000001, 0.114, 0.0, 0.045, 0.033, 0.037000000000000005, 0.075, 0.054000000000000006, 0.0, 0.106, 0.16699999999999998, 0.139, 0.083, 0.159, 0.0, 0.131, 0.175, 0.235, 0.187, 0.152, 0.0], \"y\": [\"Danilo Gallinari\", \"Khris Middleton\", \"Kevin Martin\", \"Jeff Green\", \"Gerald Henderson\", \" \", \"Tyson Chandler\", \"Brandan Wright\", \"DeAndre Jordan\", \"Ian Mahinmi\", \"JaVale McGee\", \"  \", \"Mario Hezonja\", \"Evan Fournier\", \"Marcus Thornton\", \"Kentavious Caldwell-Pope\", \"Markel Brown\", \"   \", \"Al-Farouq Aminu\", \"Robert Covington\", \"Jae Crowder\", \"Gerald Green\", \"Lamar Patterson\", \"    \", \"Alex Len\", \"Roy Hibbert\", \"Brook Lopez\", \"Nene\", \"Greg Monroe\", \"     \", \"Jon Leuer\", \"Terrence Jones\", \"Kelly Olynyk\", \"Darrell Arthur\", \"Mike Scott\", \"      \", \"CJ McCollum\", \"Monta Ellis\", \"John Wall\", \"Eric Bledsoe\", \"Mario Chalmers\", \"       \"]}, {\"marker\": {\"color\": \"rgba(252.11764705882354, 167.6274509803921, 94.05882352941174, 1)\", \"line\": {\"color\": \"rgba(252.11764705882354, 167.6274509803921, 94.05882352941174, 1)\", \"width\": 1.5}}, \"name\": \"PRB\", \"orientation\": \"h\", \"type\": \"bar\", \"x\": [0.12, 0.18, 0.154, 0.18600000000000003, 0.182, 0.0, 0.0, 0.0, 0.0, 0.0, 0.0, 0.0, 0.204, 0.218, 0.214, 0.22399999999999998, 0.23600000000000002, 0.0, 0.085, 0.045, 0.073, 0.073, 0.114, 0.0, 0.0, 0.0, 0.0, 0.0, 0.0, 0.0, 0.0, 0.0, 0.0, 0.0, 0.0, 0.0, 0.374, 0.38299999999999995, 0.402, 0.382, 0.39899999999999997, 0.0], \"y\": [\"Danilo Gallinari\", \"Khris Middleton\", \"Kevin Martin\", \"Jeff Green\", \"Gerald Henderson\", \" \", \"Tyson Chandler\", \"Brandan Wright\", \"DeAndre Jordan\", \"Ian Mahinmi\", \"JaVale McGee\", \"  \", \"Mario Hezonja\", \"Evan Fournier\", \"Marcus Thornton\", \"Kentavious Caldwell-Pope\", \"Markel Brown\", \"   \", \"Al-Farouq Aminu\", \"Robert Covington\", \"Jae Crowder\", \"Gerald Green\", \"Lamar Patterson\", \"    \", \"Alex Len\", \"Roy Hibbert\", \"Brook Lopez\", \"Nene\", \"Greg Monroe\", \"     \", \"Jon Leuer\", \"Terrence Jones\", \"Kelly Olynyk\", \"Darrell Arthur\", \"Mike Scott\", \"      \", \"CJ McCollum\", \"Monta Ellis\", \"John Wall\", \"Eric Bledsoe\", \"Mario Chalmers\", \"       \"]}, {\"marker\": {\"color\": \"rgba(253.60784313725492, 204.39215686274508, 122.52941176470586, 1)\", \"line\": {\"color\": \"rgba(253.60784313725492, 204.39215686274508, 122.52941176470586, 1)\", \"width\": 1.5}}, \"name\": \"PRR\", \"orientation\": \"h\", \"type\": \"bar\", \"x\": [0.04, 0.017, 0.0, 0.075, 0.0, 0.0, 0.18, 0.33299999999999996, 0.203, 0.209, 0.22699999999999998, 0.0, 0.0, 0.0, 0.0, 0.0, 0.0, 0.0, 0.04, 0.055, 0.038, 0.0, 0.0, 0.0, 0.113, 0.17, 0.212, 0.16899999999999998, 0.10800000000000001, 0.0, 0.235, 0.12, 0.19399999999999998, 0.20800000000000002, 0.188, 0.0, 0.0, 0.0, 0.0, 0.0, 0.0, 0.0], \"y\": [\"Danilo Gallinari\", \"Khris Middleton\", \"Kevin Martin\", \"Jeff Green\", \"Gerald Henderson\", \" \", \"Tyson Chandler\", \"Brandan Wright\", \"DeAndre Jordan\", \"Ian Mahinmi\", \"JaVale McGee\", \"  \", \"Mario Hezonja\", \"Evan Fournier\", \"Marcus Thornton\", \"Kentavious Caldwell-Pope\", \"Markel Brown\", \"   \", \"Al-Farouq Aminu\", \"Robert Covington\", \"Jae Crowder\", \"Gerald Green\", \"Lamar Patterson\", \"    \", \"Alex Len\", \"Roy Hibbert\", \"Brook Lopez\", \"Nene\", \"Greg Monroe\", \"     \", \"Jon Leuer\", \"Terrence Jones\", \"Kelly Olynyk\", \"Darrell Arthur\", \"Mike Scott\", \"      \", \"CJ McCollum\", \"Monta Ellis\", \"John Wall\", \"Eric Bledsoe\", \"Mario Chalmers\", \"       \"]}, {\"marker\": {\"color\": \"rgba(254.31372549019608, 233.72549019607845, 155.31372549019605, 1)\", \"line\": {\"color\": \"rgba(254.31372549019608, 233.72549019607845, 155.31372549019605, 1)\", \"width\": 1.5}}, \"name\": \"Pos\", \"orientation\": \"h\", \"type\": \"bar\", \"x\": [0.085, 0.081, 0.040999999999999995, 0.084, 0.078, 0.0, 0.083, 0.0, 0.07200000000000001, 0.10800000000000001, 0.076, 0.0, 0.0, 0.0, 0.0, 0.0, 0.0, 0.0, 0.021, 0.0, 0.035, 0.027999999999999997, 0.0, 0.0, 0.29600000000000004, 0.293, 0.298, 0.31, 0.33799999999999997, 0.0, 0.075, 0.079, 0.073, 0.08, 0.081, 0.0, 0.0, 0.0, 0.009000000000000001, 0.016, 0.0, 0.0], \"y\": [\"Danilo Gallinari\", \"Khris Middleton\", \"Kevin Martin\", \"Jeff Green\", \"Gerald Henderson\", \" \", \"Tyson Chandler\", \"Brandan Wright\", \"DeAndre Jordan\", \"Ian Mahinmi\", \"JaVale McGee\", \"  \", \"Mario Hezonja\", \"Evan Fournier\", \"Marcus Thornton\", \"Kentavious Caldwell-Pope\", \"Markel Brown\", \"   \", \"Al-Farouq Aminu\", \"Robert Covington\", \"Jae Crowder\", \"Gerald Green\", \"Lamar Patterson\", \"    \", \"Alex Len\", \"Roy Hibbert\", \"Brook Lopez\", \"Nene\", \"Greg Monroe\", \"     \", \"Jon Leuer\", \"Terrence Jones\", \"Kelly Olynyk\", \"Darrell Arthur\", \"Mike Scott\", \"      \", \"CJ McCollum\", \"Monta Ellis\", \"John Wall\", \"Eric Bledsoe\", \"Mario Chalmers\", \"       \"]}, {\"marker\": {\"color\": \"rgba(254.2549019607843, 254.68627450980392, 189.98039215686273, 1)\", \"line\": {\"color\": \"rgba(254.2549019607843, 254.68627450980392, 189.98039215686273, 1)\", \"width\": 1.5}}, \"name\": \"Spo\", \"orientation\": \"h\", \"type\": \"bar\", \"x\": [0.213, 0.16399999999999998, 0.149, 0.179, 0.221, 0.0, 0.040999999999999995, 0.0, 0.0, 0.08, 0.057999999999999996, 0.0, 0.256, 0.248, 0.266, 0.255, 0.289, 0.0, 0.374, 0.37200000000000005, 0.33, 0.35, 0.43, 0.0, 0.09, 0.121, 0.085, 0.061, 0.062, 0.0, 0.23600000000000002, 0.233, 0.249, 0.301, 0.282, 0.0, 0.14800000000000002, 0.147, 0.128, 0.122, 0.168, 0.0], \"y\": [\"Danilo Gallinari\", \"Khris Middleton\", \"Kevin Martin\", \"Jeff Green\", \"Gerald Henderson\", \" \", \"Tyson Chandler\", \"Brandan Wright\", \"DeAndre Jordan\", \"Ian Mahinmi\", \"JaVale McGee\", \"  \", \"Mario Hezonja\", \"Evan Fournier\", \"Marcus Thornton\", \"Kentavious Caldwell-Pope\", \"Markel Brown\", \"   \", \"Al-Farouq Aminu\", \"Robert Covington\", \"Jae Crowder\", \"Gerald Green\", \"Lamar Patterson\", \"    \", \"Alex Len\", \"Roy Hibbert\", \"Brook Lopez\", \"Nene\", \"Greg Monroe\", \"     \", \"Jon Leuer\", \"Terrence Jones\", \"Kelly Olynyk\", \"Darrell Arthur\", \"Mike Scott\", \"      \", \"CJ McCollum\", \"Monta Ellis\", \"John Wall\", \"Eric Bledsoe\", \"Mario Chalmers\", \"       \"]}, {\"marker\": {\"color\": \"rgba(228.921568627451, 244.01960784313727, 155.3137254901961, 1)\", \"line\": {\"color\": \"rgba(228.921568627451, 244.01960784313727, 155.3137254901961, 1)\", \"width\": 1.5}}, \"name\": \"Han\", \"orientation\": \"h\", \"type\": \"bar\", \"x\": [0.066, 0.10300000000000001, 0.053, 0.040999999999999995, 0.07400000000000001, 0.0, 0.0, 0.0, 0.0, 0.0, 0.0, 0.0, 0.07400000000000001, 0.086, 0.066, 0.052000000000000005, 0.038, 0.0, 0.06, 0.081, 0.065, 0.11800000000000001, 0.0, 0.0, 0.0, 0.0, 0.006999999999999999, 0.0, 0.0, 0.0, 0.019, 0.0, 0.05, 0.0, 0.0, 0.0, 0.078, 0.067, 0.025, 0.027000000000000003, 0.06, 0.0], \"y\": [\"Danilo Gallinari\", \"Khris Middleton\", \"Kevin Martin\", \"Jeff Green\", \"Gerald Henderson\", \" \", \"Tyson Chandler\", \"Brandan Wright\", \"DeAndre Jordan\", \"Ian Mahinmi\", \"JaVale McGee\", \"  \", \"Mario Hezonja\", \"Evan Fournier\", \"Marcus Thornton\", \"Kentavious Caldwell-Pope\", \"Markel Brown\", \"   \", \"Al-Farouq Aminu\", \"Robert Covington\", \"Jae Crowder\", \"Gerald Green\", \"Lamar Patterson\", \"    \", \"Alex Len\", \"Roy Hibbert\", \"Brook Lopez\", \"Nene\", \"Greg Monroe\", \"     \", \"Jon Leuer\", \"Terrence Jones\", \"Kelly Olynyk\", \"Darrell Arthur\", \"Mike Scott\", \"      \", \"CJ McCollum\", \"Monta Ellis\", \"John Wall\", \"Eric Bledsoe\", \"Mario Chalmers\", \"       \"]}, {\"marker\": {\"color\": \"rgba(197.00000000000006, 230.37254901960785, 126.0588235294118, 1)\", \"line\": {\"color\": \"rgba(197.00000000000006, 230.37254901960785, 126.0588235294118, 1)\", \"width\": 1.5}}, \"name\": \"Cut\", \"orientation\": \"h\", \"type\": \"bar\", \"x\": [0.054000000000000006, 0.021, 0.046, 0.077, 0.053, 0.0, 0.267, 0.19399999999999998, 0.20800000000000002, 0.29600000000000004, 0.29100000000000004, 0.0, 0.031, 0.045, 0.044000000000000004, 0.032, 0.045, 0.0, 0.051, 0.035, 0.055999999999999994, 0.036000000000000004, 0.096, 0.0, 0.19699999999999998, 0.11800000000000001, 0.13699999999999998, 0.213, 0.17600000000000002, 0.0, 0.08900000000000001, 0.14800000000000002, 0.075, 0.11800000000000001, 0.152, 0.0, 0.022000000000000002, 0.019, 0.009000000000000001, 0.016, 0.023, 0.0], \"y\": [\"Danilo Gallinari\", \"Khris Middleton\", \"Kevin Martin\", \"Jeff Green\", \"Gerald Henderson\", \" \", \"Tyson Chandler\", \"Brandan Wright\", \"DeAndre Jordan\", \"Ian Mahinmi\", \"JaVale McGee\", \"  \", \"Mario Hezonja\", \"Evan Fournier\", \"Marcus Thornton\", \"Kentavious Caldwell-Pope\", \"Markel Brown\", \"   \", \"Al-Farouq Aminu\", \"Robert Covington\", \"Jae Crowder\", \"Gerald Green\", \"Lamar Patterson\", \"    \", \"Alex Len\", \"Roy Hibbert\", \"Brook Lopez\", \"Nene\", \"Greg Monroe\", \"     \", \"Jon Leuer\", \"Terrence Jones\", \"Kelly Olynyk\", \"Darrell Arthur\", \"Mike Scott\", \"      \", \"CJ McCollum\", \"Monta Ellis\", \"John Wall\", \"Eric Bledsoe\", \"Mario Chalmers\", \"       \"]}, {\"marker\": {\"color\": \"rgba(159.7254901960785, 214.25490196078434, 105.31372549019609, 1)\", \"line\": {\"color\": \"rgba(159.7254901960785, 214.25490196078434, 105.31372549019609, 1)\", \"width\": 1.5}}, \"name\": \"Off\", \"orientation\": \"h\", \"type\": \"bar\", \"x\": [0.047, 0.11800000000000001, 0.22, 0.057999999999999996, 0.083, 0.0, 0.0, 0.0, 0.0, 0.0, 0.0, 0.0, 0.139, 0.126, 0.078, 0.081, 0.08800000000000001, 0.0, 0.05, 0.049, 0.07400000000000001, 0.11199999999999999, 0.0, 0.0, 0.018000000000000002, 0.0, 0.013000000000000001, 0.0, 0.011000000000000001, 0.0, 0.0, 0.0, 0.057, 0.026000000000000002, 0.0, 0.0, 0.08, 0.055999999999999994, 0.016, 0.044000000000000004, 0.024, 0.0], \"y\": [\"Danilo Gallinari\", \"Khris Middleton\", \"Kevin Martin\", \"Jeff Green\", \"Gerald Henderson\", \" \", \"Tyson Chandler\", \"Brandan Wright\", \"DeAndre Jordan\", \"Ian Mahinmi\", \"JaVale McGee\", \"  \", \"Mario Hezonja\", \"Evan Fournier\", \"Marcus Thornton\", \"Kentavious Caldwell-Pope\", \"Markel Brown\", \"   \", \"Al-Farouq Aminu\", \"Robert Covington\", \"Jae Crowder\", \"Gerald Green\", \"Lamar Patterson\", \"    \", \"Alex Len\", \"Roy Hibbert\", \"Brook Lopez\", \"Nene\", \"Greg Monroe\", \"     \", \"Jon Leuer\", \"Terrence Jones\", \"Kelly Olynyk\", \"Darrell Arthur\", \"Mike Scott\", \"      \", \"CJ McCollum\", \"Monta Ellis\", \"John Wall\", \"Eric Bledsoe\", \"Mario Chalmers\", \"       \"]}, {\"marker\": {\"color\": \"rgba(114.54901960784316, 194.49019607843138, 100.37254901960786, 1)\", \"line\": {\"color\": \"rgba(114.54901960784316, 194.49019607843138, 100.37254901960786, 1)\", \"width\": 1.5}}, \"name\": \"OffR\", \"orientation\": \"h\", \"type\": \"bar\", \"x\": [0.035, 0.013000000000000001, 0.0, 0.051, 0.024, 0.0, 0.215, 0.0, 0.174, 0.091, 0.198, 0.0, 0.026000000000000002, 0.015, 0.034, 0.034, 0.033, 0.0, 0.057999999999999996, 0.039, 0.035, 0.027999999999999997, 0.0, 0.0, 0.127, 0.125, 0.099, 0.035, 0.141, 0.0, 0.084, 0.08800000000000001, 0.066, 0.078, 0.055999999999999994, 0.0, 0.012, 0.013999999999999999, 0.01, 0.0, 0.023, 0.0], \"y\": [\"Danilo Gallinari\", \"Khris Middleton\", \"Kevin Martin\", \"Jeff Green\", \"Gerald Henderson\", \" \", \"Tyson Chandler\", \"Brandan Wright\", \"DeAndre Jordan\", \"Ian Mahinmi\", \"JaVale McGee\", \"  \", \"Mario Hezonja\", \"Evan Fournier\", \"Marcus Thornton\", \"Kentavious Caldwell-Pope\", \"Markel Brown\", \"   \", \"Al-Farouq Aminu\", \"Robert Covington\", \"Jae Crowder\", \"Gerald Green\", \"Lamar Patterson\", \"    \", \"Alex Len\", \"Roy Hibbert\", \"Brook Lopez\", \"Nene\", \"Greg Monroe\", \"     \", \"Jon Leuer\", \"Terrence Jones\", \"Kelly Olynyk\", \"Darrell Arthur\", \"Mike Scott\", \"      \", \"CJ McCollum\", \"Monta Ellis\", \"John Wall\", \"Eric Bledsoe\", \"Mario Chalmers\", \"       \"]}, {\"marker\": {\"color\": \"rgba(63.254901960784316, 170.1372549019608, 89.31372549019608, 1)\", \"line\": {\"color\": \"rgba(63.254901960784316, 170.1372549019608, 89.31372549019608, 1)\", \"width\": 1.5}}, \"name\": \"Misc\", \"orientation\": \"h\", \"type\": \"bar\", \"x\": [0.053, 0.055, 0.044000000000000004, 0.055, 0.057, 0.0, 0.151, 0.0, 0.254, 0.109, 0.081, 0.0, 0.057, 0.044000000000000004, 0.057999999999999996, 0.047, 0.064, 0.0, 0.044000000000000004, 0.08, 0.066, 0.046, 0.0, 0.0, 0.084, 0.11199999999999999, 0.047, 0.059000000000000004, 0.047, 0.0, 0.063, 0.079, 0.057, 0.078, 0.036000000000000004, 0.0, 0.037000000000000005, 0.055, 0.054000000000000006, 0.06, 0.09, 0.0], \"y\": [\"Danilo Gallinari\", \"Khris Middleton\", \"Kevin Martin\", \"Jeff Green\", \"Gerald Henderson\", \" \", \"Tyson Chandler\", \"Brandan Wright\", \"DeAndre Jordan\", \"Ian Mahinmi\", \"JaVale McGee\", \"  \", \"Mario Hezonja\", \"Evan Fournier\", \"Marcus Thornton\", \"Kentavious Caldwell-Pope\", \"Markel Brown\", \"   \", \"Al-Farouq Aminu\", \"Robert Covington\", \"Jae Crowder\", \"Gerald Green\", \"Lamar Patterson\", \"    \", \"Alex Len\", \"Roy Hibbert\", \"Brook Lopez\", \"Nene\", \"Greg Monroe\", \"     \", \"Jon Leuer\", \"Terrence Jones\", \"Kelly Olynyk\", \"Darrell Arthur\", \"Mike Scott\", \"      \", \"CJ McCollum\", \"Monta Ellis\", \"John Wall\", \"Eric Bledsoe\", \"Mario Chalmers\", \"       \"]}],\n",
       "                        {\"autosize\": true, \"barmode\": \"stack\", \"height\": 1200, \"template\": {\"data\": {\"bar\": [{\"error_x\": {\"color\": \"#2a3f5f\"}, \"error_y\": {\"color\": \"#2a3f5f\"}, \"marker\": {\"line\": {\"color\": \"#E5ECF6\", \"width\": 0.5}}, \"type\": \"bar\"}], \"barpolar\": [{\"marker\": {\"line\": {\"color\": \"#E5ECF6\", \"width\": 0.5}}, \"type\": \"barpolar\"}], \"carpet\": [{\"aaxis\": {\"endlinecolor\": \"#2a3f5f\", \"gridcolor\": \"white\", \"linecolor\": \"white\", \"minorgridcolor\": \"white\", \"startlinecolor\": \"#2a3f5f\"}, \"baxis\": {\"endlinecolor\": \"#2a3f5f\", \"gridcolor\": \"white\", \"linecolor\": \"white\", \"minorgridcolor\": \"white\", \"startlinecolor\": \"#2a3f5f\"}, \"type\": \"carpet\"}], \"choropleth\": [{\"colorbar\": {\"outlinewidth\": 0, \"ticks\": \"\"}, \"type\": \"choropleth\"}], \"contour\": [{\"colorbar\": {\"outlinewidth\": 0, \"ticks\": \"\"}, \"colorscale\": [[0.0, \"#0d0887\"], [0.1111111111111111, \"#46039f\"], [0.2222222222222222, \"#7201a8\"], [0.3333333333333333, \"#9c179e\"], [0.4444444444444444, \"#bd3786\"], [0.5555555555555556, \"#d8576b\"], [0.6666666666666666, \"#ed7953\"], [0.7777777777777778, \"#fb9f3a\"], [0.8888888888888888, \"#fdca26\"], [1.0, \"#f0f921\"]], \"type\": \"contour\"}], \"contourcarpet\": [{\"colorbar\": {\"outlinewidth\": 0, \"ticks\": \"\"}, \"type\": \"contourcarpet\"}], \"heatmap\": [{\"colorbar\": {\"outlinewidth\": 0, \"ticks\": \"\"}, \"colorscale\": [[0.0, \"#0d0887\"], [0.1111111111111111, \"#46039f\"], [0.2222222222222222, \"#7201a8\"], [0.3333333333333333, \"#9c179e\"], [0.4444444444444444, \"#bd3786\"], [0.5555555555555556, \"#d8576b\"], [0.6666666666666666, \"#ed7953\"], [0.7777777777777778, \"#fb9f3a\"], [0.8888888888888888, \"#fdca26\"], [1.0, \"#f0f921\"]], \"type\": \"heatmap\"}], \"heatmapgl\": [{\"colorbar\": {\"outlinewidth\": 0, \"ticks\": \"\"}, \"colorscale\": [[0.0, \"#0d0887\"], [0.1111111111111111, \"#46039f\"], [0.2222222222222222, \"#7201a8\"], [0.3333333333333333, \"#9c179e\"], [0.4444444444444444, \"#bd3786\"], [0.5555555555555556, \"#d8576b\"], [0.6666666666666666, \"#ed7953\"], [0.7777777777777778, \"#fb9f3a\"], [0.8888888888888888, \"#fdca26\"], [1.0, \"#f0f921\"]], \"type\": \"heatmapgl\"}], \"histogram\": [{\"marker\": {\"colorbar\": {\"outlinewidth\": 0, \"ticks\": \"\"}}, \"type\": \"histogram\"}], \"histogram2d\": [{\"colorbar\": {\"outlinewidth\": 0, \"ticks\": \"\"}, \"colorscale\": [[0.0, \"#0d0887\"], [0.1111111111111111, \"#46039f\"], [0.2222222222222222, \"#7201a8\"], [0.3333333333333333, \"#9c179e\"], [0.4444444444444444, \"#bd3786\"], [0.5555555555555556, \"#d8576b\"], [0.6666666666666666, \"#ed7953\"], [0.7777777777777778, \"#fb9f3a\"], [0.8888888888888888, \"#fdca26\"], [1.0, \"#f0f921\"]], \"type\": \"histogram2d\"}], \"histogram2dcontour\": [{\"colorbar\": {\"outlinewidth\": 0, \"ticks\": \"\"}, \"colorscale\": [[0.0, \"#0d0887\"], [0.1111111111111111, \"#46039f\"], [0.2222222222222222, \"#7201a8\"], [0.3333333333333333, \"#9c179e\"], [0.4444444444444444, \"#bd3786\"], [0.5555555555555556, \"#d8576b\"], [0.6666666666666666, \"#ed7953\"], [0.7777777777777778, \"#fb9f3a\"], [0.8888888888888888, \"#fdca26\"], [1.0, \"#f0f921\"]], \"type\": \"histogram2dcontour\"}], \"mesh3d\": [{\"colorbar\": {\"outlinewidth\": 0, \"ticks\": \"\"}, \"type\": \"mesh3d\"}], \"parcoords\": [{\"line\": {\"colorbar\": {\"outlinewidth\": 0, \"ticks\": \"\"}}, \"type\": \"parcoords\"}], \"pie\": [{\"automargin\": true, \"type\": \"pie\"}], \"scatter\": [{\"marker\": {\"colorbar\": {\"outlinewidth\": 0, \"ticks\": \"\"}}, \"type\": \"scatter\"}], \"scatter3d\": [{\"line\": {\"colorbar\": {\"outlinewidth\": 0, \"ticks\": \"\"}}, \"marker\": {\"colorbar\": {\"outlinewidth\": 0, \"ticks\": \"\"}}, \"type\": \"scatter3d\"}], \"scattercarpet\": [{\"marker\": {\"colorbar\": {\"outlinewidth\": 0, \"ticks\": \"\"}}, \"type\": \"scattercarpet\"}], \"scattergeo\": [{\"marker\": {\"colorbar\": {\"outlinewidth\": 0, \"ticks\": \"\"}}, \"type\": \"scattergeo\"}], \"scattergl\": [{\"marker\": {\"colorbar\": {\"outlinewidth\": 0, \"ticks\": \"\"}}, \"type\": \"scattergl\"}], \"scattermapbox\": [{\"marker\": {\"colorbar\": {\"outlinewidth\": 0, \"ticks\": \"\"}}, \"type\": \"scattermapbox\"}], \"scatterpolar\": [{\"marker\": {\"colorbar\": {\"outlinewidth\": 0, \"ticks\": \"\"}}, \"type\": \"scatterpolar\"}], \"scatterpolargl\": [{\"marker\": {\"colorbar\": {\"outlinewidth\": 0, \"ticks\": \"\"}}, \"type\": \"scatterpolargl\"}], \"scatterternary\": [{\"marker\": {\"colorbar\": {\"outlinewidth\": 0, \"ticks\": \"\"}}, \"type\": \"scatterternary\"}], \"surface\": [{\"colorbar\": {\"outlinewidth\": 0, \"ticks\": \"\"}, \"colorscale\": [[0.0, \"#0d0887\"], [0.1111111111111111, \"#46039f\"], [0.2222222222222222, \"#7201a8\"], [0.3333333333333333, \"#9c179e\"], [0.4444444444444444, \"#bd3786\"], [0.5555555555555556, \"#d8576b\"], [0.6666666666666666, \"#ed7953\"], [0.7777777777777778, \"#fb9f3a\"], [0.8888888888888888, \"#fdca26\"], [1.0, \"#f0f921\"]], \"type\": \"surface\"}], \"table\": [{\"cells\": {\"fill\": {\"color\": \"#EBF0F8\"}, \"line\": {\"color\": \"white\"}}, \"header\": {\"fill\": {\"color\": \"#C8D4E3\"}, \"line\": {\"color\": \"white\"}}, \"type\": \"table\"}]}, \"layout\": {\"annotationdefaults\": {\"arrowcolor\": \"#2a3f5f\", \"arrowhead\": 0, \"arrowwidth\": 1}, \"coloraxis\": {\"colorbar\": {\"outlinewidth\": 0, \"ticks\": \"\"}}, \"colorscale\": {\"diverging\": [[0, \"#8e0152\"], [0.1, \"#c51b7d\"], [0.2, \"#de77ae\"], [0.3, \"#f1b6da\"], [0.4, \"#fde0ef\"], [0.5, \"#f7f7f7\"], [0.6, \"#e6f5d0\"], [0.7, \"#b8e186\"], [0.8, \"#7fbc41\"], [0.9, \"#4d9221\"], [1, \"#276419\"]], \"sequential\": [[0.0, \"#0d0887\"], [0.1111111111111111, \"#46039f\"], [0.2222222222222222, \"#7201a8\"], [0.3333333333333333, \"#9c179e\"], [0.4444444444444444, \"#bd3786\"], [0.5555555555555556, \"#d8576b\"], [0.6666666666666666, \"#ed7953\"], [0.7777777777777778, \"#fb9f3a\"], [0.8888888888888888, \"#fdca26\"], [1.0, \"#f0f921\"]], \"sequentialminus\": [[0.0, \"#0d0887\"], [0.1111111111111111, \"#46039f\"], [0.2222222222222222, \"#7201a8\"], [0.3333333333333333, \"#9c179e\"], [0.4444444444444444, \"#bd3786\"], [0.5555555555555556, \"#d8576b\"], [0.6666666666666666, \"#ed7953\"], [0.7777777777777778, \"#fb9f3a\"], [0.8888888888888888, \"#fdca26\"], [1.0, \"#f0f921\"]]}, \"colorway\": [\"#636efa\", \"#EF553B\", \"#00cc96\", \"#ab63fa\", \"#FFA15A\", \"#19d3f3\", \"#FF6692\", \"#B6E880\", \"#FF97FF\", \"#FECB52\"], \"font\": {\"color\": \"#2a3f5f\"}, \"geo\": {\"bgcolor\": \"white\", \"lakecolor\": \"white\", \"landcolor\": \"#E5ECF6\", \"showlakes\": true, \"showland\": true, \"subunitcolor\": \"white\"}, \"hoverlabel\": {\"align\": \"left\"}, \"hovermode\": \"closest\", \"mapbox\": {\"style\": \"light\"}, \"paper_bgcolor\": \"white\", \"plot_bgcolor\": \"#E5ECF6\", \"polar\": {\"angularaxis\": {\"gridcolor\": \"white\", \"linecolor\": \"white\", \"ticks\": \"\"}, \"bgcolor\": \"#E5ECF6\", \"radialaxis\": {\"gridcolor\": \"white\", \"linecolor\": \"white\", \"ticks\": \"\"}}, \"scene\": {\"xaxis\": {\"backgroundcolor\": \"#E5ECF6\", \"gridcolor\": \"white\", \"gridwidth\": 2, \"linecolor\": \"white\", \"showbackground\": true, \"ticks\": \"\", \"zerolinecolor\": \"white\"}, \"yaxis\": {\"backgroundcolor\": \"#E5ECF6\", \"gridcolor\": \"white\", \"gridwidth\": 2, \"linecolor\": \"white\", \"showbackground\": true, \"ticks\": \"\", \"zerolinecolor\": \"white\"}, \"zaxis\": {\"backgroundcolor\": \"#E5ECF6\", \"gridcolor\": \"white\", \"gridwidth\": 2, \"linecolor\": \"white\", \"showbackground\": true, \"ticks\": \"\", \"zerolinecolor\": \"white\"}}, \"shapedefaults\": {\"line\": {\"color\": \"#2a3f5f\"}}, \"ternary\": {\"aaxis\": {\"gridcolor\": \"white\", \"linecolor\": \"white\", \"ticks\": \"\"}, \"baxis\": {\"gridcolor\": \"white\", \"linecolor\": \"white\", \"ticks\": \"\"}, \"bgcolor\": \"#E5ECF6\", \"caxis\": {\"gridcolor\": \"white\", \"linecolor\": \"white\", \"ticks\": \"\"}}, \"title\": {\"x\": 0.05}, \"xaxis\": {\"automargin\": true, \"gridcolor\": \"white\", \"linecolor\": \"white\", \"ticks\": \"\", \"title\": {\"standoff\": 15}, \"zerolinecolor\": \"white\", \"zerolinewidth\": 2}, \"yaxis\": {\"automargin\": true, \"gridcolor\": \"white\", \"linecolor\": \"white\", \"ticks\": \"\", \"title\": {\"standoff\": 15}, \"zerolinecolor\": \"white\", \"zerolinewidth\": 2}}}, \"width\": 900},\n",
       "                        {\"responsive\": true}\n",
       "                    ).then(function(){\n",
       "                            \n",
       "var gd = document.getElementById('2e640f21-62b1-44c2-980c-aa3180d8729e');\n",
       "var x = new MutationObserver(function (mutations, observer) {{\n",
       "        var display = window.getComputedStyle(gd).display;\n",
       "        if (!display || display === 'none') {{\n",
       "            console.log([gd, 'removed!']);\n",
       "            Plotly.purge(gd);\n",
       "            observer.disconnect();\n",
       "        }}\n",
       "}});\n",
       "\n",
       "// Listen for the removal of the full notebook cells\n",
       "var notebookContainer = gd.closest('#notebook-container');\n",
       "if (notebookContainer) {{\n",
       "    x.observe(notebookContainer, {childList: true});\n",
       "}}\n",
       "\n",
       "// Listen for the clearing of the current output cell\n",
       "var outputEl = gd.closest('.output');\n",
       "if (outputEl) {{\n",
       "    x.observe(outputEl, {childList: true});\n",
       "}}\n",
       "\n",
       "                        })\n",
       "                };\n",
       "                });\n",
       "            </script>\n",
       "        </div>"
      ]
     },
     "metadata": {},
     "output_type": "display_data"
    }
   ],
   "source": [
    "def pca_processing(fname, n_comp=3):\n",
    "    '''\n",
    "    Function to decrease the dimension of the players based on their POSS_PCT\n",
    "    :param fname: the path of the pca_table file\n",
    "    :param n_comp: the number of main components we want to use\n",
    "    :return: data after pca with dimension n*n_comp; player names\n",
    "    '''\n",
    "    df = pd.read_csv(fname)\n",
    "    kept_cols = [\n",
    "        col for col in df.columns if col.endswith(\"freq\")\n",
    "    ]\n",
    "    kept_cols.append(\"PLAYER_NAME\")\n",
    "    kept_cols.reverse()\n",
    "    df = df[kept_cols]\n",
    "\n",
    "    player_name = df[\"PLAYER_NAME\"]\n",
    "    data_org = df.iloc[:, 2:]\n",
    "    pca = PCA(n_components=n_comp)\n",
    "    pca.fit(data_org)\n",
    "    data_pca = data_org @ pca.components_.T\n",
    "    assert len(data_pca) == len(player_name)\n",
    "\n",
    "    return data_pca, player_name\n",
    "\n",
    "\n",
    "def k_means(fname, dim=3, cluster_num=5):\n",
    "    '''\n",
    "    Function to cluster the data into cluster_num groups and visualize them in a 3D space\n",
    "    :param fname: the path of the pca_table file\n",
    "    :param dim: the number of dimensions we want to use\n",
    "    :param cluster_num: the number of clusters we want to cluster them\n",
    "    :return: NONE\n",
    "    '''\n",
    "    assert isinstance(fname, str)\n",
    "    data, names = pca_processing(fname, dim)\n",
    "    X = np.array(data)\n",
    "    k_means = KMeans(n_clusters=cluster_num).fit(X)\n",
    "    labels = k_means.labels_\n",
    "    distance = k_means.transform(X)\n",
    "    return names, X, labels, distance\n",
    "\n",
    "\n",
    "def calculate_top5(distance, names):\n",
    "    '''\n",
    "    Function to find the top5 players who are the most closest to the k-means's cluster center\n",
    "    :param distance: Distance of each player to the clusters\n",
    "    :param names: names of each player\n",
    "    :return: top5 names of each clusters\n",
    "    '''\n",
    "    dim = len(distance[0])\n",
    "    result = np.zeros((dim, 5))\n",
    "    top5_name = []\n",
    "    for i in range(dim):\n",
    "        temp = []\n",
    "        curr = np.array(distance[:, i])\n",
    "        min_5 = curr.argsort()[:5]\n",
    "        result[i, :] = min_5\n",
    "        for index in min_5:\n",
    "            temp.append(names[index])\n",
    "        top5_name.append(temp)\n",
    "    return top5_name\n",
    "\n",
    "def top5_img(distance, names, year, cluster_num = 7, test = False):\n",
    "    '''\n",
    "    :param distance: distance of player to kmeans center\n",
    "    :param names: player names\n",
    "    :param year: year\n",
    "    :return: dictionary of player names and their play type\n",
    "    '''\n",
    "    assert 2015 <= year <= 2019\n",
    "    top5names = calculate_top5(distance, names)\n",
    "    path = \"data/data_cleaned/pca_data/\" + str(year) + \"_pca_table.csv\"\n",
    "    if test:\n",
    "        path = \"../data/data_cleaned/pca_data/\" + str(year) + \"_pca_table.csv\"\n",
    "    df = pd.read_csv(path)\n",
    "    data_per_player = np.zeros((1, 11))\n",
    "    for i in range(len(top5names)):\n",
    "        for j in range(len(top5names[i])):\n",
    "            new_df = df[df['PLAYER_NAME'] == top5names[i][j]]\n",
    "            data = new_df[\n",
    "                [\"iso_freq\", \"tr_freq\", \"prb_freq\", \"prr_freq\", \"pu_freq\", \"su_freq\", \"ho_freq\", \"cut_freq\", \"os_freq\",\n",
    "                 \"putback_freq\", \"misc_freq\"]]\n",
    "            data = data.values.tolist()\n",
    "            data = np.array(data)[0]\n",
    "            data_per_player = np.vstack((data_per_player, data))\n",
    "    data_per_player = data_per_player[1:,:]\n",
    "    result = {}\n",
    "    for i in range(cluster_num):\n",
    "        for j in range(5):\n",
    "            result[top5names[i][j]] = data_per_player[i * 5 + j, :]\n",
    "    return result\n",
    "\n",
    "def update_app1():\n",
    "    \"\"\"\n",
    "    Updates App 1\n",
    "    \"\"\"\n",
    "    fig = go.Figure()\n",
    "    final_list = ['2015', '2016', '2017', '2018', '2019']\n",
    "    dims = [7, 7, 7, 8, 8]\n",
    "    count = 0\n",
    "\n",
    "    for each in final_list:\n",
    "        names, X, labels, _ = k_means('data/data_cleaned/pca_data/' + each + '_pca_table.csv', dim=3,\n",
    "                                      cluster_num=dims[count])\n",
    "        count += 1\n",
    "        fig.add_trace(\n",
    "            go.Scatter3d(x=X[:, 1], y=X[:, 0], z=X[:, 2], text=names, hoverinfo='text', mode='markers',\n",
    "                         marker=dict(color=labels), visible=False, name=\"Player Clusters for \" + each)\n",
    "        )\n",
    "\n",
    "    # print(len(fig.data))\n",
    "    fig.data[0].visible = True\n",
    "\n",
    "    steps = []\n",
    "    for i in range(len(fig.data)):\n",
    "        step = dict(\n",
    "            method=\"restyle\",\n",
    "            args=[\"visible\", [False] * len(fig.data)],\n",
    "            label='Year ' + str(i + 2015)\n",
    "\n",
    "        )\n",
    "        step[\"args\"][1][i] = True  # Toggle i'th trace to \"visible\"\n",
    "        steps.append(step)\n",
    "\n",
    "    sliders = [dict(\n",
    "        active=5,\n",
    "        currentvalue={\"prefix\": \"Year: \"},\n",
    "        pad={\"t\": 5},\n",
    "        steps=steps\n",
    "    )]\n",
    "    start_index = 2015\n",
    "    fig.update_layout(\n",
    "        sliders=sliders,\n",
    "        # title = \"9 Cluster classification of players based on Scoring Styles\"\n",
    "        title={\"text\": \"Scoring Clusters Per Year\"}\n",
    "    )\n",
    "    return fig\n",
    "\n",
    "def update_app3(year):\n",
    "    \"\"\"\n",
    "    Updates App3\n",
    "    \"\"\"\n",
    "    category_names = [\"Iso\", \"Tra\", \"PRB\", \"PRR\", \"Pos\", \"Spo\", \"Han\", \"Cut\", \"Off\", \"OffR\", \"Misc\"]\n",
    "    dims = {\"2015\": 7, \"2016\": 7, \"2017\": 7, \"2018\": 8, \"2019\": 8}\n",
    "    print(year)\n",
    "    print(dims[year])\n",
    "    names, _, _, distance = k_means(\"data/data_cleaned/pca_data/\" + year + '_pca_table.csv', 3, dims[year])\n",
    "    results = top5_img(distance, names, int(year), dims[year])\n",
    "    labels = list(results.keys())\n",
    "    new_labels = []\n",
    "    start = \" \"\n",
    "    for i in range(len(labels)):\n",
    "        new_labels.append(labels[i])\n",
    "        if i % 5 == 4:\n",
    "            new_labels.append(start)\n",
    "            start += \" \"\n",
    "    labels = new_labels\n",
    "    print(labels)\n",
    "    data = np.array(list(results.values()))\n",
    "    new_data = []\n",
    "    for i in range(len(data)):\n",
    "        new_data.append(data[i])\n",
    "        if i % 5 == 4:\n",
    "            new_data.append(np.zeros(shape=data[0].shape))\n",
    "    data = np.array(new_data)\n",
    "\n",
    "    data_cum = data.cumsum(axis=1)\n",
    "    category_colors = plt.get_cmap('RdYlGn')(\n",
    "        np.linspace(0.15, 0.85, data.shape[1]))\n",
    "\n",
    "    fig = go.Figure()\n",
    "    for i, (colname, color) in enumerate(zip(category_names, category_colors)):\n",
    "        widths = data[:, i]\n",
    "        color = tuple([color[i] * 255 for i in range(3)] + [1])\n",
    "        starts = data_cum[:, i] - widths\n",
    "        fig.add_trace(go.Bar(\n",
    "            y=labels,\n",
    "            x=widths,\n",
    "            name=colname,\n",
    "            orientation='h',\n",
    "            marker=dict(\n",
    "                color='rgba' + str(color),\n",
    "                line=dict(color='rgba' + str(color), width=1.5)\n",
    "            )\n",
    "        )\n",
    "        )\n",
    "    fig.update_layout(autosize=True, width=900, height=1200, barmode='stack')\n",
    "    return fig\n",
    "\n",
    "\n",
    "\n",
    "names, X, labels, distance = k_means('data/data_cleaned/pca_data/2015_pca_table.csv', 3, 7)\n",
    "# results = top5_img(distance, names, 2015)\n",
    "#print(results)\n",
    "print(len(labels))\n",
    "a = update_app3('2015')\n",
    "a.show()\n",
    "cluster_index = {}\n",
    "for i in range(len(names)):\n",
    "    cluster_index[names[i]] = labels[i]\n",
    "    \n",
    "    \n",
    "\n"
   ]
  },
  {
   "cell_type": "code",
   "execution_count": 16,
   "metadata": {},
   "outputs": [],
   "source": [
    "update_app1()\n",
    "\n",
    "cluster_names = {cluster_index['Jeff Green']: \"Versatile Wings\", cluster_index['Eric Bledsoe']: \"PnR/Ball handling Guards\", cluster_index['Kentavious Caldwell-Pope']: \"C&S Guards\", cluster_index['Robert Covington']:  \"Perimeter Wings\", cluster_index['Brook Lopez']: \"Post-Up Bigs\", cluster_index['Mike Scott']: \"Stretch 4s\", cluster_index['DeAndre Jordan']: \"Rolling Bigs\"}\n"
   ]
  },
  {
   "cell_type": "code",
   "execution_count": 21,
   "metadata": {},
   "outputs": [
    {
     "name": "stdout",
     "output_type": "stream",
     "text": [
      "defaultdict(<class 'float'>, {'PnR/Ball handling Guards': 0.9086360344481821, 'Stretch 4s': 0.9335830291559645, 'Post-Up Bigs': 0.9644462762734028, 'Perimeter Wings': 0.9603076749725512, 'Rolling Bigs': 0.9912432101503071, 'Versatile Wings': 0.972922086149388, 'C&S Guards': 0.9397766071680584})\n"
     ]
    },
    {
     "data": {
      "application/vnd.plotly.v1+json": {
       "config": {
        "plotlyServerURL": "https://plot.ly"
       },
       "data": [
        {
         "alignmentgroup": "True",
         "hoverlabel": {
          "namelength": 0
         },
         "hovertemplate": "Play-Style=PnR/Ball handling Guards<br>Play-Style Cluster=%{x}<br>Normalized Possession Share=%{y}",
         "legendgroup": "Play-Style=PnR/Ball handling Guards",
         "marker": {
          "color": "#636efa"
         },
         "name": "Play-Style=PnR/Ball handling Guards",
         "offsetgroup": "Play-Style=PnR/Ball handling Guards",
         "orientation": "v",
         "showlegend": true,
         "textposition": "auto",
         "type": "bar",
         "x": [
          "PnR/Ball handling Guards"
         ],
         "xaxis": "x",
         "y": [
          1
         ],
         "yaxis": "y"
        },
        {
         "alignmentgroup": "True",
         "hoverlabel": {
          "namelength": 0
         },
         "hovertemplate": "Play-Style=Stretch 4s<br>Play-Style Cluster=%{x}<br>Normalized Possession Share=%{y}",
         "legendgroup": "Play-Style=Stretch 4s",
         "marker": {
          "color": "#EF553B"
         },
         "name": "Play-Style=Stretch 4s",
         "offsetgroup": "Play-Style=Stretch 4s",
         "orientation": "v",
         "showlegend": true,
         "textposition": "auto",
         "type": "bar",
         "x": [
          "Stretch 4s"
         ],
         "xaxis": "x",
         "y": [
          0.20620171142306956
         ],
         "yaxis": "y"
        },
        {
         "alignmentgroup": "True",
         "hoverlabel": {
          "namelength": 0
         },
         "hovertemplate": "Play-Style=Post-Up Bigs<br>Play-Style Cluster=%{x}<br>Normalized Possession Share=%{y}",
         "legendgroup": "Play-Style=Post-Up Bigs",
         "marker": {
          "color": "#00cc96"
         },
         "name": "Play-Style=Post-Up Bigs",
         "offsetgroup": "Play-Style=Post-Up Bigs",
         "orientation": "v",
         "showlegend": true,
         "textposition": "auto",
         "type": "bar",
         "x": [
          "Post-Up Bigs"
         ],
         "xaxis": "x",
         "y": [
          0.2119064549892537
         ],
         "yaxis": "y"
        },
        {
         "alignmentgroup": "True",
         "hoverlabel": {
          "namelength": 0
         },
         "hovertemplate": "Play-Style=Perimeter Wings<br>Play-Style Cluster=%{x}<br>Normalized Possession Share=%{y}",
         "legendgroup": "Play-Style=Perimeter Wings",
         "marker": {
          "color": "#ab63fa"
         },
         "name": "Play-Style=Perimeter Wings",
         "offsetgroup": "Play-Style=Perimeter Wings",
         "orientation": "v",
         "showlegend": true,
         "textposition": "auto",
         "type": "bar",
         "x": [
          "Perimeter Wings"
         ],
         "xaxis": "x",
         "y": [
          0.3479074617087065
         ],
         "yaxis": "y"
        },
        {
         "alignmentgroup": "True",
         "hoverlabel": {
          "namelength": 0
         },
         "hovertemplate": "Play-Style=Rolling Bigs<br>Play-Style Cluster=%{x}<br>Normalized Possession Share=%{y}",
         "legendgroup": "Play-Style=Rolling Bigs",
         "marker": {
          "color": "#FFA15A"
         },
         "name": "Play-Style=Rolling Bigs",
         "offsetgroup": "Play-Style=Rolling Bigs",
         "orientation": "v",
         "showlegend": true,
         "textposition": "auto",
         "type": "bar",
         "x": [
          "Rolling Bigs"
         ],
         "xaxis": "x",
         "y": [
          0
         ],
         "yaxis": "y"
        },
        {
         "alignmentgroup": "True",
         "hoverlabel": {
          "namelength": 0
         },
         "hovertemplate": "Play-Style=Versatile Wings<br>Play-Style Cluster=%{x}<br>Normalized Possession Share=%{y}",
         "legendgroup": "Play-Style=Versatile Wings",
         "marker": {
          "color": "#19d3f3"
         },
         "name": "Play-Style=Versatile Wings",
         "offsetgroup": "Play-Style=Versatile Wings",
         "orientation": "v",
         "showlegend": true,
         "textposition": "auto",
         "type": "bar",
         "x": [
          "Versatile Wings"
         ],
         "xaxis": "x",
         "y": [
          0.15634313153668528
         ],
         "yaxis": "y"
        },
        {
         "alignmentgroup": "True",
         "hoverlabel": {
          "namelength": 0
         },
         "hovertemplate": "Play-Style=C&S Guards<br>Play-Style Cluster=%{x}<br>Normalized Possession Share=%{y}",
         "legendgroup": "Play-Style=C&S Guards",
         "marker": {
          "color": "#FF6692"
         },
         "name": "Play-Style=C&S Guards",
         "offsetgroup": "Play-Style=C&S Guards",
         "orientation": "v",
         "showlegend": true,
         "textposition": "auto",
         "type": "bar",
         "x": [
          "C&S Guards"
         ],
         "xaxis": "x",
         "y": [
          0.23670690881199116
         ],
         "yaxis": "y"
        }
       ],
       "layout": {
        "barmode": "relative",
        "height": 400,
        "legend": {
         "tracegroupgap": 0
        },
        "template": {
         "data": {
          "bar": [
           {
            "error_x": {
             "color": "#2a3f5f"
            },
            "error_y": {
             "color": "#2a3f5f"
            },
            "marker": {
             "line": {
              "color": "#E5ECF6",
              "width": 0.5
             }
            },
            "type": "bar"
           }
          ],
          "barpolar": [
           {
            "marker": {
             "line": {
              "color": "#E5ECF6",
              "width": 0.5
             }
            },
            "type": "barpolar"
           }
          ],
          "carpet": [
           {
            "aaxis": {
             "endlinecolor": "#2a3f5f",
             "gridcolor": "white",
             "linecolor": "white",
             "minorgridcolor": "white",
             "startlinecolor": "#2a3f5f"
            },
            "baxis": {
             "endlinecolor": "#2a3f5f",
             "gridcolor": "white",
             "linecolor": "white",
             "minorgridcolor": "white",
             "startlinecolor": "#2a3f5f"
            },
            "type": "carpet"
           }
          ],
          "choropleth": [
           {
            "colorbar": {
             "outlinewidth": 0,
             "ticks": ""
            },
            "type": "choropleth"
           }
          ],
          "contour": [
           {
            "colorbar": {
             "outlinewidth": 0,
             "ticks": ""
            },
            "colorscale": [
             [
              0,
              "#0d0887"
             ],
             [
              0.1111111111111111,
              "#46039f"
             ],
             [
              0.2222222222222222,
              "#7201a8"
             ],
             [
              0.3333333333333333,
              "#9c179e"
             ],
             [
              0.4444444444444444,
              "#bd3786"
             ],
             [
              0.5555555555555556,
              "#d8576b"
             ],
             [
              0.6666666666666666,
              "#ed7953"
             ],
             [
              0.7777777777777778,
              "#fb9f3a"
             ],
             [
              0.8888888888888888,
              "#fdca26"
             ],
             [
              1,
              "#f0f921"
             ]
            ],
            "type": "contour"
           }
          ],
          "contourcarpet": [
           {
            "colorbar": {
             "outlinewidth": 0,
             "ticks": ""
            },
            "type": "contourcarpet"
           }
          ],
          "heatmap": [
           {
            "colorbar": {
             "outlinewidth": 0,
             "ticks": ""
            },
            "colorscale": [
             [
              0,
              "#0d0887"
             ],
             [
              0.1111111111111111,
              "#46039f"
             ],
             [
              0.2222222222222222,
              "#7201a8"
             ],
             [
              0.3333333333333333,
              "#9c179e"
             ],
             [
              0.4444444444444444,
              "#bd3786"
             ],
             [
              0.5555555555555556,
              "#d8576b"
             ],
             [
              0.6666666666666666,
              "#ed7953"
             ],
             [
              0.7777777777777778,
              "#fb9f3a"
             ],
             [
              0.8888888888888888,
              "#fdca26"
             ],
             [
              1,
              "#f0f921"
             ]
            ],
            "type": "heatmap"
           }
          ],
          "heatmapgl": [
           {
            "colorbar": {
             "outlinewidth": 0,
             "ticks": ""
            },
            "colorscale": [
             [
              0,
              "#0d0887"
             ],
             [
              0.1111111111111111,
              "#46039f"
             ],
             [
              0.2222222222222222,
              "#7201a8"
             ],
             [
              0.3333333333333333,
              "#9c179e"
             ],
             [
              0.4444444444444444,
              "#bd3786"
             ],
             [
              0.5555555555555556,
              "#d8576b"
             ],
             [
              0.6666666666666666,
              "#ed7953"
             ],
             [
              0.7777777777777778,
              "#fb9f3a"
             ],
             [
              0.8888888888888888,
              "#fdca26"
             ],
             [
              1,
              "#f0f921"
             ]
            ],
            "type": "heatmapgl"
           }
          ],
          "histogram": [
           {
            "marker": {
             "colorbar": {
              "outlinewidth": 0,
              "ticks": ""
             }
            },
            "type": "histogram"
           }
          ],
          "histogram2d": [
           {
            "colorbar": {
             "outlinewidth": 0,
             "ticks": ""
            },
            "colorscale": [
             [
              0,
              "#0d0887"
             ],
             [
              0.1111111111111111,
              "#46039f"
             ],
             [
              0.2222222222222222,
              "#7201a8"
             ],
             [
              0.3333333333333333,
              "#9c179e"
             ],
             [
              0.4444444444444444,
              "#bd3786"
             ],
             [
              0.5555555555555556,
              "#d8576b"
             ],
             [
              0.6666666666666666,
              "#ed7953"
             ],
             [
              0.7777777777777778,
              "#fb9f3a"
             ],
             [
              0.8888888888888888,
              "#fdca26"
             ],
             [
              1,
              "#f0f921"
             ]
            ],
            "type": "histogram2d"
           }
          ],
          "histogram2dcontour": [
           {
            "colorbar": {
             "outlinewidth": 0,
             "ticks": ""
            },
            "colorscale": [
             [
              0,
              "#0d0887"
             ],
             [
              0.1111111111111111,
              "#46039f"
             ],
             [
              0.2222222222222222,
              "#7201a8"
             ],
             [
              0.3333333333333333,
              "#9c179e"
             ],
             [
              0.4444444444444444,
              "#bd3786"
             ],
             [
              0.5555555555555556,
              "#d8576b"
             ],
             [
              0.6666666666666666,
              "#ed7953"
             ],
             [
              0.7777777777777778,
              "#fb9f3a"
             ],
             [
              0.8888888888888888,
              "#fdca26"
             ],
             [
              1,
              "#f0f921"
             ]
            ],
            "type": "histogram2dcontour"
           }
          ],
          "mesh3d": [
           {
            "colorbar": {
             "outlinewidth": 0,
             "ticks": ""
            },
            "type": "mesh3d"
           }
          ],
          "parcoords": [
           {
            "line": {
             "colorbar": {
              "outlinewidth": 0,
              "ticks": ""
             }
            },
            "type": "parcoords"
           }
          ],
          "pie": [
           {
            "automargin": true,
            "type": "pie"
           }
          ],
          "scatter": [
           {
            "marker": {
             "colorbar": {
              "outlinewidth": 0,
              "ticks": ""
             }
            },
            "type": "scatter"
           }
          ],
          "scatter3d": [
           {
            "line": {
             "colorbar": {
              "outlinewidth": 0,
              "ticks": ""
             }
            },
            "marker": {
             "colorbar": {
              "outlinewidth": 0,
              "ticks": ""
             }
            },
            "type": "scatter3d"
           }
          ],
          "scattercarpet": [
           {
            "marker": {
             "colorbar": {
              "outlinewidth": 0,
              "ticks": ""
             }
            },
            "type": "scattercarpet"
           }
          ],
          "scattergeo": [
           {
            "marker": {
             "colorbar": {
              "outlinewidth": 0,
              "ticks": ""
             }
            },
            "type": "scattergeo"
           }
          ],
          "scattergl": [
           {
            "marker": {
             "colorbar": {
              "outlinewidth": 0,
              "ticks": ""
             }
            },
            "type": "scattergl"
           }
          ],
          "scattermapbox": [
           {
            "marker": {
             "colorbar": {
              "outlinewidth": 0,
              "ticks": ""
             }
            },
            "type": "scattermapbox"
           }
          ],
          "scatterpolar": [
           {
            "marker": {
             "colorbar": {
              "outlinewidth": 0,
              "ticks": ""
             }
            },
            "type": "scatterpolar"
           }
          ],
          "scatterpolargl": [
           {
            "marker": {
             "colorbar": {
              "outlinewidth": 0,
              "ticks": ""
             }
            },
            "type": "scatterpolargl"
           }
          ],
          "scatterternary": [
           {
            "marker": {
             "colorbar": {
              "outlinewidth": 0,
              "ticks": ""
             }
            },
            "type": "scatterternary"
           }
          ],
          "surface": [
           {
            "colorbar": {
             "outlinewidth": 0,
             "ticks": ""
            },
            "colorscale": [
             [
              0,
              "#0d0887"
             ],
             [
              0.1111111111111111,
              "#46039f"
             ],
             [
              0.2222222222222222,
              "#7201a8"
             ],
             [
              0.3333333333333333,
              "#9c179e"
             ],
             [
              0.4444444444444444,
              "#bd3786"
             ],
             [
              0.5555555555555556,
              "#d8576b"
             ],
             [
              0.6666666666666666,
              "#ed7953"
             ],
             [
              0.7777777777777778,
              "#fb9f3a"
             ],
             [
              0.8888888888888888,
              "#fdca26"
             ],
             [
              1,
              "#f0f921"
             ]
            ],
            "type": "surface"
           }
          ],
          "table": [
           {
            "cells": {
             "fill": {
              "color": "#EBF0F8"
             },
             "line": {
              "color": "white"
             }
            },
            "header": {
             "fill": {
              "color": "#C8D4E3"
             },
             "line": {
              "color": "white"
             }
            },
            "type": "table"
           }
          ]
         },
         "layout": {
          "annotationdefaults": {
           "arrowcolor": "#2a3f5f",
           "arrowhead": 0,
           "arrowwidth": 1
          },
          "coloraxis": {
           "colorbar": {
            "outlinewidth": 0,
            "ticks": ""
           }
          },
          "colorscale": {
           "diverging": [
            [
             0,
             "#8e0152"
            ],
            [
             0.1,
             "#c51b7d"
            ],
            [
             0.2,
             "#de77ae"
            ],
            [
             0.3,
             "#f1b6da"
            ],
            [
             0.4,
             "#fde0ef"
            ],
            [
             0.5,
             "#f7f7f7"
            ],
            [
             0.6,
             "#e6f5d0"
            ],
            [
             0.7,
             "#b8e186"
            ],
            [
             0.8,
             "#7fbc41"
            ],
            [
             0.9,
             "#4d9221"
            ],
            [
             1,
             "#276419"
            ]
           ],
           "sequential": [
            [
             0,
             "#0d0887"
            ],
            [
             0.1111111111111111,
             "#46039f"
            ],
            [
             0.2222222222222222,
             "#7201a8"
            ],
            [
             0.3333333333333333,
             "#9c179e"
            ],
            [
             0.4444444444444444,
             "#bd3786"
            ],
            [
             0.5555555555555556,
             "#d8576b"
            ],
            [
             0.6666666666666666,
             "#ed7953"
            ],
            [
             0.7777777777777778,
             "#fb9f3a"
            ],
            [
             0.8888888888888888,
             "#fdca26"
            ],
            [
             1,
             "#f0f921"
            ]
           ],
           "sequentialminus": [
            [
             0,
             "#0d0887"
            ],
            [
             0.1111111111111111,
             "#46039f"
            ],
            [
             0.2222222222222222,
             "#7201a8"
            ],
            [
             0.3333333333333333,
             "#9c179e"
            ],
            [
             0.4444444444444444,
             "#bd3786"
            ],
            [
             0.5555555555555556,
             "#d8576b"
            ],
            [
             0.6666666666666666,
             "#ed7953"
            ],
            [
             0.7777777777777778,
             "#fb9f3a"
            ],
            [
             0.8888888888888888,
             "#fdca26"
            ],
            [
             1,
             "#f0f921"
            ]
           ]
          },
          "colorway": [
           "#636efa",
           "#EF553B",
           "#00cc96",
           "#ab63fa",
           "#FFA15A",
           "#19d3f3",
           "#FF6692",
           "#B6E880",
           "#FF97FF",
           "#FECB52"
          ],
          "font": {
           "color": "#2a3f5f"
          },
          "geo": {
           "bgcolor": "white",
           "lakecolor": "white",
           "landcolor": "#E5ECF6",
           "showlakes": true,
           "showland": true,
           "subunitcolor": "white"
          },
          "hoverlabel": {
           "align": "left"
          },
          "hovermode": "closest",
          "mapbox": {
           "style": "light"
          },
          "paper_bgcolor": "white",
          "plot_bgcolor": "#E5ECF6",
          "polar": {
           "angularaxis": {
            "gridcolor": "white",
            "linecolor": "white",
            "ticks": ""
           },
           "bgcolor": "#E5ECF6",
           "radialaxis": {
            "gridcolor": "white",
            "linecolor": "white",
            "ticks": ""
           }
          },
          "scene": {
           "xaxis": {
            "backgroundcolor": "#E5ECF6",
            "gridcolor": "white",
            "gridwidth": 2,
            "linecolor": "white",
            "showbackground": true,
            "ticks": "",
            "zerolinecolor": "white"
           },
           "yaxis": {
            "backgroundcolor": "#E5ECF6",
            "gridcolor": "white",
            "gridwidth": 2,
            "linecolor": "white",
            "showbackground": true,
            "ticks": "",
            "zerolinecolor": "white"
           },
           "zaxis": {
            "backgroundcolor": "#E5ECF6",
            "gridcolor": "white",
            "gridwidth": 2,
            "linecolor": "white",
            "showbackground": true,
            "ticks": "",
            "zerolinecolor": "white"
           }
          },
          "shapedefaults": {
           "line": {
            "color": "#2a3f5f"
           }
          },
          "ternary": {
           "aaxis": {
            "gridcolor": "white",
            "linecolor": "white",
            "ticks": ""
           },
           "baxis": {
            "gridcolor": "white",
            "linecolor": "white",
            "ticks": ""
           },
           "bgcolor": "#E5ECF6",
           "caxis": {
            "gridcolor": "white",
            "linecolor": "white",
            "ticks": ""
           }
          },
          "title": {
           "x": 0.05
          },
          "xaxis": {
           "automargin": true,
           "gridcolor": "white",
           "linecolor": "white",
           "ticks": "",
           "title": {
            "standoff": 15
           },
           "zerolinecolor": "white",
           "zerolinewidth": 2
          },
          "yaxis": {
           "automargin": true,
           "gridcolor": "white",
           "linecolor": "white",
           "ticks": "",
           "title": {
            "standoff": 15
           },
           "zerolinecolor": "white",
           "zerolinewidth": 2
          }
         }
        },
        "title": {
         "text": "Normalized Player-style possession share vs Playstyle"
        },
        "xaxis": {
         "anchor": "y",
         "domain": [
          0,
          1
         ],
         "title": {
          "text": "Play-Style Cluster"
         }
        },
        "yaxis": {
         "anchor": "x",
         "domain": [
          0,
          1
         ],
         "title": {
          "text": "Normalized Possession Share"
         }
        }
       }
      },
      "text/html": [
       "<div>\n",
       "        \n",
       "        \n",
       "            <div id=\"83c73a62-2a8f-4cc4-a33f-f80baf8083bb\" class=\"plotly-graph-div\" style=\"height:400px; width:100%;\"></div>\n",
       "            <script type=\"text/javascript\">\n",
       "                require([\"plotly\"], function(Plotly) {\n",
       "                    window.PLOTLYENV=window.PLOTLYENV || {};\n",
       "                    \n",
       "                if (document.getElementById(\"83c73a62-2a8f-4cc4-a33f-f80baf8083bb\")) {\n",
       "                    Plotly.newPlot(\n",
       "                        '83c73a62-2a8f-4cc4-a33f-f80baf8083bb',\n",
       "                        [{\"alignmentgroup\": \"True\", \"hoverlabel\": {\"namelength\": 0}, \"hovertemplate\": \"Play-Style=PnR/Ball handling Guards<br>Play-Style Cluster=%{x}<br>Normalized Possession Share=%{y}\", \"legendgroup\": \"Play-Style=PnR/Ball handling Guards\", \"marker\": {\"color\": \"#636efa\"}, \"name\": \"Play-Style=PnR/Ball handling Guards\", \"offsetgroup\": \"Play-Style=PnR/Ball handling Guards\", \"orientation\": \"v\", \"showlegend\": true, \"textposition\": \"auto\", \"type\": \"bar\", \"x\": [\"PnR/Ball handling Guards\"], \"xaxis\": \"x\", \"y\": [1.0], \"yaxis\": \"y\"}, {\"alignmentgroup\": \"True\", \"hoverlabel\": {\"namelength\": 0}, \"hovertemplate\": \"Play-Style=Stretch 4s<br>Play-Style Cluster=%{x}<br>Normalized Possession Share=%{y}\", \"legendgroup\": \"Play-Style=Stretch 4s\", \"marker\": {\"color\": \"#EF553B\"}, \"name\": \"Play-Style=Stretch 4s\", \"offsetgroup\": \"Play-Style=Stretch 4s\", \"orientation\": \"v\", \"showlegend\": true, \"textposition\": \"auto\", \"type\": \"bar\", \"x\": [\"Stretch 4s\"], \"xaxis\": \"x\", \"y\": [0.20620171142306956], \"yaxis\": \"y\"}, {\"alignmentgroup\": \"True\", \"hoverlabel\": {\"namelength\": 0}, \"hovertemplate\": \"Play-Style=Post-Up Bigs<br>Play-Style Cluster=%{x}<br>Normalized Possession Share=%{y}\", \"legendgroup\": \"Play-Style=Post-Up Bigs\", \"marker\": {\"color\": \"#00cc96\"}, \"name\": \"Play-Style=Post-Up Bigs\", \"offsetgroup\": \"Play-Style=Post-Up Bigs\", \"orientation\": \"v\", \"showlegend\": true, \"textposition\": \"auto\", \"type\": \"bar\", \"x\": [\"Post-Up Bigs\"], \"xaxis\": \"x\", \"y\": [0.2119064549892537], \"yaxis\": \"y\"}, {\"alignmentgroup\": \"True\", \"hoverlabel\": {\"namelength\": 0}, \"hovertemplate\": \"Play-Style=Perimeter Wings<br>Play-Style Cluster=%{x}<br>Normalized Possession Share=%{y}\", \"legendgroup\": \"Play-Style=Perimeter Wings\", \"marker\": {\"color\": \"#ab63fa\"}, \"name\": \"Play-Style=Perimeter Wings\", \"offsetgroup\": \"Play-Style=Perimeter Wings\", \"orientation\": \"v\", \"showlegend\": true, \"textposition\": \"auto\", \"type\": \"bar\", \"x\": [\"Perimeter Wings\"], \"xaxis\": \"x\", \"y\": [0.3479074617087065], \"yaxis\": \"y\"}, {\"alignmentgroup\": \"True\", \"hoverlabel\": {\"namelength\": 0}, \"hovertemplate\": \"Play-Style=Rolling Bigs<br>Play-Style Cluster=%{x}<br>Normalized Possession Share=%{y}\", \"legendgroup\": \"Play-Style=Rolling Bigs\", \"marker\": {\"color\": \"#FFA15A\"}, \"name\": \"Play-Style=Rolling Bigs\", \"offsetgroup\": \"Play-Style=Rolling Bigs\", \"orientation\": \"v\", \"showlegend\": true, \"textposition\": \"auto\", \"type\": \"bar\", \"x\": [\"Rolling Bigs\"], \"xaxis\": \"x\", \"y\": [0.0], \"yaxis\": \"y\"}, {\"alignmentgroup\": \"True\", \"hoverlabel\": {\"namelength\": 0}, \"hovertemplate\": \"Play-Style=Versatile Wings<br>Play-Style Cluster=%{x}<br>Normalized Possession Share=%{y}\", \"legendgroup\": \"Play-Style=Versatile Wings\", \"marker\": {\"color\": \"#19d3f3\"}, \"name\": \"Play-Style=Versatile Wings\", \"offsetgroup\": \"Play-Style=Versatile Wings\", \"orientation\": \"v\", \"showlegend\": true, \"textposition\": \"auto\", \"type\": \"bar\", \"x\": [\"Versatile Wings\"], \"xaxis\": \"x\", \"y\": [0.15634313153668528], \"yaxis\": \"y\"}, {\"alignmentgroup\": \"True\", \"hoverlabel\": {\"namelength\": 0}, \"hovertemplate\": \"Play-Style=C&S Guards<br>Play-Style Cluster=%{x}<br>Normalized Possession Share=%{y}\", \"legendgroup\": \"Play-Style=C&S Guards\", \"marker\": {\"color\": \"#FF6692\"}, \"name\": \"Play-Style=C&S Guards\", \"offsetgroup\": \"Play-Style=C&S Guards\", \"orientation\": \"v\", \"showlegend\": true, \"textposition\": \"auto\", \"type\": \"bar\", \"x\": [\"C&S Guards\"], \"xaxis\": \"x\", \"y\": [0.23670690881199116], \"yaxis\": \"y\"}],\n",
       "                        {\"barmode\": \"relative\", \"height\": 400, \"legend\": {\"tracegroupgap\": 0}, \"template\": {\"data\": {\"bar\": [{\"error_x\": {\"color\": \"#2a3f5f\"}, \"error_y\": {\"color\": \"#2a3f5f\"}, \"marker\": {\"line\": {\"color\": \"#E5ECF6\", \"width\": 0.5}}, \"type\": \"bar\"}], \"barpolar\": [{\"marker\": {\"line\": {\"color\": \"#E5ECF6\", \"width\": 0.5}}, \"type\": \"barpolar\"}], \"carpet\": [{\"aaxis\": {\"endlinecolor\": \"#2a3f5f\", \"gridcolor\": \"white\", \"linecolor\": \"white\", \"minorgridcolor\": \"white\", \"startlinecolor\": \"#2a3f5f\"}, \"baxis\": {\"endlinecolor\": \"#2a3f5f\", \"gridcolor\": \"white\", \"linecolor\": \"white\", \"minorgridcolor\": \"white\", \"startlinecolor\": \"#2a3f5f\"}, \"type\": \"carpet\"}], \"choropleth\": [{\"colorbar\": {\"outlinewidth\": 0, \"ticks\": \"\"}, \"type\": \"choropleth\"}], \"contour\": [{\"colorbar\": {\"outlinewidth\": 0, \"ticks\": \"\"}, \"colorscale\": [[0.0, \"#0d0887\"], [0.1111111111111111, \"#46039f\"], [0.2222222222222222, \"#7201a8\"], [0.3333333333333333, \"#9c179e\"], [0.4444444444444444, \"#bd3786\"], [0.5555555555555556, \"#d8576b\"], [0.6666666666666666, \"#ed7953\"], [0.7777777777777778, \"#fb9f3a\"], [0.8888888888888888, \"#fdca26\"], [1.0, \"#f0f921\"]], \"type\": \"contour\"}], \"contourcarpet\": [{\"colorbar\": {\"outlinewidth\": 0, \"ticks\": \"\"}, \"type\": \"contourcarpet\"}], \"heatmap\": [{\"colorbar\": {\"outlinewidth\": 0, \"ticks\": \"\"}, \"colorscale\": [[0.0, \"#0d0887\"], [0.1111111111111111, \"#46039f\"], [0.2222222222222222, \"#7201a8\"], [0.3333333333333333, \"#9c179e\"], [0.4444444444444444, \"#bd3786\"], [0.5555555555555556, \"#d8576b\"], [0.6666666666666666, \"#ed7953\"], [0.7777777777777778, \"#fb9f3a\"], [0.8888888888888888, \"#fdca26\"], [1.0, \"#f0f921\"]], \"type\": \"heatmap\"}], \"heatmapgl\": [{\"colorbar\": {\"outlinewidth\": 0, \"ticks\": \"\"}, \"colorscale\": [[0.0, \"#0d0887\"], [0.1111111111111111, \"#46039f\"], [0.2222222222222222, \"#7201a8\"], [0.3333333333333333, \"#9c179e\"], [0.4444444444444444, \"#bd3786\"], [0.5555555555555556, \"#d8576b\"], [0.6666666666666666, \"#ed7953\"], [0.7777777777777778, \"#fb9f3a\"], [0.8888888888888888, \"#fdca26\"], [1.0, \"#f0f921\"]], \"type\": \"heatmapgl\"}], \"histogram\": [{\"marker\": {\"colorbar\": {\"outlinewidth\": 0, \"ticks\": \"\"}}, \"type\": \"histogram\"}], \"histogram2d\": [{\"colorbar\": {\"outlinewidth\": 0, \"ticks\": \"\"}, \"colorscale\": [[0.0, \"#0d0887\"], [0.1111111111111111, \"#46039f\"], [0.2222222222222222, \"#7201a8\"], [0.3333333333333333, \"#9c179e\"], [0.4444444444444444, \"#bd3786\"], [0.5555555555555556, \"#d8576b\"], [0.6666666666666666, \"#ed7953\"], [0.7777777777777778, \"#fb9f3a\"], [0.8888888888888888, \"#fdca26\"], [1.0, \"#f0f921\"]], \"type\": \"histogram2d\"}], \"histogram2dcontour\": [{\"colorbar\": {\"outlinewidth\": 0, \"ticks\": \"\"}, \"colorscale\": [[0.0, \"#0d0887\"], [0.1111111111111111, \"#46039f\"], [0.2222222222222222, \"#7201a8\"], [0.3333333333333333, \"#9c179e\"], [0.4444444444444444, \"#bd3786\"], [0.5555555555555556, \"#d8576b\"], [0.6666666666666666, \"#ed7953\"], [0.7777777777777778, \"#fb9f3a\"], [0.8888888888888888, \"#fdca26\"], [1.0, \"#f0f921\"]], \"type\": \"histogram2dcontour\"}], \"mesh3d\": [{\"colorbar\": {\"outlinewidth\": 0, \"ticks\": \"\"}, \"type\": \"mesh3d\"}], \"parcoords\": [{\"line\": {\"colorbar\": {\"outlinewidth\": 0, \"ticks\": \"\"}}, \"type\": \"parcoords\"}], \"pie\": [{\"automargin\": true, \"type\": \"pie\"}], \"scatter\": [{\"marker\": {\"colorbar\": {\"outlinewidth\": 0, \"ticks\": \"\"}}, \"type\": \"scatter\"}], \"scatter3d\": [{\"line\": {\"colorbar\": {\"outlinewidth\": 0, \"ticks\": \"\"}}, \"marker\": {\"colorbar\": {\"outlinewidth\": 0, \"ticks\": \"\"}}, \"type\": \"scatter3d\"}], \"scattercarpet\": [{\"marker\": {\"colorbar\": {\"outlinewidth\": 0, \"ticks\": \"\"}}, \"type\": \"scattercarpet\"}], \"scattergeo\": [{\"marker\": {\"colorbar\": {\"outlinewidth\": 0, \"ticks\": \"\"}}, \"type\": \"scattergeo\"}], \"scattergl\": [{\"marker\": {\"colorbar\": {\"outlinewidth\": 0, \"ticks\": \"\"}}, \"type\": \"scattergl\"}], \"scattermapbox\": [{\"marker\": {\"colorbar\": {\"outlinewidth\": 0, \"ticks\": \"\"}}, \"type\": \"scattermapbox\"}], \"scatterpolar\": [{\"marker\": {\"colorbar\": {\"outlinewidth\": 0, \"ticks\": \"\"}}, \"type\": \"scatterpolar\"}], \"scatterpolargl\": [{\"marker\": {\"colorbar\": {\"outlinewidth\": 0, \"ticks\": \"\"}}, \"type\": \"scatterpolargl\"}], \"scatterternary\": [{\"marker\": {\"colorbar\": {\"outlinewidth\": 0, \"ticks\": \"\"}}, \"type\": \"scatterternary\"}], \"surface\": [{\"colorbar\": {\"outlinewidth\": 0, \"ticks\": \"\"}, \"colorscale\": [[0.0, \"#0d0887\"], [0.1111111111111111, \"#46039f\"], [0.2222222222222222, \"#7201a8\"], [0.3333333333333333, \"#9c179e\"], [0.4444444444444444, \"#bd3786\"], [0.5555555555555556, \"#d8576b\"], [0.6666666666666666, \"#ed7953\"], [0.7777777777777778, \"#fb9f3a\"], [0.8888888888888888, \"#fdca26\"], [1.0, \"#f0f921\"]], \"type\": \"surface\"}], \"table\": [{\"cells\": {\"fill\": {\"color\": \"#EBF0F8\"}, \"line\": {\"color\": \"white\"}}, \"header\": {\"fill\": {\"color\": \"#C8D4E3\"}, \"line\": {\"color\": \"white\"}}, \"type\": \"table\"}]}, \"layout\": {\"annotationdefaults\": {\"arrowcolor\": \"#2a3f5f\", \"arrowhead\": 0, \"arrowwidth\": 1}, \"coloraxis\": {\"colorbar\": {\"outlinewidth\": 0, \"ticks\": \"\"}}, \"colorscale\": {\"diverging\": [[0, \"#8e0152\"], [0.1, \"#c51b7d\"], [0.2, \"#de77ae\"], [0.3, \"#f1b6da\"], [0.4, \"#fde0ef\"], [0.5, \"#f7f7f7\"], [0.6, \"#e6f5d0\"], [0.7, \"#b8e186\"], [0.8, \"#7fbc41\"], [0.9, \"#4d9221\"], [1, \"#276419\"]], \"sequential\": [[0.0, \"#0d0887\"], [0.1111111111111111, \"#46039f\"], [0.2222222222222222, \"#7201a8\"], [0.3333333333333333, \"#9c179e\"], [0.4444444444444444, \"#bd3786\"], [0.5555555555555556, \"#d8576b\"], [0.6666666666666666, \"#ed7953\"], [0.7777777777777778, \"#fb9f3a\"], [0.8888888888888888, \"#fdca26\"], [1.0, \"#f0f921\"]], \"sequentialminus\": [[0.0, \"#0d0887\"], [0.1111111111111111, \"#46039f\"], [0.2222222222222222, \"#7201a8\"], [0.3333333333333333, \"#9c179e\"], [0.4444444444444444, \"#bd3786\"], [0.5555555555555556, \"#d8576b\"], [0.6666666666666666, \"#ed7953\"], [0.7777777777777778, \"#fb9f3a\"], [0.8888888888888888, \"#fdca26\"], [1.0, \"#f0f921\"]]}, \"colorway\": [\"#636efa\", \"#EF553B\", \"#00cc96\", \"#ab63fa\", \"#FFA15A\", \"#19d3f3\", \"#FF6692\", \"#B6E880\", \"#FF97FF\", \"#FECB52\"], \"font\": {\"color\": \"#2a3f5f\"}, \"geo\": {\"bgcolor\": \"white\", \"lakecolor\": \"white\", \"landcolor\": \"#E5ECF6\", \"showlakes\": true, \"showland\": true, \"subunitcolor\": \"white\"}, \"hoverlabel\": {\"align\": \"left\"}, \"hovermode\": \"closest\", \"mapbox\": {\"style\": \"light\"}, \"paper_bgcolor\": \"white\", \"plot_bgcolor\": \"#E5ECF6\", \"polar\": {\"angularaxis\": {\"gridcolor\": \"white\", \"linecolor\": \"white\", \"ticks\": \"\"}, \"bgcolor\": \"#E5ECF6\", \"radialaxis\": {\"gridcolor\": \"white\", \"linecolor\": \"white\", \"ticks\": \"\"}}, \"scene\": {\"xaxis\": {\"backgroundcolor\": \"#E5ECF6\", \"gridcolor\": \"white\", \"gridwidth\": 2, \"linecolor\": \"white\", \"showbackground\": true, \"ticks\": \"\", \"zerolinecolor\": \"white\"}, \"yaxis\": {\"backgroundcolor\": \"#E5ECF6\", \"gridcolor\": \"white\", \"gridwidth\": 2, \"linecolor\": \"white\", \"showbackground\": true, \"ticks\": \"\", \"zerolinecolor\": \"white\"}, \"zaxis\": {\"backgroundcolor\": \"#E5ECF6\", \"gridcolor\": \"white\", \"gridwidth\": 2, \"linecolor\": \"white\", \"showbackground\": true, \"ticks\": \"\", \"zerolinecolor\": \"white\"}}, \"shapedefaults\": {\"line\": {\"color\": \"#2a3f5f\"}}, \"ternary\": {\"aaxis\": {\"gridcolor\": \"white\", \"linecolor\": \"white\", \"ticks\": \"\"}, \"baxis\": {\"gridcolor\": \"white\", \"linecolor\": \"white\", \"ticks\": \"\"}, \"bgcolor\": \"#E5ECF6\", \"caxis\": {\"gridcolor\": \"white\", \"linecolor\": \"white\", \"ticks\": \"\"}}, \"title\": {\"x\": 0.05}, \"xaxis\": {\"automargin\": true, \"gridcolor\": \"white\", \"linecolor\": \"white\", \"ticks\": \"\", \"title\": {\"standoff\": 15}, \"zerolinecolor\": \"white\", \"zerolinewidth\": 2}, \"yaxis\": {\"automargin\": true, \"gridcolor\": \"white\", \"linecolor\": \"white\", \"ticks\": \"\", \"title\": {\"standoff\": 15}, \"zerolinecolor\": \"white\", \"zerolinewidth\": 2}}}, \"title\": {\"text\": \"Normalized Player-style possession share vs Playstyle\"}, \"xaxis\": {\"anchor\": \"y\", \"domain\": [0.0, 1.0], \"title\": {\"text\": \"Play-Style Cluster\"}}, \"yaxis\": {\"anchor\": \"x\", \"domain\": [0.0, 1.0], \"title\": {\"text\": \"Normalized Possession Share\"}}},\n",
       "                        {\"responsive\": true}\n",
       "                    ).then(function(){\n",
       "                            \n",
       "var gd = document.getElementById('83c73a62-2a8f-4cc4-a33f-f80baf8083bb');\n",
       "var x = new MutationObserver(function (mutations, observer) {{\n",
       "        var display = window.getComputedStyle(gd).display;\n",
       "        if (!display || display === 'none') {{\n",
       "            console.log([gd, 'removed!']);\n",
       "            Plotly.purge(gd);\n",
       "            observer.disconnect();\n",
       "        }}\n",
       "}});\n",
       "\n",
       "// Listen for the removal of the full notebook cells\n",
       "var notebookContainer = gd.closest('#notebook-container');\n",
       "if (notebookContainer) {{\n",
       "    x.observe(notebookContainer, {childList: true});\n",
       "}}\n",
       "\n",
       "// Listen for the clearing of the current output cell\n",
       "var outputEl = gd.closest('.output');\n",
       "if (outputEl) {{\n",
       "    x.observe(outputEl, {childList: true});\n",
       "}}\n",
       "\n",
       "                        })\n",
       "                };\n",
       "                });\n",
       "            </script>\n",
       "        </div>"
      ]
     },
     "metadata": {},
     "output_type": "display_data"
    },
    {
     "data": {
      "application/vnd.plotly.v1+json": {
       "config": {
        "plotlyServerURL": "https://plot.ly"
       },
       "data": [
        {
         "alignmentgroup": "True",
         "hoverlabel": {
          "namelength": 0
         },
         "hovertemplate": "Play-Style=PnR/Ball handling Guards<br>Play-Style Cluster=%{x}<br>Normalized player-style efficiency=%{y}",
         "legendgroup": "Play-Style=PnR/Ball handling Guards",
         "marker": {
          "color": "#636efa"
         },
         "name": "Play-Style=PnR/Ball handling Guards",
         "offsetgroup": "Play-Style=PnR/Ball handling Guards",
         "orientation": "v",
         "showlegend": true,
         "textposition": "auto",
         "type": "bar",
         "x": [
          "PnR/Ball handling Guards"
         ],
         "xaxis": "x",
         "y": [
          0
         ],
         "yaxis": "y"
        },
        {
         "alignmentgroup": "True",
         "hoverlabel": {
          "namelength": 0
         },
         "hovertemplate": "Play-Style=Stretch 4s<br>Play-Style Cluster=%{x}<br>Normalized player-style efficiency=%{y}",
         "legendgroup": "Play-Style=Stretch 4s",
         "marker": {
          "color": "#EF553B"
         },
         "name": "Play-Style=Stretch 4s",
         "offsetgroup": "Play-Style=Stretch 4s",
         "orientation": "v",
         "showlegend": true,
         "textposition": "auto",
         "type": "bar",
         "x": [
          "Stretch 4s"
         ],
         "xaxis": "x",
         "y": [
          0.30199549247076646
         ],
         "yaxis": "y"
        },
        {
         "alignmentgroup": "True",
         "hoverlabel": {
          "namelength": 0
         },
         "hovertemplate": "Play-Style=Post-Up Bigs<br>Play-Style Cluster=%{x}<br>Normalized player-style efficiency=%{y}",
         "legendgroup": "Play-Style=Post-Up Bigs",
         "marker": {
          "color": "#00cc96"
         },
         "name": "Play-Style=Post-Up Bigs",
         "offsetgroup": "Play-Style=Post-Up Bigs",
         "orientation": "v",
         "showlegend": true,
         "textposition": "auto",
         "type": "bar",
         "x": [
          "Post-Up Bigs"
         ],
         "xaxis": "x",
         "y": [
          0.6756100950172668
         ],
         "yaxis": "y"
        },
        {
         "alignmentgroup": "True",
         "hoverlabel": {
          "namelength": 0
         },
         "hovertemplate": "Play-Style=Perimeter Wings<br>Play-Style Cluster=%{x}<br>Normalized player-style efficiency=%{y}",
         "legendgroup": "Play-Style=Perimeter Wings",
         "marker": {
          "color": "#ab63fa"
         },
         "name": "Play-Style=Perimeter Wings",
         "offsetgroup": "Play-Style=Perimeter Wings",
         "orientation": "v",
         "showlegend": true,
         "textposition": "auto",
         "type": "bar",
         "x": [
          "Perimeter Wings"
         ],
         "xaxis": "x",
         "y": [
          0.6255103153592004
         ],
         "yaxis": "y"
        },
        {
         "alignmentgroup": "True",
         "hoverlabel": {
          "namelength": 0
         },
         "hovertemplate": "Play-Style=Rolling Bigs<br>Play-Style Cluster=%{x}<br>Normalized player-style efficiency=%{y}",
         "legendgroup": "Play-Style=Rolling Bigs",
         "marker": {
          "color": "#FFA15A"
         },
         "name": "Play-Style=Rolling Bigs",
         "offsetgroup": "Play-Style=Rolling Bigs",
         "orientation": "v",
         "showlegend": true,
         "textposition": "auto",
         "type": "bar",
         "x": [
          "Rolling Bigs"
         ],
         "xaxis": "x",
         "y": [
          1
         ],
         "yaxis": "y"
        },
        {
         "alignmentgroup": "True",
         "hoverlabel": {
          "namelength": 0
         },
         "hovertemplate": "Play-Style=Versatile Wings<br>Play-Style Cluster=%{x}<br>Normalized player-style efficiency=%{y}",
         "legendgroup": "Play-Style=Versatile Wings",
         "marker": {
          "color": "#19d3f3"
         },
         "name": "Play-Style=Versatile Wings",
         "offsetgroup": "Play-Style=Versatile Wings",
         "orientation": "v",
         "showlegend": true,
         "textposition": "auto",
         "type": "bar",
         "x": [
          "Versatile Wings"
         ],
         "xaxis": "x",
         "y": [
          0.7782138918901713
         ],
         "yaxis": "y"
        },
        {
         "alignmentgroup": "True",
         "hoverlabel": {
          "namelength": 0
         },
         "hovertemplate": "Play-Style=C&S Guards<br>Play-Style Cluster=%{x}<br>Normalized player-style efficiency=%{y}",
         "legendgroup": "Play-Style=C&S Guards",
         "marker": {
          "color": "#FF6692"
         },
         "name": "Play-Style=C&S Guards",
         "offsetgroup": "Play-Style=C&S Guards",
         "orientation": "v",
         "showlegend": true,
         "textposition": "auto",
         "type": "bar",
         "x": [
          "C&S Guards"
         ],
         "xaxis": "x",
         "y": [
          0.37697176371416935
         ],
         "yaxis": "y"
        }
       ],
       "layout": {
        "barmode": "relative",
        "height": 400,
        "legend": {
         "tracegroupgap": 0
        },
        "template": {
         "data": {
          "bar": [
           {
            "error_x": {
             "color": "#2a3f5f"
            },
            "error_y": {
             "color": "#2a3f5f"
            },
            "marker": {
             "line": {
              "color": "#E5ECF6",
              "width": 0.5
             }
            },
            "type": "bar"
           }
          ],
          "barpolar": [
           {
            "marker": {
             "line": {
              "color": "#E5ECF6",
              "width": 0.5
             }
            },
            "type": "barpolar"
           }
          ],
          "carpet": [
           {
            "aaxis": {
             "endlinecolor": "#2a3f5f",
             "gridcolor": "white",
             "linecolor": "white",
             "minorgridcolor": "white",
             "startlinecolor": "#2a3f5f"
            },
            "baxis": {
             "endlinecolor": "#2a3f5f",
             "gridcolor": "white",
             "linecolor": "white",
             "minorgridcolor": "white",
             "startlinecolor": "#2a3f5f"
            },
            "type": "carpet"
           }
          ],
          "choropleth": [
           {
            "colorbar": {
             "outlinewidth": 0,
             "ticks": ""
            },
            "type": "choropleth"
           }
          ],
          "contour": [
           {
            "colorbar": {
             "outlinewidth": 0,
             "ticks": ""
            },
            "colorscale": [
             [
              0,
              "#0d0887"
             ],
             [
              0.1111111111111111,
              "#46039f"
             ],
             [
              0.2222222222222222,
              "#7201a8"
             ],
             [
              0.3333333333333333,
              "#9c179e"
             ],
             [
              0.4444444444444444,
              "#bd3786"
             ],
             [
              0.5555555555555556,
              "#d8576b"
             ],
             [
              0.6666666666666666,
              "#ed7953"
             ],
             [
              0.7777777777777778,
              "#fb9f3a"
             ],
             [
              0.8888888888888888,
              "#fdca26"
             ],
             [
              1,
              "#f0f921"
             ]
            ],
            "type": "contour"
           }
          ],
          "contourcarpet": [
           {
            "colorbar": {
             "outlinewidth": 0,
             "ticks": ""
            },
            "type": "contourcarpet"
           }
          ],
          "heatmap": [
           {
            "colorbar": {
             "outlinewidth": 0,
             "ticks": ""
            },
            "colorscale": [
             [
              0,
              "#0d0887"
             ],
             [
              0.1111111111111111,
              "#46039f"
             ],
             [
              0.2222222222222222,
              "#7201a8"
             ],
             [
              0.3333333333333333,
              "#9c179e"
             ],
             [
              0.4444444444444444,
              "#bd3786"
             ],
             [
              0.5555555555555556,
              "#d8576b"
             ],
             [
              0.6666666666666666,
              "#ed7953"
             ],
             [
              0.7777777777777778,
              "#fb9f3a"
             ],
             [
              0.8888888888888888,
              "#fdca26"
             ],
             [
              1,
              "#f0f921"
             ]
            ],
            "type": "heatmap"
           }
          ],
          "heatmapgl": [
           {
            "colorbar": {
             "outlinewidth": 0,
             "ticks": ""
            },
            "colorscale": [
             [
              0,
              "#0d0887"
             ],
             [
              0.1111111111111111,
              "#46039f"
             ],
             [
              0.2222222222222222,
              "#7201a8"
             ],
             [
              0.3333333333333333,
              "#9c179e"
             ],
             [
              0.4444444444444444,
              "#bd3786"
             ],
             [
              0.5555555555555556,
              "#d8576b"
             ],
             [
              0.6666666666666666,
              "#ed7953"
             ],
             [
              0.7777777777777778,
              "#fb9f3a"
             ],
             [
              0.8888888888888888,
              "#fdca26"
             ],
             [
              1,
              "#f0f921"
             ]
            ],
            "type": "heatmapgl"
           }
          ],
          "histogram": [
           {
            "marker": {
             "colorbar": {
              "outlinewidth": 0,
              "ticks": ""
             }
            },
            "type": "histogram"
           }
          ],
          "histogram2d": [
           {
            "colorbar": {
             "outlinewidth": 0,
             "ticks": ""
            },
            "colorscale": [
             [
              0,
              "#0d0887"
             ],
             [
              0.1111111111111111,
              "#46039f"
             ],
             [
              0.2222222222222222,
              "#7201a8"
             ],
             [
              0.3333333333333333,
              "#9c179e"
             ],
             [
              0.4444444444444444,
              "#bd3786"
             ],
             [
              0.5555555555555556,
              "#d8576b"
             ],
             [
              0.6666666666666666,
              "#ed7953"
             ],
             [
              0.7777777777777778,
              "#fb9f3a"
             ],
             [
              0.8888888888888888,
              "#fdca26"
             ],
             [
              1,
              "#f0f921"
             ]
            ],
            "type": "histogram2d"
           }
          ],
          "histogram2dcontour": [
           {
            "colorbar": {
             "outlinewidth": 0,
             "ticks": ""
            },
            "colorscale": [
             [
              0,
              "#0d0887"
             ],
             [
              0.1111111111111111,
              "#46039f"
             ],
             [
              0.2222222222222222,
              "#7201a8"
             ],
             [
              0.3333333333333333,
              "#9c179e"
             ],
             [
              0.4444444444444444,
              "#bd3786"
             ],
             [
              0.5555555555555556,
              "#d8576b"
             ],
             [
              0.6666666666666666,
              "#ed7953"
             ],
             [
              0.7777777777777778,
              "#fb9f3a"
             ],
             [
              0.8888888888888888,
              "#fdca26"
             ],
             [
              1,
              "#f0f921"
             ]
            ],
            "type": "histogram2dcontour"
           }
          ],
          "mesh3d": [
           {
            "colorbar": {
             "outlinewidth": 0,
             "ticks": ""
            },
            "type": "mesh3d"
           }
          ],
          "parcoords": [
           {
            "line": {
             "colorbar": {
              "outlinewidth": 0,
              "ticks": ""
             }
            },
            "type": "parcoords"
           }
          ],
          "pie": [
           {
            "automargin": true,
            "type": "pie"
           }
          ],
          "scatter": [
           {
            "marker": {
             "colorbar": {
              "outlinewidth": 0,
              "ticks": ""
             }
            },
            "type": "scatter"
           }
          ],
          "scatter3d": [
           {
            "line": {
             "colorbar": {
              "outlinewidth": 0,
              "ticks": ""
             }
            },
            "marker": {
             "colorbar": {
              "outlinewidth": 0,
              "ticks": ""
             }
            },
            "type": "scatter3d"
           }
          ],
          "scattercarpet": [
           {
            "marker": {
             "colorbar": {
              "outlinewidth": 0,
              "ticks": ""
             }
            },
            "type": "scattercarpet"
           }
          ],
          "scattergeo": [
           {
            "marker": {
             "colorbar": {
              "outlinewidth": 0,
              "ticks": ""
             }
            },
            "type": "scattergeo"
           }
          ],
          "scattergl": [
           {
            "marker": {
             "colorbar": {
              "outlinewidth": 0,
              "ticks": ""
             }
            },
            "type": "scattergl"
           }
          ],
          "scattermapbox": [
           {
            "marker": {
             "colorbar": {
              "outlinewidth": 0,
              "ticks": ""
             }
            },
            "type": "scattermapbox"
           }
          ],
          "scatterpolar": [
           {
            "marker": {
             "colorbar": {
              "outlinewidth": 0,
              "ticks": ""
             }
            },
            "type": "scatterpolar"
           }
          ],
          "scatterpolargl": [
           {
            "marker": {
             "colorbar": {
              "outlinewidth": 0,
              "ticks": ""
             }
            },
            "type": "scatterpolargl"
           }
          ],
          "scatterternary": [
           {
            "marker": {
             "colorbar": {
              "outlinewidth": 0,
              "ticks": ""
             }
            },
            "type": "scatterternary"
           }
          ],
          "surface": [
           {
            "colorbar": {
             "outlinewidth": 0,
             "ticks": ""
            },
            "colorscale": [
             [
              0,
              "#0d0887"
             ],
             [
              0.1111111111111111,
              "#46039f"
             ],
             [
              0.2222222222222222,
              "#7201a8"
             ],
             [
              0.3333333333333333,
              "#9c179e"
             ],
             [
              0.4444444444444444,
              "#bd3786"
             ],
             [
              0.5555555555555556,
              "#d8576b"
             ],
             [
              0.6666666666666666,
              "#ed7953"
             ],
             [
              0.7777777777777778,
              "#fb9f3a"
             ],
             [
              0.8888888888888888,
              "#fdca26"
             ],
             [
              1,
              "#f0f921"
             ]
            ],
            "type": "surface"
           }
          ],
          "table": [
           {
            "cells": {
             "fill": {
              "color": "#EBF0F8"
             },
             "line": {
              "color": "white"
             }
            },
            "header": {
             "fill": {
              "color": "#C8D4E3"
             },
             "line": {
              "color": "white"
             }
            },
            "type": "table"
           }
          ]
         },
         "layout": {
          "annotationdefaults": {
           "arrowcolor": "#2a3f5f",
           "arrowhead": 0,
           "arrowwidth": 1
          },
          "coloraxis": {
           "colorbar": {
            "outlinewidth": 0,
            "ticks": ""
           }
          },
          "colorscale": {
           "diverging": [
            [
             0,
             "#8e0152"
            ],
            [
             0.1,
             "#c51b7d"
            ],
            [
             0.2,
             "#de77ae"
            ],
            [
             0.3,
             "#f1b6da"
            ],
            [
             0.4,
             "#fde0ef"
            ],
            [
             0.5,
             "#f7f7f7"
            ],
            [
             0.6,
             "#e6f5d0"
            ],
            [
             0.7,
             "#b8e186"
            ],
            [
             0.8,
             "#7fbc41"
            ],
            [
             0.9,
             "#4d9221"
            ],
            [
             1,
             "#276419"
            ]
           ],
           "sequential": [
            [
             0,
             "#0d0887"
            ],
            [
             0.1111111111111111,
             "#46039f"
            ],
            [
             0.2222222222222222,
             "#7201a8"
            ],
            [
             0.3333333333333333,
             "#9c179e"
            ],
            [
             0.4444444444444444,
             "#bd3786"
            ],
            [
             0.5555555555555556,
             "#d8576b"
            ],
            [
             0.6666666666666666,
             "#ed7953"
            ],
            [
             0.7777777777777778,
             "#fb9f3a"
            ],
            [
             0.8888888888888888,
             "#fdca26"
            ],
            [
             1,
             "#f0f921"
            ]
           ],
           "sequentialminus": [
            [
             0,
             "#0d0887"
            ],
            [
             0.1111111111111111,
             "#46039f"
            ],
            [
             0.2222222222222222,
             "#7201a8"
            ],
            [
             0.3333333333333333,
             "#9c179e"
            ],
            [
             0.4444444444444444,
             "#bd3786"
            ],
            [
             0.5555555555555556,
             "#d8576b"
            ],
            [
             0.6666666666666666,
             "#ed7953"
            ],
            [
             0.7777777777777778,
             "#fb9f3a"
            ],
            [
             0.8888888888888888,
             "#fdca26"
            ],
            [
             1,
             "#f0f921"
            ]
           ]
          },
          "colorway": [
           "#636efa",
           "#EF553B",
           "#00cc96",
           "#ab63fa",
           "#FFA15A",
           "#19d3f3",
           "#FF6692",
           "#B6E880",
           "#FF97FF",
           "#FECB52"
          ],
          "font": {
           "color": "#2a3f5f"
          },
          "geo": {
           "bgcolor": "white",
           "lakecolor": "white",
           "landcolor": "#E5ECF6",
           "showlakes": true,
           "showland": true,
           "subunitcolor": "white"
          },
          "hoverlabel": {
           "align": "left"
          },
          "hovermode": "closest",
          "mapbox": {
           "style": "light"
          },
          "paper_bgcolor": "white",
          "plot_bgcolor": "#E5ECF6",
          "polar": {
           "angularaxis": {
            "gridcolor": "white",
            "linecolor": "white",
            "ticks": ""
           },
           "bgcolor": "#E5ECF6",
           "radialaxis": {
            "gridcolor": "white",
            "linecolor": "white",
            "ticks": ""
           }
          },
          "scene": {
           "xaxis": {
            "backgroundcolor": "#E5ECF6",
            "gridcolor": "white",
            "gridwidth": 2,
            "linecolor": "white",
            "showbackground": true,
            "ticks": "",
            "zerolinecolor": "white"
           },
           "yaxis": {
            "backgroundcolor": "#E5ECF6",
            "gridcolor": "white",
            "gridwidth": 2,
            "linecolor": "white",
            "showbackground": true,
            "ticks": "",
            "zerolinecolor": "white"
           },
           "zaxis": {
            "backgroundcolor": "#E5ECF6",
            "gridcolor": "white",
            "gridwidth": 2,
            "linecolor": "white",
            "showbackground": true,
            "ticks": "",
            "zerolinecolor": "white"
           }
          },
          "shapedefaults": {
           "line": {
            "color": "#2a3f5f"
           }
          },
          "ternary": {
           "aaxis": {
            "gridcolor": "white",
            "linecolor": "white",
            "ticks": ""
           },
           "baxis": {
            "gridcolor": "white",
            "linecolor": "white",
            "ticks": ""
           },
           "bgcolor": "#E5ECF6",
           "caxis": {
            "gridcolor": "white",
            "linecolor": "white",
            "ticks": ""
           }
          },
          "title": {
           "x": 0.05
          },
          "xaxis": {
           "automargin": true,
           "gridcolor": "white",
           "linecolor": "white",
           "ticks": "",
           "title": {
            "standoff": 15
           },
           "zerolinecolor": "white",
           "zerolinewidth": 2
          },
          "yaxis": {
           "automargin": true,
           "gridcolor": "white",
           "linecolor": "white",
           "ticks": "",
           "title": {
            "standoff": 15
           },
           "zerolinecolor": "white",
           "zerolinewidth": 2
          }
         }
        },
        "title": {
         "text": "Normalized Player-style efficiency vs Playstyle"
        },
        "xaxis": {
         "anchor": "y",
         "domain": [
          0,
          1
         ],
         "title": {
          "text": "Play-Style Cluster"
         }
        },
        "yaxis": {
         "anchor": "x",
         "domain": [
          0,
          1
         ],
         "title": {
          "text": "Normalized player-style efficiency"
         }
        }
       }
      },
      "text/html": [
       "<div>\n",
       "        \n",
       "        \n",
       "            <div id=\"e882c686-64f4-4b00-bc89-459e2f29f959\" class=\"plotly-graph-div\" style=\"height:400px; width:100%;\"></div>\n",
       "            <script type=\"text/javascript\">\n",
       "                require([\"plotly\"], function(Plotly) {\n",
       "                    window.PLOTLYENV=window.PLOTLYENV || {};\n",
       "                    \n",
       "                if (document.getElementById(\"e882c686-64f4-4b00-bc89-459e2f29f959\")) {\n",
       "                    Plotly.newPlot(\n",
       "                        'e882c686-64f4-4b00-bc89-459e2f29f959',\n",
       "                        [{\"alignmentgroup\": \"True\", \"hoverlabel\": {\"namelength\": 0}, \"hovertemplate\": \"Play-Style=PnR/Ball handling Guards<br>Play-Style Cluster=%{x}<br>Normalized player-style efficiency=%{y}\", \"legendgroup\": \"Play-Style=PnR/Ball handling Guards\", \"marker\": {\"color\": \"#636efa\"}, \"name\": \"Play-Style=PnR/Ball handling Guards\", \"offsetgroup\": \"Play-Style=PnR/Ball handling Guards\", \"orientation\": \"v\", \"showlegend\": true, \"textposition\": \"auto\", \"type\": \"bar\", \"x\": [\"PnR/Ball handling Guards\"], \"xaxis\": \"x\", \"y\": [0.0], \"yaxis\": \"y\"}, {\"alignmentgroup\": \"True\", \"hoverlabel\": {\"namelength\": 0}, \"hovertemplate\": \"Play-Style=Stretch 4s<br>Play-Style Cluster=%{x}<br>Normalized player-style efficiency=%{y}\", \"legendgroup\": \"Play-Style=Stretch 4s\", \"marker\": {\"color\": \"#EF553B\"}, \"name\": \"Play-Style=Stretch 4s\", \"offsetgroup\": \"Play-Style=Stretch 4s\", \"orientation\": \"v\", \"showlegend\": true, \"textposition\": \"auto\", \"type\": \"bar\", \"x\": [\"Stretch 4s\"], \"xaxis\": \"x\", \"y\": [0.30199549247076646], \"yaxis\": \"y\"}, {\"alignmentgroup\": \"True\", \"hoverlabel\": {\"namelength\": 0}, \"hovertemplate\": \"Play-Style=Post-Up Bigs<br>Play-Style Cluster=%{x}<br>Normalized player-style efficiency=%{y}\", \"legendgroup\": \"Play-Style=Post-Up Bigs\", \"marker\": {\"color\": \"#00cc96\"}, \"name\": \"Play-Style=Post-Up Bigs\", \"offsetgroup\": \"Play-Style=Post-Up Bigs\", \"orientation\": \"v\", \"showlegend\": true, \"textposition\": \"auto\", \"type\": \"bar\", \"x\": [\"Post-Up Bigs\"], \"xaxis\": \"x\", \"y\": [0.6756100950172668], \"yaxis\": \"y\"}, {\"alignmentgroup\": \"True\", \"hoverlabel\": {\"namelength\": 0}, \"hovertemplate\": \"Play-Style=Perimeter Wings<br>Play-Style Cluster=%{x}<br>Normalized player-style efficiency=%{y}\", \"legendgroup\": \"Play-Style=Perimeter Wings\", \"marker\": {\"color\": \"#ab63fa\"}, \"name\": \"Play-Style=Perimeter Wings\", \"offsetgroup\": \"Play-Style=Perimeter Wings\", \"orientation\": \"v\", \"showlegend\": true, \"textposition\": \"auto\", \"type\": \"bar\", \"x\": [\"Perimeter Wings\"], \"xaxis\": \"x\", \"y\": [0.6255103153592004], \"yaxis\": \"y\"}, {\"alignmentgroup\": \"True\", \"hoverlabel\": {\"namelength\": 0}, \"hovertemplate\": \"Play-Style=Rolling Bigs<br>Play-Style Cluster=%{x}<br>Normalized player-style efficiency=%{y}\", \"legendgroup\": \"Play-Style=Rolling Bigs\", \"marker\": {\"color\": \"#FFA15A\"}, \"name\": \"Play-Style=Rolling Bigs\", \"offsetgroup\": \"Play-Style=Rolling Bigs\", \"orientation\": \"v\", \"showlegend\": true, \"textposition\": \"auto\", \"type\": \"bar\", \"x\": [\"Rolling Bigs\"], \"xaxis\": \"x\", \"y\": [1.0], \"yaxis\": \"y\"}, {\"alignmentgroup\": \"True\", \"hoverlabel\": {\"namelength\": 0}, \"hovertemplate\": \"Play-Style=Versatile Wings<br>Play-Style Cluster=%{x}<br>Normalized player-style efficiency=%{y}\", \"legendgroup\": \"Play-Style=Versatile Wings\", \"marker\": {\"color\": \"#19d3f3\"}, \"name\": \"Play-Style=Versatile Wings\", \"offsetgroup\": \"Play-Style=Versatile Wings\", \"orientation\": \"v\", \"showlegend\": true, \"textposition\": \"auto\", \"type\": \"bar\", \"x\": [\"Versatile Wings\"], \"xaxis\": \"x\", \"y\": [0.7782138918901713], \"yaxis\": \"y\"}, {\"alignmentgroup\": \"True\", \"hoverlabel\": {\"namelength\": 0}, \"hovertemplate\": \"Play-Style=C&S Guards<br>Play-Style Cluster=%{x}<br>Normalized player-style efficiency=%{y}\", \"legendgroup\": \"Play-Style=C&S Guards\", \"marker\": {\"color\": \"#FF6692\"}, \"name\": \"Play-Style=C&S Guards\", \"offsetgroup\": \"Play-Style=C&S Guards\", \"orientation\": \"v\", \"showlegend\": true, \"textposition\": \"auto\", \"type\": \"bar\", \"x\": [\"C&S Guards\"], \"xaxis\": \"x\", \"y\": [0.37697176371416935], \"yaxis\": \"y\"}],\n",
       "                        {\"barmode\": \"relative\", \"height\": 400, \"legend\": {\"tracegroupgap\": 0}, \"template\": {\"data\": {\"bar\": [{\"error_x\": {\"color\": \"#2a3f5f\"}, \"error_y\": {\"color\": \"#2a3f5f\"}, \"marker\": {\"line\": {\"color\": \"#E5ECF6\", \"width\": 0.5}}, \"type\": \"bar\"}], \"barpolar\": [{\"marker\": {\"line\": {\"color\": \"#E5ECF6\", \"width\": 0.5}}, \"type\": \"barpolar\"}], \"carpet\": [{\"aaxis\": {\"endlinecolor\": \"#2a3f5f\", \"gridcolor\": \"white\", \"linecolor\": \"white\", \"minorgridcolor\": \"white\", \"startlinecolor\": \"#2a3f5f\"}, \"baxis\": {\"endlinecolor\": \"#2a3f5f\", \"gridcolor\": \"white\", \"linecolor\": \"white\", \"minorgridcolor\": \"white\", \"startlinecolor\": \"#2a3f5f\"}, \"type\": \"carpet\"}], \"choropleth\": [{\"colorbar\": {\"outlinewidth\": 0, \"ticks\": \"\"}, \"type\": \"choropleth\"}], \"contour\": [{\"colorbar\": {\"outlinewidth\": 0, \"ticks\": \"\"}, \"colorscale\": [[0.0, \"#0d0887\"], [0.1111111111111111, \"#46039f\"], [0.2222222222222222, \"#7201a8\"], [0.3333333333333333, \"#9c179e\"], [0.4444444444444444, \"#bd3786\"], [0.5555555555555556, \"#d8576b\"], [0.6666666666666666, \"#ed7953\"], [0.7777777777777778, \"#fb9f3a\"], [0.8888888888888888, \"#fdca26\"], [1.0, \"#f0f921\"]], \"type\": \"contour\"}], \"contourcarpet\": [{\"colorbar\": {\"outlinewidth\": 0, \"ticks\": \"\"}, \"type\": \"contourcarpet\"}], \"heatmap\": [{\"colorbar\": {\"outlinewidth\": 0, \"ticks\": \"\"}, \"colorscale\": [[0.0, \"#0d0887\"], [0.1111111111111111, \"#46039f\"], [0.2222222222222222, \"#7201a8\"], [0.3333333333333333, \"#9c179e\"], [0.4444444444444444, \"#bd3786\"], [0.5555555555555556, \"#d8576b\"], [0.6666666666666666, \"#ed7953\"], [0.7777777777777778, \"#fb9f3a\"], [0.8888888888888888, \"#fdca26\"], [1.0, \"#f0f921\"]], \"type\": \"heatmap\"}], \"heatmapgl\": [{\"colorbar\": {\"outlinewidth\": 0, \"ticks\": \"\"}, \"colorscale\": [[0.0, \"#0d0887\"], [0.1111111111111111, \"#46039f\"], [0.2222222222222222, \"#7201a8\"], [0.3333333333333333, \"#9c179e\"], [0.4444444444444444, \"#bd3786\"], [0.5555555555555556, \"#d8576b\"], [0.6666666666666666, \"#ed7953\"], [0.7777777777777778, \"#fb9f3a\"], [0.8888888888888888, \"#fdca26\"], [1.0, \"#f0f921\"]], \"type\": \"heatmapgl\"}], \"histogram\": [{\"marker\": {\"colorbar\": {\"outlinewidth\": 0, \"ticks\": \"\"}}, \"type\": \"histogram\"}], \"histogram2d\": [{\"colorbar\": {\"outlinewidth\": 0, \"ticks\": \"\"}, \"colorscale\": [[0.0, \"#0d0887\"], [0.1111111111111111, \"#46039f\"], [0.2222222222222222, \"#7201a8\"], [0.3333333333333333, \"#9c179e\"], [0.4444444444444444, \"#bd3786\"], [0.5555555555555556, \"#d8576b\"], [0.6666666666666666, \"#ed7953\"], [0.7777777777777778, \"#fb9f3a\"], [0.8888888888888888, \"#fdca26\"], [1.0, \"#f0f921\"]], \"type\": \"histogram2d\"}], \"histogram2dcontour\": [{\"colorbar\": {\"outlinewidth\": 0, \"ticks\": \"\"}, \"colorscale\": [[0.0, \"#0d0887\"], [0.1111111111111111, \"#46039f\"], [0.2222222222222222, \"#7201a8\"], [0.3333333333333333, \"#9c179e\"], [0.4444444444444444, \"#bd3786\"], [0.5555555555555556, \"#d8576b\"], [0.6666666666666666, \"#ed7953\"], [0.7777777777777778, \"#fb9f3a\"], [0.8888888888888888, \"#fdca26\"], [1.0, \"#f0f921\"]], \"type\": \"histogram2dcontour\"}], \"mesh3d\": [{\"colorbar\": {\"outlinewidth\": 0, \"ticks\": \"\"}, \"type\": \"mesh3d\"}], \"parcoords\": [{\"line\": {\"colorbar\": {\"outlinewidth\": 0, \"ticks\": \"\"}}, \"type\": \"parcoords\"}], \"pie\": [{\"automargin\": true, \"type\": \"pie\"}], \"scatter\": [{\"marker\": {\"colorbar\": {\"outlinewidth\": 0, \"ticks\": \"\"}}, \"type\": \"scatter\"}], \"scatter3d\": [{\"line\": {\"colorbar\": {\"outlinewidth\": 0, \"ticks\": \"\"}}, \"marker\": {\"colorbar\": {\"outlinewidth\": 0, \"ticks\": \"\"}}, \"type\": \"scatter3d\"}], \"scattercarpet\": [{\"marker\": {\"colorbar\": {\"outlinewidth\": 0, \"ticks\": \"\"}}, \"type\": \"scattercarpet\"}], \"scattergeo\": [{\"marker\": {\"colorbar\": {\"outlinewidth\": 0, \"ticks\": \"\"}}, \"type\": \"scattergeo\"}], \"scattergl\": [{\"marker\": {\"colorbar\": {\"outlinewidth\": 0, \"ticks\": \"\"}}, \"type\": \"scattergl\"}], \"scattermapbox\": [{\"marker\": {\"colorbar\": {\"outlinewidth\": 0, \"ticks\": \"\"}}, \"type\": \"scattermapbox\"}], \"scatterpolar\": [{\"marker\": {\"colorbar\": {\"outlinewidth\": 0, \"ticks\": \"\"}}, \"type\": \"scatterpolar\"}], \"scatterpolargl\": [{\"marker\": {\"colorbar\": {\"outlinewidth\": 0, \"ticks\": \"\"}}, \"type\": \"scatterpolargl\"}], \"scatterternary\": [{\"marker\": {\"colorbar\": {\"outlinewidth\": 0, \"ticks\": \"\"}}, \"type\": \"scatterternary\"}], \"surface\": [{\"colorbar\": {\"outlinewidth\": 0, \"ticks\": \"\"}, \"colorscale\": [[0.0, \"#0d0887\"], [0.1111111111111111, \"#46039f\"], [0.2222222222222222, \"#7201a8\"], [0.3333333333333333, \"#9c179e\"], [0.4444444444444444, \"#bd3786\"], [0.5555555555555556, \"#d8576b\"], [0.6666666666666666, \"#ed7953\"], [0.7777777777777778, \"#fb9f3a\"], [0.8888888888888888, \"#fdca26\"], [1.0, \"#f0f921\"]], \"type\": \"surface\"}], \"table\": [{\"cells\": {\"fill\": {\"color\": \"#EBF0F8\"}, \"line\": {\"color\": \"white\"}}, \"header\": {\"fill\": {\"color\": \"#C8D4E3\"}, \"line\": {\"color\": \"white\"}}, \"type\": \"table\"}]}, \"layout\": {\"annotationdefaults\": {\"arrowcolor\": \"#2a3f5f\", \"arrowhead\": 0, \"arrowwidth\": 1}, \"coloraxis\": {\"colorbar\": {\"outlinewidth\": 0, \"ticks\": \"\"}}, \"colorscale\": {\"diverging\": [[0, \"#8e0152\"], [0.1, \"#c51b7d\"], [0.2, \"#de77ae\"], [0.3, \"#f1b6da\"], [0.4, \"#fde0ef\"], [0.5, \"#f7f7f7\"], [0.6, \"#e6f5d0\"], [0.7, \"#b8e186\"], [0.8, \"#7fbc41\"], [0.9, \"#4d9221\"], [1, \"#276419\"]], \"sequential\": [[0.0, \"#0d0887\"], [0.1111111111111111, \"#46039f\"], [0.2222222222222222, \"#7201a8\"], [0.3333333333333333, \"#9c179e\"], [0.4444444444444444, \"#bd3786\"], [0.5555555555555556, \"#d8576b\"], [0.6666666666666666, \"#ed7953\"], [0.7777777777777778, \"#fb9f3a\"], [0.8888888888888888, \"#fdca26\"], [1.0, \"#f0f921\"]], \"sequentialminus\": [[0.0, \"#0d0887\"], [0.1111111111111111, \"#46039f\"], [0.2222222222222222, \"#7201a8\"], [0.3333333333333333, \"#9c179e\"], [0.4444444444444444, \"#bd3786\"], [0.5555555555555556, \"#d8576b\"], [0.6666666666666666, \"#ed7953\"], [0.7777777777777778, \"#fb9f3a\"], [0.8888888888888888, \"#fdca26\"], [1.0, \"#f0f921\"]]}, \"colorway\": [\"#636efa\", \"#EF553B\", \"#00cc96\", \"#ab63fa\", \"#FFA15A\", \"#19d3f3\", \"#FF6692\", \"#B6E880\", \"#FF97FF\", \"#FECB52\"], \"font\": {\"color\": \"#2a3f5f\"}, \"geo\": {\"bgcolor\": \"white\", \"lakecolor\": \"white\", \"landcolor\": \"#E5ECF6\", \"showlakes\": true, \"showland\": true, \"subunitcolor\": \"white\"}, \"hoverlabel\": {\"align\": \"left\"}, \"hovermode\": \"closest\", \"mapbox\": {\"style\": \"light\"}, \"paper_bgcolor\": \"white\", \"plot_bgcolor\": \"#E5ECF6\", \"polar\": {\"angularaxis\": {\"gridcolor\": \"white\", \"linecolor\": \"white\", \"ticks\": \"\"}, \"bgcolor\": \"#E5ECF6\", \"radialaxis\": {\"gridcolor\": \"white\", \"linecolor\": \"white\", \"ticks\": \"\"}}, \"scene\": {\"xaxis\": {\"backgroundcolor\": \"#E5ECF6\", \"gridcolor\": \"white\", \"gridwidth\": 2, \"linecolor\": \"white\", \"showbackground\": true, \"ticks\": \"\", \"zerolinecolor\": \"white\"}, \"yaxis\": {\"backgroundcolor\": \"#E5ECF6\", \"gridcolor\": \"white\", \"gridwidth\": 2, \"linecolor\": \"white\", \"showbackground\": true, \"ticks\": \"\", \"zerolinecolor\": \"white\"}, \"zaxis\": {\"backgroundcolor\": \"#E5ECF6\", \"gridcolor\": \"white\", \"gridwidth\": 2, \"linecolor\": \"white\", \"showbackground\": true, \"ticks\": \"\", \"zerolinecolor\": \"white\"}}, \"shapedefaults\": {\"line\": {\"color\": \"#2a3f5f\"}}, \"ternary\": {\"aaxis\": {\"gridcolor\": \"white\", \"linecolor\": \"white\", \"ticks\": \"\"}, \"baxis\": {\"gridcolor\": \"white\", \"linecolor\": \"white\", \"ticks\": \"\"}, \"bgcolor\": \"#E5ECF6\", \"caxis\": {\"gridcolor\": \"white\", \"linecolor\": \"white\", \"ticks\": \"\"}}, \"title\": {\"x\": 0.05}, \"xaxis\": {\"automargin\": true, \"gridcolor\": \"white\", \"linecolor\": \"white\", \"ticks\": \"\", \"title\": {\"standoff\": 15}, \"zerolinecolor\": \"white\", \"zerolinewidth\": 2}, \"yaxis\": {\"automargin\": true, \"gridcolor\": \"white\", \"linecolor\": \"white\", \"ticks\": \"\", \"title\": {\"standoff\": 15}, \"zerolinecolor\": \"white\", \"zerolinewidth\": 2}}}, \"title\": {\"text\": \"Normalized Player-style efficiency vs Playstyle\"}, \"xaxis\": {\"anchor\": \"y\", \"domain\": [0.0, 1.0], \"title\": {\"text\": \"Play-Style Cluster\"}}, \"yaxis\": {\"anchor\": \"x\", \"domain\": [0.0, 1.0], \"title\": {\"text\": \"Normalized player-style efficiency\"}}},\n",
       "                        {\"responsive\": true}\n",
       "                    ).then(function(){\n",
       "                            \n",
       "var gd = document.getElementById('e882c686-64f4-4b00-bc89-459e2f29f959');\n",
       "var x = new MutationObserver(function (mutations, observer) {{\n",
       "        var display = window.getComputedStyle(gd).display;\n",
       "        if (!display || display === 'none') {{\n",
       "            console.log([gd, 'removed!']);\n",
       "            Plotly.purge(gd);\n",
       "            observer.disconnect();\n",
       "        }}\n",
       "}});\n",
       "\n",
       "// Listen for the removal of the full notebook cells\n",
       "var notebookContainer = gd.closest('#notebook-container');\n",
       "if (notebookContainer) {{\n",
       "    x.observe(notebookContainer, {childList: true});\n",
       "}}\n",
       "\n",
       "// Listen for the clearing of the current output cell\n",
       "var outputEl = gd.closest('.output');\n",
       "if (outputEl) {{\n",
       "    x.observe(outputEl, {childList: true});\n",
       "}}\n",
       "\n",
       "                        })\n",
       "                };\n",
       "                });\n",
       "            </script>\n",
       "        </div>"
      ]
     },
     "metadata": {},
     "output_type": "display_data"
    }
   ],
   "source": [
    "# cluster_index\n",
    "import plotly.express as px\n",
    "\n",
    "pp_data = pd.read_csv(\"data/data_cleaned/poss_ppp_data/poss2015.csv\")\n",
    "cluster_poss = defaultdict(int)\n",
    "def get_ppp(pp_new):\n",
    "    ppp = pp_new['iso_ppp']*pp_new['iso_poss'] + pp_new['tr_ppp']*pp_new['tr_poss'] + pp_new['prb_ppp']*pp_new['prb_poss']+pp_new['prr_ppp']*pp_new['prr_poss']+ pp_new['pu_ppp']*pp_new['pu_poss']+ pp_new['su_ppp']*pp_new['su_poss']+pp_new['ho_ppp']*pp_new['ho_poss']+pp_new['cut_ppp']*pp_new['cut_poss']+pp_new['os_ppp']*pp_new['os_poss']+pp_new['putback_ppp']*pp_new['putback_poss']+pp_new['misc_ppp']*pp_new['misc_poss']\n",
    "    return ppp \n",
    "    \n",
    "    \n",
    "    \n",
    "    \n",
    "\n",
    "ppp_dict = defaultdict(float)\n",
    "\n",
    "\n",
    "for each in cluster_index:\n",
    "    pp_new = pp_data[pp_data['PLAYER_NAME'] == each]\n",
    "    clus = cluster_index[each]\n",
    "    cluster_poss[cluster_names[clus]]+= pp_new['total_poss'].values[0]\n",
    "    # print(get_ppp(pp_new).values[0])\n",
    "    ppp_dict[cluster_names[clus]] += get_ppp(pp_new).values[0]\n",
    "    \n",
    "    \n",
    "\n",
    "\n",
    "for each in ppp_dict:\n",
    "    ppp_dict[each] = ppp_dict[each]/float(cluster_poss[each])\n",
    "print(ppp_dict)  \n",
    "    \n",
    "a = cluster_poss.values()\n",
    "norm = [(float(i)-min(a))/(max(a)-min(a)) for i in a]\n",
    "\n",
    "fig = px.bar(x = cluster_poss.keys(), y = norm,height=400, color = list(cluster_poss.keys()),labels={\n",
    "                     \"x\" : \"Play-Style Cluster\",\n",
    "                     \"y\": \"Normalized Possession Share\",\n",
    "                     \"color\" : \"Play-Style\"\n",
    "                 },\n",
    "            title=\"Normalized Player-style possession share vs Playstyle\")\n",
    "fig.show()\n",
    "\n",
    "a = ppp_dict.values()\n",
    "norm = [(float(i)-min(a))/(max(a)-min(a)) for i in a]\n",
    "\n",
    "\n",
    "fig = px.bar(x = ppp_dict.keys(), y = norm,height=400, color = list(ppp_dict.keys()),labels={\n",
    "                     \"x\" : \"Play-Style Cluster\",\n",
    "                     \"y\": \"Normalized player-style efficiency\",\n",
    "                     \"color\" : \"Play-Style\"\n",
    "                 },\n",
    "            title=\"Normalized Player-style efficiency vs Playstyle\")\n",
    "fig.show()\n",
    "    "
   ]
  },
  {
   "cell_type": "code",
   "execution_count": 23,
   "metadata": {},
   "outputs": [
    {
     "name": "stdout",
     "output_type": "stream",
     "text": [
      "5833\n",
      "['Mid-Range' 'Restricted Area' 'In The Paint (Non-RA)' 'Above the Break 3'\n",
      " 'Left Corner 3' 'Right Corner 3' 'Backcourt']\n",
      "{'Mid-Range': (0.3942901234567901, 1296), 'Restricted Area': (0.5787486515641855, 1854), 'In The Paint (Non-RA)': (0.39146800501882056, 797), 'Above the Break 3': (0.4713687150837989, 1432), 'Left Corner 3': (0.5341463414634147, 205), 'Right Corner 3': (0.5432098765432098, 243), 'Backcourt': (0.25, 6)}\n",
      "defaultdict(<class 'int'>, {'PnR/Ball handling Guards': 1997, 'Stretch 4s': 588, 'Post-Up Bigs': 624, 'Perimeter Wings': 752, 'Rolling Bigs': 282, 'Versatile Wings': 748, 'C&S Guards': 657})\n",
      "{'PnR/Ball handling Guards': 0.45693540310465697, 'Stretch 4s': 0.48554421768707484, 'Post-Up Bigs': 0.5160256410256411, 'Perimeter Wings': 0.5146276595744681, 'Rolling Bigs': 0.5425531914893617, 'Versatile Wings': 0.4505347593582888, 'C&S Guards': 0.4840182648401826}\n"
     ]
    }
   ],
   "source": [
    "df_shots = pd.read_csv('data/shot_logs_margin.csv')\n",
    "\n",
    "clutch = df_shots[(df_shots['Margin'] <= 5) & (df_shots['PERIOD'] == 4) & (df_shots['MINUTES_REMAINING'] <= 5) ]\n",
    "\n",
    "cluster_names = {cluster_index['Jeff Green']: \"Versatile Wings\", cluster_index['Eric Bledsoe']: \"PnR/Ball handling Guards\", cluster_index['Kentavious Caldwell-Pope']: \"C&S Guards\", cluster_index['Robert Covington']:  \"Perimeter Wings\", cluster_index['Brook Lopez']: \"Post-Up Bigs\", cluster_index['Mike Scott']: \"Stretch 4s\", cluster_index['DeAndre Jordan']: \"Rolling Bigs\"}\n",
    "# print(df_shots[''])\n",
    "# clutch = df_shots[(df_shots.FINAL_MARGIN < 5) & (df_shots.GAME_CLOCK < '5:00') & (df_shots.PERIOD == 4)]\n",
    "# raw = df_shots\n",
    "# counts = raw[(raw.FINAL_MARGIN < 5) & (raw.GAME_CLOCK < '5:00') & (raw.PERIOD == 4)].groupby('SHOT_RESULT').size()\n",
    "# print(counts)\n",
    "print(len(clutch))\n",
    "clutch_dict = {}\n",
    "areas = df_shots['SHOT_ZONE_BASIC'].unique()\n",
    "print(areas)\n",
    "area_EFG = {}\n",
    "for each in names:\n",
    "    \n",
    "    \n",
    "    \n",
    "    try:\n",
    "        curr = clutch[clutch['PLAYER_NAME'] == each]\n",
    "        twos = curr[curr['SHOT_TYPE'] == '2PT Field Goal']\n",
    "        threes = curr[curr['SHOT_TYPE'] == '3PT Field Goal']\n",
    "        EFG = (len(threes[threes['SHOT_MADE_FLAG'] == 1])* 0.5 + len(curr[curr['SHOT_MADE_FLAG'] == 1]))/ len(curr)\n",
    "        clutch_dict[each] = (EFG, len(curr))\n",
    "    except:\n",
    "        continue\n",
    "        \n",
    "for each in areas:\n",
    "    \n",
    "    \n",
    "    \n",
    "    try:\n",
    "        curr = clutch[clutch['SHOT_ZONE_BASIC'] == each]\n",
    "        twos = curr[curr['SHOT_TYPE'] == '2PT Field Goal']\n",
    "        threes = curr[curr['SHOT_TYPE'] == '3PT Field Goal']\n",
    "        EFG = (len(threes[threes['SHOT_MADE_FLAG'] == 1])* 0.5 + len(curr[curr['SHOT_MADE_FLAG'] == 1]))/ len(curr)\n",
    "        area_EFG[each] = (EFG, len(curr))\n",
    "    except:\n",
    "        continue       \n",
    "        \n",
    "print(area_EFG)\n",
    "\n",
    "with open('data/clutchstats.csv', 'w') as csv_file:  \n",
    "    writer = csv.writer(csv_file)\n",
    "    for key, value in clutch_dict.items():\n",
    "        writer.writerow([key, value])\n",
    "    \n",
    "\n",
    "clust_dict = cluster_index\n",
    "weighted_score = defaultdict(float)\n",
    "weighted_att = defaultdict(float)\n",
    "weighted_EFG = {}\n",
    "attempts = defaultdict(int)\n",
    "for each in clust_dict:\n",
    "    try:\n",
    "        score = clutch_dict[each] \n",
    "        weighted_score[clust_dict[each]] += score[0]*score[1]\n",
    "        weighted_att[clust_dict[each]] += score[1]\n",
    "        weighted_EFG[cluster_names[ clust_dict[each]]  ] = weighted_score[clust_dict[each]]/ weighted_att[clust_dict[each]]\n",
    "        attempts[cluster_names[ clust_dict[each]]  ] += score[1]\n",
    "\n",
    "    except:\n",
    "        continue\n",
    "    \n",
    "    \n",
    "print(attempts)\n",
    "    \n",
    "\n",
    "\n",
    "print(weighted_EFG)\n",
    "\n",
    "\n",
    "    \n",
    "\n",
    "\n",
    "        "
   ]
  },
  {
   "cell_type": "code",
   "execution_count": 19,
   "metadata": {},
   "outputs": [
    {
     "data": {
      "application/vnd.plotly.v1+json": {
       "config": {
        "plotlyServerURL": "https://plot.ly"
       },
       "data": [
        {
         "alignmentgroup": "True",
         "hoverlabel": {
          "namelength": 0
         },
         "hovertemplate": "Play-Style=PnR/Ball handling Guards<br>Play-Style Cluster=%{x}<br>Normalized Scoring Efficiency=%{y}",
         "legendgroup": "Play-Style=PnR/Ball handling Guards",
         "marker": {
          "color": "#636efa"
         },
         "name": "Play-Style=PnR/Ball handling Guards",
         "offsetgroup": "Play-Style=PnR/Ball handling Guards",
         "orientation": "v",
         "showlegend": true,
         "textposition": "auto",
         "type": "bar",
         "x": [
          "PnR/Ball handling Guards"
         ],
         "xaxis": "x",
         "y": [
          0.06955827868541567
         ],
         "yaxis": "y"
        },
        {
         "alignmentgroup": "True",
         "hoverlabel": {
          "namelength": 0
         },
         "hovertemplate": "Play-Style=Stretch 4s<br>Play-Style Cluster=%{x}<br>Normalized Scoring Efficiency=%{y}",
         "legendgroup": "Play-Style=Stretch 4s",
         "marker": {
          "color": "#EF553B"
         },
         "name": "Play-Style=Stretch 4s",
         "offsetgroup": "Play-Style=Stretch 4s",
         "orientation": "v",
         "showlegend": true,
         "textposition": "auto",
         "type": "bar",
         "x": [
          "Stretch 4s"
         ],
         "xaxis": "x",
         "y": [
          0.3804613653807738
         ],
         "yaxis": "y"
        },
        {
         "alignmentgroup": "True",
         "hoverlabel": {
          "namelength": 0
         },
         "hovertemplate": "Play-Style=Post-Up Bigs<br>Play-Style Cluster=%{x}<br>Normalized Scoring Efficiency=%{y}",
         "legendgroup": "Play-Style=Post-Up Bigs",
         "marker": {
          "color": "#00cc96"
         },
         "name": "Play-Style=Post-Up Bigs",
         "offsetgroup": "Play-Style=Post-Up Bigs",
         "orientation": "v",
         "showlegend": true,
         "textposition": "auto",
         "type": "bar",
         "x": [
          "Post-Up Bigs"
         ],
         "xaxis": "x",
         "y": [
          0.711714817897199
         ],
         "yaxis": "y"
        },
        {
         "alignmentgroup": "True",
         "hoverlabel": {
          "namelength": 0
         },
         "hovertemplate": "Play-Style=Perimeter Wings<br>Play-Style Cluster=%{x}<br>Normalized Scoring Efficiency=%{y}",
         "legendgroup": "Play-Style=Perimeter Wings",
         "marker": {
          "color": "#ab63fa"
         },
         "name": "Play-Style=Perimeter Wings",
         "offsetgroup": "Play-Style=Perimeter Wings",
         "orientation": "v",
         "showlegend": true,
         "textposition": "auto",
         "type": "bar",
         "x": [
          "Perimeter Wings"
         ],
         "xaxis": "x",
         "y": [
          0.6965224111282848
         ],
         "yaxis": "y"
        },
        {
         "alignmentgroup": "True",
         "hoverlabel": {
          "namelength": 0
         },
         "hovertemplate": "Play-Style=Rolling Bigs<br>Play-Style Cluster=%{x}<br>Normalized Scoring Efficiency=%{y}",
         "legendgroup": "Play-Style=Rolling Bigs",
         "marker": {
          "color": "#FFA15A"
         },
         "name": "Play-Style=Rolling Bigs",
         "offsetgroup": "Play-Style=Rolling Bigs",
         "orientation": "v",
         "showlegend": true,
         "textposition": "auto",
         "type": "bar",
         "x": [
          "Rolling Bigs"
         ],
         "xaxis": "x",
         "y": [
          1
         ],
         "yaxis": "y"
        },
        {
         "alignmentgroup": "True",
         "hoverlabel": {
          "namelength": 0
         },
         "hovertemplate": "Play-Style=Versatile Wings<br>Play-Style Cluster=%{x}<br>Normalized Scoring Efficiency=%{y}",
         "legendgroup": "Play-Style=Versatile Wings",
         "marker": {
          "color": "#19d3f3"
         },
         "name": "Play-Style=Versatile Wings",
         "offsetgroup": "Play-Style=Versatile Wings",
         "orientation": "v",
         "showlegend": true,
         "textposition": "auto",
         "type": "bar",
         "x": [
          "Versatile Wings"
         ],
         "xaxis": "x",
         "y": [
          0
         ],
         "yaxis": "y"
        },
        {
         "alignmentgroup": "True",
         "hoverlabel": {
          "namelength": 0
         },
         "hovertemplate": "Play-Style=C&S Guards<br>Play-Style Cluster=%{x}<br>Normalized Scoring Efficiency=%{y}",
         "legendgroup": "Play-Style=C&S Guards",
         "marker": {
          "color": "#FF6692"
         },
         "name": "Play-Style=C&S Guards",
         "offsetgroup": "Play-Style=C&S Guards",
         "orientation": "v",
         "showlegend": true,
         "textposition": "auto",
         "type": "bar",
         "x": [
          "C&S Guards"
         ],
         "xaxis": "x",
         "y": [
          0.36387824380879763
         ],
         "yaxis": "y"
        }
       ],
       "layout": {
        "barmode": "relative",
        "height": 400,
        "legend": {
         "tracegroupgap": 0
        },
        "template": {
         "data": {
          "bar": [
           {
            "error_x": {
             "color": "#2a3f5f"
            },
            "error_y": {
             "color": "#2a3f5f"
            },
            "marker": {
             "line": {
              "color": "#E5ECF6",
              "width": 0.5
             }
            },
            "type": "bar"
           }
          ],
          "barpolar": [
           {
            "marker": {
             "line": {
              "color": "#E5ECF6",
              "width": 0.5
             }
            },
            "type": "barpolar"
           }
          ],
          "carpet": [
           {
            "aaxis": {
             "endlinecolor": "#2a3f5f",
             "gridcolor": "white",
             "linecolor": "white",
             "minorgridcolor": "white",
             "startlinecolor": "#2a3f5f"
            },
            "baxis": {
             "endlinecolor": "#2a3f5f",
             "gridcolor": "white",
             "linecolor": "white",
             "minorgridcolor": "white",
             "startlinecolor": "#2a3f5f"
            },
            "type": "carpet"
           }
          ],
          "choropleth": [
           {
            "colorbar": {
             "outlinewidth": 0,
             "ticks": ""
            },
            "type": "choropleth"
           }
          ],
          "contour": [
           {
            "colorbar": {
             "outlinewidth": 0,
             "ticks": ""
            },
            "colorscale": [
             [
              0,
              "#0d0887"
             ],
             [
              0.1111111111111111,
              "#46039f"
             ],
             [
              0.2222222222222222,
              "#7201a8"
             ],
             [
              0.3333333333333333,
              "#9c179e"
             ],
             [
              0.4444444444444444,
              "#bd3786"
             ],
             [
              0.5555555555555556,
              "#d8576b"
             ],
             [
              0.6666666666666666,
              "#ed7953"
             ],
             [
              0.7777777777777778,
              "#fb9f3a"
             ],
             [
              0.8888888888888888,
              "#fdca26"
             ],
             [
              1,
              "#f0f921"
             ]
            ],
            "type": "contour"
           }
          ],
          "contourcarpet": [
           {
            "colorbar": {
             "outlinewidth": 0,
             "ticks": ""
            },
            "type": "contourcarpet"
           }
          ],
          "heatmap": [
           {
            "colorbar": {
             "outlinewidth": 0,
             "ticks": ""
            },
            "colorscale": [
             [
              0,
              "#0d0887"
             ],
             [
              0.1111111111111111,
              "#46039f"
             ],
             [
              0.2222222222222222,
              "#7201a8"
             ],
             [
              0.3333333333333333,
              "#9c179e"
             ],
             [
              0.4444444444444444,
              "#bd3786"
             ],
             [
              0.5555555555555556,
              "#d8576b"
             ],
             [
              0.6666666666666666,
              "#ed7953"
             ],
             [
              0.7777777777777778,
              "#fb9f3a"
             ],
             [
              0.8888888888888888,
              "#fdca26"
             ],
             [
              1,
              "#f0f921"
             ]
            ],
            "type": "heatmap"
           }
          ],
          "heatmapgl": [
           {
            "colorbar": {
             "outlinewidth": 0,
             "ticks": ""
            },
            "colorscale": [
             [
              0,
              "#0d0887"
             ],
             [
              0.1111111111111111,
              "#46039f"
             ],
             [
              0.2222222222222222,
              "#7201a8"
             ],
             [
              0.3333333333333333,
              "#9c179e"
             ],
             [
              0.4444444444444444,
              "#bd3786"
             ],
             [
              0.5555555555555556,
              "#d8576b"
             ],
             [
              0.6666666666666666,
              "#ed7953"
             ],
             [
              0.7777777777777778,
              "#fb9f3a"
             ],
             [
              0.8888888888888888,
              "#fdca26"
             ],
             [
              1,
              "#f0f921"
             ]
            ],
            "type": "heatmapgl"
           }
          ],
          "histogram": [
           {
            "marker": {
             "colorbar": {
              "outlinewidth": 0,
              "ticks": ""
             }
            },
            "type": "histogram"
           }
          ],
          "histogram2d": [
           {
            "colorbar": {
             "outlinewidth": 0,
             "ticks": ""
            },
            "colorscale": [
             [
              0,
              "#0d0887"
             ],
             [
              0.1111111111111111,
              "#46039f"
             ],
             [
              0.2222222222222222,
              "#7201a8"
             ],
             [
              0.3333333333333333,
              "#9c179e"
             ],
             [
              0.4444444444444444,
              "#bd3786"
             ],
             [
              0.5555555555555556,
              "#d8576b"
             ],
             [
              0.6666666666666666,
              "#ed7953"
             ],
             [
              0.7777777777777778,
              "#fb9f3a"
             ],
             [
              0.8888888888888888,
              "#fdca26"
             ],
             [
              1,
              "#f0f921"
             ]
            ],
            "type": "histogram2d"
           }
          ],
          "histogram2dcontour": [
           {
            "colorbar": {
             "outlinewidth": 0,
             "ticks": ""
            },
            "colorscale": [
             [
              0,
              "#0d0887"
             ],
             [
              0.1111111111111111,
              "#46039f"
             ],
             [
              0.2222222222222222,
              "#7201a8"
             ],
             [
              0.3333333333333333,
              "#9c179e"
             ],
             [
              0.4444444444444444,
              "#bd3786"
             ],
             [
              0.5555555555555556,
              "#d8576b"
             ],
             [
              0.6666666666666666,
              "#ed7953"
             ],
             [
              0.7777777777777778,
              "#fb9f3a"
             ],
             [
              0.8888888888888888,
              "#fdca26"
             ],
             [
              1,
              "#f0f921"
             ]
            ],
            "type": "histogram2dcontour"
           }
          ],
          "mesh3d": [
           {
            "colorbar": {
             "outlinewidth": 0,
             "ticks": ""
            },
            "type": "mesh3d"
           }
          ],
          "parcoords": [
           {
            "line": {
             "colorbar": {
              "outlinewidth": 0,
              "ticks": ""
             }
            },
            "type": "parcoords"
           }
          ],
          "pie": [
           {
            "automargin": true,
            "type": "pie"
           }
          ],
          "scatter": [
           {
            "marker": {
             "colorbar": {
              "outlinewidth": 0,
              "ticks": ""
             }
            },
            "type": "scatter"
           }
          ],
          "scatter3d": [
           {
            "line": {
             "colorbar": {
              "outlinewidth": 0,
              "ticks": ""
             }
            },
            "marker": {
             "colorbar": {
              "outlinewidth": 0,
              "ticks": ""
             }
            },
            "type": "scatter3d"
           }
          ],
          "scattercarpet": [
           {
            "marker": {
             "colorbar": {
              "outlinewidth": 0,
              "ticks": ""
             }
            },
            "type": "scattercarpet"
           }
          ],
          "scattergeo": [
           {
            "marker": {
             "colorbar": {
              "outlinewidth": 0,
              "ticks": ""
             }
            },
            "type": "scattergeo"
           }
          ],
          "scattergl": [
           {
            "marker": {
             "colorbar": {
              "outlinewidth": 0,
              "ticks": ""
             }
            },
            "type": "scattergl"
           }
          ],
          "scattermapbox": [
           {
            "marker": {
             "colorbar": {
              "outlinewidth": 0,
              "ticks": ""
             }
            },
            "type": "scattermapbox"
           }
          ],
          "scatterpolar": [
           {
            "marker": {
             "colorbar": {
              "outlinewidth": 0,
              "ticks": ""
             }
            },
            "type": "scatterpolar"
           }
          ],
          "scatterpolargl": [
           {
            "marker": {
             "colorbar": {
              "outlinewidth": 0,
              "ticks": ""
             }
            },
            "type": "scatterpolargl"
           }
          ],
          "scatterternary": [
           {
            "marker": {
             "colorbar": {
              "outlinewidth": 0,
              "ticks": ""
             }
            },
            "type": "scatterternary"
           }
          ],
          "surface": [
           {
            "colorbar": {
             "outlinewidth": 0,
             "ticks": ""
            },
            "colorscale": [
             [
              0,
              "#0d0887"
             ],
             [
              0.1111111111111111,
              "#46039f"
             ],
             [
              0.2222222222222222,
              "#7201a8"
             ],
             [
              0.3333333333333333,
              "#9c179e"
             ],
             [
              0.4444444444444444,
              "#bd3786"
             ],
             [
              0.5555555555555556,
              "#d8576b"
             ],
             [
              0.6666666666666666,
              "#ed7953"
             ],
             [
              0.7777777777777778,
              "#fb9f3a"
             ],
             [
              0.8888888888888888,
              "#fdca26"
             ],
             [
              1,
              "#f0f921"
             ]
            ],
            "type": "surface"
           }
          ],
          "table": [
           {
            "cells": {
             "fill": {
              "color": "#EBF0F8"
             },
             "line": {
              "color": "white"
             }
            },
            "header": {
             "fill": {
              "color": "#C8D4E3"
             },
             "line": {
              "color": "white"
             }
            },
            "type": "table"
           }
          ]
         },
         "layout": {
          "annotationdefaults": {
           "arrowcolor": "#2a3f5f",
           "arrowhead": 0,
           "arrowwidth": 1
          },
          "coloraxis": {
           "colorbar": {
            "outlinewidth": 0,
            "ticks": ""
           }
          },
          "colorscale": {
           "diverging": [
            [
             0,
             "#8e0152"
            ],
            [
             0.1,
             "#c51b7d"
            ],
            [
             0.2,
             "#de77ae"
            ],
            [
             0.3,
             "#f1b6da"
            ],
            [
             0.4,
             "#fde0ef"
            ],
            [
             0.5,
             "#f7f7f7"
            ],
            [
             0.6,
             "#e6f5d0"
            ],
            [
             0.7,
             "#b8e186"
            ],
            [
             0.8,
             "#7fbc41"
            ],
            [
             0.9,
             "#4d9221"
            ],
            [
             1,
             "#276419"
            ]
           ],
           "sequential": [
            [
             0,
             "#0d0887"
            ],
            [
             0.1111111111111111,
             "#46039f"
            ],
            [
             0.2222222222222222,
             "#7201a8"
            ],
            [
             0.3333333333333333,
             "#9c179e"
            ],
            [
             0.4444444444444444,
             "#bd3786"
            ],
            [
             0.5555555555555556,
             "#d8576b"
            ],
            [
             0.6666666666666666,
             "#ed7953"
            ],
            [
             0.7777777777777778,
             "#fb9f3a"
            ],
            [
             0.8888888888888888,
             "#fdca26"
            ],
            [
             1,
             "#f0f921"
            ]
           ],
           "sequentialminus": [
            [
             0,
             "#0d0887"
            ],
            [
             0.1111111111111111,
             "#46039f"
            ],
            [
             0.2222222222222222,
             "#7201a8"
            ],
            [
             0.3333333333333333,
             "#9c179e"
            ],
            [
             0.4444444444444444,
             "#bd3786"
            ],
            [
             0.5555555555555556,
             "#d8576b"
            ],
            [
             0.6666666666666666,
             "#ed7953"
            ],
            [
             0.7777777777777778,
             "#fb9f3a"
            ],
            [
             0.8888888888888888,
             "#fdca26"
            ],
            [
             1,
             "#f0f921"
            ]
           ]
          },
          "colorway": [
           "#636efa",
           "#EF553B",
           "#00cc96",
           "#ab63fa",
           "#FFA15A",
           "#19d3f3",
           "#FF6692",
           "#B6E880",
           "#FF97FF",
           "#FECB52"
          ],
          "font": {
           "color": "#2a3f5f"
          },
          "geo": {
           "bgcolor": "white",
           "lakecolor": "white",
           "landcolor": "#E5ECF6",
           "showlakes": true,
           "showland": true,
           "subunitcolor": "white"
          },
          "hoverlabel": {
           "align": "left"
          },
          "hovermode": "closest",
          "mapbox": {
           "style": "light"
          },
          "paper_bgcolor": "white",
          "plot_bgcolor": "#E5ECF6",
          "polar": {
           "angularaxis": {
            "gridcolor": "white",
            "linecolor": "white",
            "ticks": ""
           },
           "bgcolor": "#E5ECF6",
           "radialaxis": {
            "gridcolor": "white",
            "linecolor": "white",
            "ticks": ""
           }
          },
          "scene": {
           "xaxis": {
            "backgroundcolor": "#E5ECF6",
            "gridcolor": "white",
            "gridwidth": 2,
            "linecolor": "white",
            "showbackground": true,
            "ticks": "",
            "zerolinecolor": "white"
           },
           "yaxis": {
            "backgroundcolor": "#E5ECF6",
            "gridcolor": "white",
            "gridwidth": 2,
            "linecolor": "white",
            "showbackground": true,
            "ticks": "",
            "zerolinecolor": "white"
           },
           "zaxis": {
            "backgroundcolor": "#E5ECF6",
            "gridcolor": "white",
            "gridwidth": 2,
            "linecolor": "white",
            "showbackground": true,
            "ticks": "",
            "zerolinecolor": "white"
           }
          },
          "shapedefaults": {
           "line": {
            "color": "#2a3f5f"
           }
          },
          "ternary": {
           "aaxis": {
            "gridcolor": "white",
            "linecolor": "white",
            "ticks": ""
           },
           "baxis": {
            "gridcolor": "white",
            "linecolor": "white",
            "ticks": ""
           },
           "bgcolor": "#E5ECF6",
           "caxis": {
            "gridcolor": "white",
            "linecolor": "white",
            "ticks": ""
           }
          },
          "title": {
           "x": 0.05
          },
          "xaxis": {
           "automargin": true,
           "gridcolor": "white",
           "linecolor": "white",
           "ticks": "",
           "title": {
            "standoff": 15
           },
           "zerolinecolor": "white",
           "zerolinewidth": 2
          },
          "yaxis": {
           "automargin": true,
           "gridcolor": "white",
           "linecolor": "white",
           "ticks": "",
           "title": {
            "standoff": 15
           },
           "zerolinecolor": "white",
           "zerolinewidth": 2
          }
         }
        },
        "title": {
         "text": "Normalized Efficiency vs Playstyle"
        },
        "xaxis": {
         "anchor": "y",
         "domain": [
          0,
          1
         ],
         "title": {
          "text": "Play-Style Cluster"
         }
        },
        "yaxis": {
         "anchor": "x",
         "domain": [
          0,
          1
         ],
         "title": {
          "text": "Normalized Scoring Efficiency"
         }
        }
       }
      },
      "text/html": [
       "<div>\n",
       "        \n",
       "        \n",
       "            <div id=\"2b435576-e690-4f67-8369-611fba10e2c5\" class=\"plotly-graph-div\" style=\"height:400px; width:100%;\"></div>\n",
       "            <script type=\"text/javascript\">\n",
       "                require([\"plotly\"], function(Plotly) {\n",
       "                    window.PLOTLYENV=window.PLOTLYENV || {};\n",
       "                    \n",
       "                if (document.getElementById(\"2b435576-e690-4f67-8369-611fba10e2c5\")) {\n",
       "                    Plotly.newPlot(\n",
       "                        '2b435576-e690-4f67-8369-611fba10e2c5',\n",
       "                        [{\"alignmentgroup\": \"True\", \"hoverlabel\": {\"namelength\": 0}, \"hovertemplate\": \"Play-Style=PnR/Ball handling Guards<br>Play-Style Cluster=%{x}<br>Normalized Scoring Efficiency=%{y}\", \"legendgroup\": \"Play-Style=PnR/Ball handling Guards\", \"marker\": {\"color\": \"#636efa\"}, \"name\": \"Play-Style=PnR/Ball handling Guards\", \"offsetgroup\": \"Play-Style=PnR/Ball handling Guards\", \"orientation\": \"v\", \"showlegend\": true, \"textposition\": \"auto\", \"type\": \"bar\", \"x\": [\"PnR/Ball handling Guards\"], \"xaxis\": \"x\", \"y\": [0.06955827868541567], \"yaxis\": \"y\"}, {\"alignmentgroup\": \"True\", \"hoverlabel\": {\"namelength\": 0}, \"hovertemplate\": \"Play-Style=Stretch 4s<br>Play-Style Cluster=%{x}<br>Normalized Scoring Efficiency=%{y}\", \"legendgroup\": \"Play-Style=Stretch 4s\", \"marker\": {\"color\": \"#EF553B\"}, \"name\": \"Play-Style=Stretch 4s\", \"offsetgroup\": \"Play-Style=Stretch 4s\", \"orientation\": \"v\", \"showlegend\": true, \"textposition\": \"auto\", \"type\": \"bar\", \"x\": [\"Stretch 4s\"], \"xaxis\": \"x\", \"y\": [0.3804613653807738], \"yaxis\": \"y\"}, {\"alignmentgroup\": \"True\", \"hoverlabel\": {\"namelength\": 0}, \"hovertemplate\": \"Play-Style=Post-Up Bigs<br>Play-Style Cluster=%{x}<br>Normalized Scoring Efficiency=%{y}\", \"legendgroup\": \"Play-Style=Post-Up Bigs\", \"marker\": {\"color\": \"#00cc96\"}, \"name\": \"Play-Style=Post-Up Bigs\", \"offsetgroup\": \"Play-Style=Post-Up Bigs\", \"orientation\": \"v\", \"showlegend\": true, \"textposition\": \"auto\", \"type\": \"bar\", \"x\": [\"Post-Up Bigs\"], \"xaxis\": \"x\", \"y\": [0.711714817897199], \"yaxis\": \"y\"}, {\"alignmentgroup\": \"True\", \"hoverlabel\": {\"namelength\": 0}, \"hovertemplate\": \"Play-Style=Perimeter Wings<br>Play-Style Cluster=%{x}<br>Normalized Scoring Efficiency=%{y}\", \"legendgroup\": \"Play-Style=Perimeter Wings\", \"marker\": {\"color\": \"#ab63fa\"}, \"name\": \"Play-Style=Perimeter Wings\", \"offsetgroup\": \"Play-Style=Perimeter Wings\", \"orientation\": \"v\", \"showlegend\": true, \"textposition\": \"auto\", \"type\": \"bar\", \"x\": [\"Perimeter Wings\"], \"xaxis\": \"x\", \"y\": [0.6965224111282848], \"yaxis\": \"y\"}, {\"alignmentgroup\": \"True\", \"hoverlabel\": {\"namelength\": 0}, \"hovertemplate\": \"Play-Style=Rolling Bigs<br>Play-Style Cluster=%{x}<br>Normalized Scoring Efficiency=%{y}\", \"legendgroup\": \"Play-Style=Rolling Bigs\", \"marker\": {\"color\": \"#FFA15A\"}, \"name\": \"Play-Style=Rolling Bigs\", \"offsetgroup\": \"Play-Style=Rolling Bigs\", \"orientation\": \"v\", \"showlegend\": true, \"textposition\": \"auto\", \"type\": \"bar\", \"x\": [\"Rolling Bigs\"], \"xaxis\": \"x\", \"y\": [1.0], \"yaxis\": \"y\"}, {\"alignmentgroup\": \"True\", \"hoverlabel\": {\"namelength\": 0}, \"hovertemplate\": \"Play-Style=Versatile Wings<br>Play-Style Cluster=%{x}<br>Normalized Scoring Efficiency=%{y}\", \"legendgroup\": \"Play-Style=Versatile Wings\", \"marker\": {\"color\": \"#19d3f3\"}, \"name\": \"Play-Style=Versatile Wings\", \"offsetgroup\": \"Play-Style=Versatile Wings\", \"orientation\": \"v\", \"showlegend\": true, \"textposition\": \"auto\", \"type\": \"bar\", \"x\": [\"Versatile Wings\"], \"xaxis\": \"x\", \"y\": [0.0], \"yaxis\": \"y\"}, {\"alignmentgroup\": \"True\", \"hoverlabel\": {\"namelength\": 0}, \"hovertemplate\": \"Play-Style=C&S Guards<br>Play-Style Cluster=%{x}<br>Normalized Scoring Efficiency=%{y}\", \"legendgroup\": \"Play-Style=C&S Guards\", \"marker\": {\"color\": \"#FF6692\"}, \"name\": \"Play-Style=C&S Guards\", \"offsetgroup\": \"Play-Style=C&S Guards\", \"orientation\": \"v\", \"showlegend\": true, \"textposition\": \"auto\", \"type\": \"bar\", \"x\": [\"C&S Guards\"], \"xaxis\": \"x\", \"y\": [0.36387824380879763], \"yaxis\": \"y\"}],\n",
       "                        {\"barmode\": \"relative\", \"height\": 400, \"legend\": {\"tracegroupgap\": 0}, \"template\": {\"data\": {\"bar\": [{\"error_x\": {\"color\": \"#2a3f5f\"}, \"error_y\": {\"color\": \"#2a3f5f\"}, \"marker\": {\"line\": {\"color\": \"#E5ECF6\", \"width\": 0.5}}, \"type\": \"bar\"}], \"barpolar\": [{\"marker\": {\"line\": {\"color\": \"#E5ECF6\", \"width\": 0.5}}, \"type\": \"barpolar\"}], \"carpet\": [{\"aaxis\": {\"endlinecolor\": \"#2a3f5f\", \"gridcolor\": \"white\", \"linecolor\": \"white\", \"minorgridcolor\": \"white\", \"startlinecolor\": \"#2a3f5f\"}, \"baxis\": {\"endlinecolor\": \"#2a3f5f\", \"gridcolor\": \"white\", \"linecolor\": \"white\", \"minorgridcolor\": \"white\", \"startlinecolor\": \"#2a3f5f\"}, \"type\": \"carpet\"}], \"choropleth\": [{\"colorbar\": {\"outlinewidth\": 0, \"ticks\": \"\"}, \"type\": \"choropleth\"}], \"contour\": [{\"colorbar\": {\"outlinewidth\": 0, \"ticks\": \"\"}, \"colorscale\": [[0.0, \"#0d0887\"], [0.1111111111111111, \"#46039f\"], [0.2222222222222222, \"#7201a8\"], [0.3333333333333333, \"#9c179e\"], [0.4444444444444444, \"#bd3786\"], [0.5555555555555556, \"#d8576b\"], [0.6666666666666666, \"#ed7953\"], [0.7777777777777778, \"#fb9f3a\"], [0.8888888888888888, \"#fdca26\"], [1.0, \"#f0f921\"]], \"type\": \"contour\"}], \"contourcarpet\": [{\"colorbar\": {\"outlinewidth\": 0, \"ticks\": \"\"}, \"type\": \"contourcarpet\"}], \"heatmap\": [{\"colorbar\": {\"outlinewidth\": 0, \"ticks\": \"\"}, \"colorscale\": [[0.0, \"#0d0887\"], [0.1111111111111111, \"#46039f\"], [0.2222222222222222, \"#7201a8\"], [0.3333333333333333, \"#9c179e\"], [0.4444444444444444, \"#bd3786\"], [0.5555555555555556, \"#d8576b\"], [0.6666666666666666, \"#ed7953\"], [0.7777777777777778, \"#fb9f3a\"], [0.8888888888888888, \"#fdca26\"], [1.0, \"#f0f921\"]], \"type\": \"heatmap\"}], \"heatmapgl\": [{\"colorbar\": {\"outlinewidth\": 0, \"ticks\": \"\"}, \"colorscale\": [[0.0, \"#0d0887\"], [0.1111111111111111, \"#46039f\"], [0.2222222222222222, \"#7201a8\"], [0.3333333333333333, \"#9c179e\"], [0.4444444444444444, \"#bd3786\"], [0.5555555555555556, \"#d8576b\"], [0.6666666666666666, \"#ed7953\"], [0.7777777777777778, \"#fb9f3a\"], [0.8888888888888888, \"#fdca26\"], [1.0, \"#f0f921\"]], \"type\": \"heatmapgl\"}], \"histogram\": [{\"marker\": {\"colorbar\": {\"outlinewidth\": 0, \"ticks\": \"\"}}, \"type\": \"histogram\"}], \"histogram2d\": [{\"colorbar\": {\"outlinewidth\": 0, \"ticks\": \"\"}, \"colorscale\": [[0.0, \"#0d0887\"], [0.1111111111111111, \"#46039f\"], [0.2222222222222222, \"#7201a8\"], [0.3333333333333333, \"#9c179e\"], [0.4444444444444444, \"#bd3786\"], [0.5555555555555556, \"#d8576b\"], [0.6666666666666666, \"#ed7953\"], [0.7777777777777778, \"#fb9f3a\"], [0.8888888888888888, \"#fdca26\"], [1.0, \"#f0f921\"]], \"type\": \"histogram2d\"}], \"histogram2dcontour\": [{\"colorbar\": {\"outlinewidth\": 0, \"ticks\": \"\"}, \"colorscale\": [[0.0, \"#0d0887\"], [0.1111111111111111, \"#46039f\"], [0.2222222222222222, \"#7201a8\"], [0.3333333333333333, \"#9c179e\"], [0.4444444444444444, \"#bd3786\"], [0.5555555555555556, \"#d8576b\"], [0.6666666666666666, \"#ed7953\"], [0.7777777777777778, \"#fb9f3a\"], [0.8888888888888888, \"#fdca26\"], [1.0, \"#f0f921\"]], \"type\": \"histogram2dcontour\"}], \"mesh3d\": [{\"colorbar\": {\"outlinewidth\": 0, \"ticks\": \"\"}, \"type\": \"mesh3d\"}], \"parcoords\": [{\"line\": {\"colorbar\": {\"outlinewidth\": 0, \"ticks\": \"\"}}, \"type\": \"parcoords\"}], \"pie\": [{\"automargin\": true, \"type\": \"pie\"}], \"scatter\": [{\"marker\": {\"colorbar\": {\"outlinewidth\": 0, \"ticks\": \"\"}}, \"type\": \"scatter\"}], \"scatter3d\": [{\"line\": {\"colorbar\": {\"outlinewidth\": 0, \"ticks\": \"\"}}, \"marker\": {\"colorbar\": {\"outlinewidth\": 0, \"ticks\": \"\"}}, \"type\": \"scatter3d\"}], \"scattercarpet\": [{\"marker\": {\"colorbar\": {\"outlinewidth\": 0, \"ticks\": \"\"}}, \"type\": \"scattercarpet\"}], \"scattergeo\": [{\"marker\": {\"colorbar\": {\"outlinewidth\": 0, \"ticks\": \"\"}}, \"type\": \"scattergeo\"}], \"scattergl\": [{\"marker\": {\"colorbar\": {\"outlinewidth\": 0, \"ticks\": \"\"}}, \"type\": \"scattergl\"}], \"scattermapbox\": [{\"marker\": {\"colorbar\": {\"outlinewidth\": 0, \"ticks\": \"\"}}, \"type\": \"scattermapbox\"}], \"scatterpolar\": [{\"marker\": {\"colorbar\": {\"outlinewidth\": 0, \"ticks\": \"\"}}, \"type\": \"scatterpolar\"}], \"scatterpolargl\": [{\"marker\": {\"colorbar\": {\"outlinewidth\": 0, \"ticks\": \"\"}}, \"type\": \"scatterpolargl\"}], \"scatterternary\": [{\"marker\": {\"colorbar\": {\"outlinewidth\": 0, \"ticks\": \"\"}}, \"type\": \"scatterternary\"}], \"surface\": [{\"colorbar\": {\"outlinewidth\": 0, \"ticks\": \"\"}, \"colorscale\": [[0.0, \"#0d0887\"], [0.1111111111111111, \"#46039f\"], [0.2222222222222222, \"#7201a8\"], [0.3333333333333333, \"#9c179e\"], [0.4444444444444444, \"#bd3786\"], [0.5555555555555556, \"#d8576b\"], [0.6666666666666666, \"#ed7953\"], [0.7777777777777778, \"#fb9f3a\"], [0.8888888888888888, \"#fdca26\"], [1.0, \"#f0f921\"]], \"type\": \"surface\"}], \"table\": [{\"cells\": {\"fill\": {\"color\": \"#EBF0F8\"}, \"line\": {\"color\": \"white\"}}, \"header\": {\"fill\": {\"color\": \"#C8D4E3\"}, \"line\": {\"color\": \"white\"}}, \"type\": \"table\"}]}, \"layout\": {\"annotationdefaults\": {\"arrowcolor\": \"#2a3f5f\", \"arrowhead\": 0, \"arrowwidth\": 1}, \"coloraxis\": {\"colorbar\": {\"outlinewidth\": 0, \"ticks\": \"\"}}, \"colorscale\": {\"diverging\": [[0, \"#8e0152\"], [0.1, \"#c51b7d\"], [0.2, \"#de77ae\"], [0.3, \"#f1b6da\"], [0.4, \"#fde0ef\"], [0.5, \"#f7f7f7\"], [0.6, \"#e6f5d0\"], [0.7, \"#b8e186\"], [0.8, \"#7fbc41\"], [0.9, \"#4d9221\"], [1, \"#276419\"]], \"sequential\": [[0.0, \"#0d0887\"], [0.1111111111111111, \"#46039f\"], [0.2222222222222222, \"#7201a8\"], [0.3333333333333333, \"#9c179e\"], [0.4444444444444444, \"#bd3786\"], [0.5555555555555556, \"#d8576b\"], [0.6666666666666666, \"#ed7953\"], [0.7777777777777778, \"#fb9f3a\"], [0.8888888888888888, \"#fdca26\"], [1.0, \"#f0f921\"]], \"sequentialminus\": [[0.0, \"#0d0887\"], [0.1111111111111111, \"#46039f\"], [0.2222222222222222, \"#7201a8\"], [0.3333333333333333, \"#9c179e\"], [0.4444444444444444, \"#bd3786\"], [0.5555555555555556, \"#d8576b\"], [0.6666666666666666, \"#ed7953\"], [0.7777777777777778, \"#fb9f3a\"], [0.8888888888888888, \"#fdca26\"], [1.0, \"#f0f921\"]]}, \"colorway\": [\"#636efa\", \"#EF553B\", \"#00cc96\", \"#ab63fa\", \"#FFA15A\", \"#19d3f3\", \"#FF6692\", \"#B6E880\", \"#FF97FF\", \"#FECB52\"], \"font\": {\"color\": \"#2a3f5f\"}, \"geo\": {\"bgcolor\": \"white\", \"lakecolor\": \"white\", \"landcolor\": \"#E5ECF6\", \"showlakes\": true, \"showland\": true, \"subunitcolor\": \"white\"}, \"hoverlabel\": {\"align\": \"left\"}, \"hovermode\": \"closest\", \"mapbox\": {\"style\": \"light\"}, \"paper_bgcolor\": \"white\", \"plot_bgcolor\": \"#E5ECF6\", \"polar\": {\"angularaxis\": {\"gridcolor\": \"white\", \"linecolor\": \"white\", \"ticks\": \"\"}, \"bgcolor\": \"#E5ECF6\", \"radialaxis\": {\"gridcolor\": \"white\", \"linecolor\": \"white\", \"ticks\": \"\"}}, \"scene\": {\"xaxis\": {\"backgroundcolor\": \"#E5ECF6\", \"gridcolor\": \"white\", \"gridwidth\": 2, \"linecolor\": \"white\", \"showbackground\": true, \"ticks\": \"\", \"zerolinecolor\": \"white\"}, \"yaxis\": {\"backgroundcolor\": \"#E5ECF6\", \"gridcolor\": \"white\", \"gridwidth\": 2, \"linecolor\": \"white\", \"showbackground\": true, \"ticks\": \"\", \"zerolinecolor\": \"white\"}, \"zaxis\": {\"backgroundcolor\": \"#E5ECF6\", \"gridcolor\": \"white\", \"gridwidth\": 2, \"linecolor\": \"white\", \"showbackground\": true, \"ticks\": \"\", \"zerolinecolor\": \"white\"}}, \"shapedefaults\": {\"line\": {\"color\": \"#2a3f5f\"}}, \"ternary\": {\"aaxis\": {\"gridcolor\": \"white\", \"linecolor\": \"white\", \"ticks\": \"\"}, \"baxis\": {\"gridcolor\": \"white\", \"linecolor\": \"white\", \"ticks\": \"\"}, \"bgcolor\": \"#E5ECF6\", \"caxis\": {\"gridcolor\": \"white\", \"linecolor\": \"white\", \"ticks\": \"\"}}, \"title\": {\"x\": 0.05}, \"xaxis\": {\"automargin\": true, \"gridcolor\": \"white\", \"linecolor\": \"white\", \"ticks\": \"\", \"title\": {\"standoff\": 15}, \"zerolinecolor\": \"white\", \"zerolinewidth\": 2}, \"yaxis\": {\"automargin\": true, \"gridcolor\": \"white\", \"linecolor\": \"white\", \"ticks\": \"\", \"title\": {\"standoff\": 15}, \"zerolinecolor\": \"white\", \"zerolinewidth\": 2}}}, \"title\": {\"text\": \"Normalized Efficiency vs Playstyle\"}, \"xaxis\": {\"anchor\": \"y\", \"domain\": [0.0, 1.0], \"title\": {\"text\": \"Play-Style Cluster\"}}, \"yaxis\": {\"anchor\": \"x\", \"domain\": [0.0, 1.0], \"title\": {\"text\": \"Normalized Scoring Efficiency\"}}},\n",
       "                        {\"responsive\": true}\n",
       "                    ).then(function(){\n",
       "                            \n",
       "var gd = document.getElementById('2b435576-e690-4f67-8369-611fba10e2c5');\n",
       "var x = new MutationObserver(function (mutations, observer) {{\n",
       "        var display = window.getComputedStyle(gd).display;\n",
       "        if (!display || display === 'none') {{\n",
       "            console.log([gd, 'removed!']);\n",
       "            Plotly.purge(gd);\n",
       "            observer.disconnect();\n",
       "        }}\n",
       "}});\n",
       "\n",
       "// Listen for the removal of the full notebook cells\n",
       "var notebookContainer = gd.closest('#notebook-container');\n",
       "if (notebookContainer) {{\n",
       "    x.observe(notebookContainer, {childList: true});\n",
       "}}\n",
       "\n",
       "// Listen for the clearing of the current output cell\n",
       "var outputEl = gd.closest('.output');\n",
       "if (outputEl) {{\n",
       "    x.observe(outputEl, {childList: true});\n",
       "}}\n",
       "\n",
       "                        })\n",
       "                };\n",
       "                });\n",
       "            </script>\n",
       "        </div>"
      ]
     },
     "metadata": {},
     "output_type": "display_data"
    },
    {
     "name": "stdout",
     "output_type": "stream",
     "text": [
      "395\n"
     ]
    }
   ],
   "source": [
    "import plotly.express as px\n",
    "a = weighted_EFG.values()\n",
    "norm = [(float(i)-min(a))/(max(a)-min(a)) for i in a]\n",
    "\n",
    "fig = px.bar(x = weighted_EFG.keys(), y = norm,height=400, color = list(weighted_EFG.keys()),labels={\n",
    "                     \"x\" : \"Play-Style Cluster\",\n",
    "                     \"y\": \"Normalized Scoring Efficiency\",\n",
    "                     \"color\" : \"Play-Style\"\n",
    "                 },\n",
    "            title=\"Normalized Efficiency vs Playstyle\")\n",
    "fig.show()\n",
    "\n",
    "print(len(names))"
   ]
  },
  {
   "cell_type": "code",
   "execution_count": 20,
   "metadata": {},
   "outputs": [
    {
     "data": {
      "application/vnd.plotly.v1+json": {
       "config": {
        "plotlyServerURL": "https://plot.ly"
       },
       "data": [
        {
         "alignmentgroup": "True",
         "hoverlabel": {
          "namelength": 0
         },
         "hovertemplate": "Play-Style=PnR/Ball handling Guards<br>Play-Style Cluster=%{x}<br>Normalized Scoring Efficiency=%{y}",
         "legendgroup": "Play-Style=PnR/Ball handling Guards",
         "marker": {
          "color": "#636efa"
         },
         "name": "Play-Style=PnR/Ball handling Guards",
         "offsetgroup": "Play-Style=PnR/Ball handling Guards",
         "orientation": "v",
         "showlegend": true,
         "textposition": "auto",
         "type": "bar",
         "x": [
          "PnR/Ball handling Guards"
         ],
         "xaxis": "x",
         "y": [
          1
         ],
         "yaxis": "y"
        },
        {
         "alignmentgroup": "True",
         "hoverlabel": {
          "namelength": 0
         },
         "hovertemplate": "Play-Style=Stretch 4s<br>Play-Style Cluster=%{x}<br>Normalized Scoring Efficiency=%{y}",
         "legendgroup": "Play-Style=Stretch 4s",
         "marker": {
          "color": "#EF553B"
         },
         "name": "Play-Style=Stretch 4s",
         "offsetgroup": "Play-Style=Stretch 4s",
         "orientation": "v",
         "showlegend": true,
         "textposition": "auto",
         "type": "bar",
         "x": [
          "Stretch 4s"
         ],
         "xaxis": "x",
         "y": [
          0.1784256559766764
         ],
         "yaxis": "y"
        },
        {
         "alignmentgroup": "True",
         "hoverlabel": {
          "namelength": 0
         },
         "hovertemplate": "Play-Style=Post-Up Bigs<br>Play-Style Cluster=%{x}<br>Normalized Scoring Efficiency=%{y}",
         "legendgroup": "Play-Style=Post-Up Bigs",
         "marker": {
          "color": "#00cc96"
         },
         "name": "Play-Style=Post-Up Bigs",
         "offsetgroup": "Play-Style=Post-Up Bigs",
         "orientation": "v",
         "showlegend": true,
         "textposition": "auto",
         "type": "bar",
         "x": [
          "Post-Up Bigs"
         ],
         "xaxis": "x",
         "y": [
          0.19941690962099126
         ],
         "yaxis": "y"
        },
        {
         "alignmentgroup": "True",
         "hoverlabel": {
          "namelength": 0
         },
         "hovertemplate": "Play-Style=Perimeter Wings<br>Play-Style Cluster=%{x}<br>Normalized Scoring Efficiency=%{y}",
         "legendgroup": "Play-Style=Perimeter Wings",
         "marker": {
          "color": "#ab63fa"
         },
         "name": "Play-Style=Perimeter Wings",
         "offsetgroup": "Play-Style=Perimeter Wings",
         "orientation": "v",
         "showlegend": true,
         "textposition": "auto",
         "type": "bar",
         "x": [
          "Perimeter Wings"
         ],
         "xaxis": "x",
         "y": [
          0.27405247813411077
         ],
         "yaxis": "y"
        },
        {
         "alignmentgroup": "True",
         "hoverlabel": {
          "namelength": 0
         },
         "hovertemplate": "Play-Style=Rolling Bigs<br>Play-Style Cluster=%{x}<br>Normalized Scoring Efficiency=%{y}",
         "legendgroup": "Play-Style=Rolling Bigs",
         "marker": {
          "color": "#FFA15A"
         },
         "name": "Play-Style=Rolling Bigs",
         "offsetgroup": "Play-Style=Rolling Bigs",
         "orientation": "v",
         "showlegend": true,
         "textposition": "auto",
         "type": "bar",
         "x": [
          "Rolling Bigs"
         ],
         "xaxis": "x",
         "y": [
          0
         ],
         "yaxis": "y"
        },
        {
         "alignmentgroup": "True",
         "hoverlabel": {
          "namelength": 0
         },
         "hovertemplate": "Play-Style=Versatile Wings<br>Play-Style Cluster=%{x}<br>Normalized Scoring Efficiency=%{y}",
         "legendgroup": "Play-Style=Versatile Wings",
         "marker": {
          "color": "#19d3f3"
         },
         "name": "Play-Style=Versatile Wings",
         "offsetgroup": "Play-Style=Versatile Wings",
         "orientation": "v",
         "showlegend": true,
         "textposition": "auto",
         "type": "bar",
         "x": [
          "Versatile Wings"
         ],
         "xaxis": "x",
         "y": [
          0.2717201166180758
         ],
         "yaxis": "y"
        },
        {
         "alignmentgroup": "True",
         "hoverlabel": {
          "namelength": 0
         },
         "hovertemplate": "Play-Style=C&S Guards<br>Play-Style Cluster=%{x}<br>Normalized Scoring Efficiency=%{y}",
         "legendgroup": "Play-Style=C&S Guards",
         "marker": {
          "color": "#FF6692"
         },
         "name": "Play-Style=C&S Guards",
         "offsetgroup": "Play-Style=C&S Guards",
         "orientation": "v",
         "showlegend": true,
         "textposition": "auto",
         "type": "bar",
         "x": [
          "C&S Guards"
         ],
         "xaxis": "x",
         "y": [
          0.21865889212827988
         ],
         "yaxis": "y"
        }
       ],
       "layout": {
        "barmode": "relative",
        "height": 400,
        "legend": {
         "tracegroupgap": 0
        },
        "template": {
         "data": {
          "bar": [
           {
            "error_x": {
             "color": "#2a3f5f"
            },
            "error_y": {
             "color": "#2a3f5f"
            },
            "marker": {
             "line": {
              "color": "#E5ECF6",
              "width": 0.5
             }
            },
            "type": "bar"
           }
          ],
          "barpolar": [
           {
            "marker": {
             "line": {
              "color": "#E5ECF6",
              "width": 0.5
             }
            },
            "type": "barpolar"
           }
          ],
          "carpet": [
           {
            "aaxis": {
             "endlinecolor": "#2a3f5f",
             "gridcolor": "white",
             "linecolor": "white",
             "minorgridcolor": "white",
             "startlinecolor": "#2a3f5f"
            },
            "baxis": {
             "endlinecolor": "#2a3f5f",
             "gridcolor": "white",
             "linecolor": "white",
             "minorgridcolor": "white",
             "startlinecolor": "#2a3f5f"
            },
            "type": "carpet"
           }
          ],
          "choropleth": [
           {
            "colorbar": {
             "outlinewidth": 0,
             "ticks": ""
            },
            "type": "choropleth"
           }
          ],
          "contour": [
           {
            "colorbar": {
             "outlinewidth": 0,
             "ticks": ""
            },
            "colorscale": [
             [
              0,
              "#0d0887"
             ],
             [
              0.1111111111111111,
              "#46039f"
             ],
             [
              0.2222222222222222,
              "#7201a8"
             ],
             [
              0.3333333333333333,
              "#9c179e"
             ],
             [
              0.4444444444444444,
              "#bd3786"
             ],
             [
              0.5555555555555556,
              "#d8576b"
             ],
             [
              0.6666666666666666,
              "#ed7953"
             ],
             [
              0.7777777777777778,
              "#fb9f3a"
             ],
             [
              0.8888888888888888,
              "#fdca26"
             ],
             [
              1,
              "#f0f921"
             ]
            ],
            "type": "contour"
           }
          ],
          "contourcarpet": [
           {
            "colorbar": {
             "outlinewidth": 0,
             "ticks": ""
            },
            "type": "contourcarpet"
           }
          ],
          "heatmap": [
           {
            "colorbar": {
             "outlinewidth": 0,
             "ticks": ""
            },
            "colorscale": [
             [
              0,
              "#0d0887"
             ],
             [
              0.1111111111111111,
              "#46039f"
             ],
             [
              0.2222222222222222,
              "#7201a8"
             ],
             [
              0.3333333333333333,
              "#9c179e"
             ],
             [
              0.4444444444444444,
              "#bd3786"
             ],
             [
              0.5555555555555556,
              "#d8576b"
             ],
             [
              0.6666666666666666,
              "#ed7953"
             ],
             [
              0.7777777777777778,
              "#fb9f3a"
             ],
             [
              0.8888888888888888,
              "#fdca26"
             ],
             [
              1,
              "#f0f921"
             ]
            ],
            "type": "heatmap"
           }
          ],
          "heatmapgl": [
           {
            "colorbar": {
             "outlinewidth": 0,
             "ticks": ""
            },
            "colorscale": [
             [
              0,
              "#0d0887"
             ],
             [
              0.1111111111111111,
              "#46039f"
             ],
             [
              0.2222222222222222,
              "#7201a8"
             ],
             [
              0.3333333333333333,
              "#9c179e"
             ],
             [
              0.4444444444444444,
              "#bd3786"
             ],
             [
              0.5555555555555556,
              "#d8576b"
             ],
             [
              0.6666666666666666,
              "#ed7953"
             ],
             [
              0.7777777777777778,
              "#fb9f3a"
             ],
             [
              0.8888888888888888,
              "#fdca26"
             ],
             [
              1,
              "#f0f921"
             ]
            ],
            "type": "heatmapgl"
           }
          ],
          "histogram": [
           {
            "marker": {
             "colorbar": {
              "outlinewidth": 0,
              "ticks": ""
             }
            },
            "type": "histogram"
           }
          ],
          "histogram2d": [
           {
            "colorbar": {
             "outlinewidth": 0,
             "ticks": ""
            },
            "colorscale": [
             [
              0,
              "#0d0887"
             ],
             [
              0.1111111111111111,
              "#46039f"
             ],
             [
              0.2222222222222222,
              "#7201a8"
             ],
             [
              0.3333333333333333,
              "#9c179e"
             ],
             [
              0.4444444444444444,
              "#bd3786"
             ],
             [
              0.5555555555555556,
              "#d8576b"
             ],
             [
              0.6666666666666666,
              "#ed7953"
             ],
             [
              0.7777777777777778,
              "#fb9f3a"
             ],
             [
              0.8888888888888888,
              "#fdca26"
             ],
             [
              1,
              "#f0f921"
             ]
            ],
            "type": "histogram2d"
           }
          ],
          "histogram2dcontour": [
           {
            "colorbar": {
             "outlinewidth": 0,
             "ticks": ""
            },
            "colorscale": [
             [
              0,
              "#0d0887"
             ],
             [
              0.1111111111111111,
              "#46039f"
             ],
             [
              0.2222222222222222,
              "#7201a8"
             ],
             [
              0.3333333333333333,
              "#9c179e"
             ],
             [
              0.4444444444444444,
              "#bd3786"
             ],
             [
              0.5555555555555556,
              "#d8576b"
             ],
             [
              0.6666666666666666,
              "#ed7953"
             ],
             [
              0.7777777777777778,
              "#fb9f3a"
             ],
             [
              0.8888888888888888,
              "#fdca26"
             ],
             [
              1,
              "#f0f921"
             ]
            ],
            "type": "histogram2dcontour"
           }
          ],
          "mesh3d": [
           {
            "colorbar": {
             "outlinewidth": 0,
             "ticks": ""
            },
            "type": "mesh3d"
           }
          ],
          "parcoords": [
           {
            "line": {
             "colorbar": {
              "outlinewidth": 0,
              "ticks": ""
             }
            },
            "type": "parcoords"
           }
          ],
          "pie": [
           {
            "automargin": true,
            "type": "pie"
           }
          ],
          "scatter": [
           {
            "marker": {
             "colorbar": {
              "outlinewidth": 0,
              "ticks": ""
             }
            },
            "type": "scatter"
           }
          ],
          "scatter3d": [
           {
            "line": {
             "colorbar": {
              "outlinewidth": 0,
              "ticks": ""
             }
            },
            "marker": {
             "colorbar": {
              "outlinewidth": 0,
              "ticks": ""
             }
            },
            "type": "scatter3d"
           }
          ],
          "scattercarpet": [
           {
            "marker": {
             "colorbar": {
              "outlinewidth": 0,
              "ticks": ""
             }
            },
            "type": "scattercarpet"
           }
          ],
          "scattergeo": [
           {
            "marker": {
             "colorbar": {
              "outlinewidth": 0,
              "ticks": ""
             }
            },
            "type": "scattergeo"
           }
          ],
          "scattergl": [
           {
            "marker": {
             "colorbar": {
              "outlinewidth": 0,
              "ticks": ""
             }
            },
            "type": "scattergl"
           }
          ],
          "scattermapbox": [
           {
            "marker": {
             "colorbar": {
              "outlinewidth": 0,
              "ticks": ""
             }
            },
            "type": "scattermapbox"
           }
          ],
          "scatterpolar": [
           {
            "marker": {
             "colorbar": {
              "outlinewidth": 0,
              "ticks": ""
             }
            },
            "type": "scatterpolar"
           }
          ],
          "scatterpolargl": [
           {
            "marker": {
             "colorbar": {
              "outlinewidth": 0,
              "ticks": ""
             }
            },
            "type": "scatterpolargl"
           }
          ],
          "scatterternary": [
           {
            "marker": {
             "colorbar": {
              "outlinewidth": 0,
              "ticks": ""
             }
            },
            "type": "scatterternary"
           }
          ],
          "surface": [
           {
            "colorbar": {
             "outlinewidth": 0,
             "ticks": ""
            },
            "colorscale": [
             [
              0,
              "#0d0887"
             ],
             [
              0.1111111111111111,
              "#46039f"
             ],
             [
              0.2222222222222222,
              "#7201a8"
             ],
             [
              0.3333333333333333,
              "#9c179e"
             ],
             [
              0.4444444444444444,
              "#bd3786"
             ],
             [
              0.5555555555555556,
              "#d8576b"
             ],
             [
              0.6666666666666666,
              "#ed7953"
             ],
             [
              0.7777777777777778,
              "#fb9f3a"
             ],
             [
              0.8888888888888888,
              "#fdca26"
             ],
             [
              1,
              "#f0f921"
             ]
            ],
            "type": "surface"
           }
          ],
          "table": [
           {
            "cells": {
             "fill": {
              "color": "#EBF0F8"
             },
             "line": {
              "color": "white"
             }
            },
            "header": {
             "fill": {
              "color": "#C8D4E3"
             },
             "line": {
              "color": "white"
             }
            },
            "type": "table"
           }
          ]
         },
         "layout": {
          "annotationdefaults": {
           "arrowcolor": "#2a3f5f",
           "arrowhead": 0,
           "arrowwidth": 1
          },
          "coloraxis": {
           "colorbar": {
            "outlinewidth": 0,
            "ticks": ""
           }
          },
          "colorscale": {
           "diverging": [
            [
             0,
             "#8e0152"
            ],
            [
             0.1,
             "#c51b7d"
            ],
            [
             0.2,
             "#de77ae"
            ],
            [
             0.3,
             "#f1b6da"
            ],
            [
             0.4,
             "#fde0ef"
            ],
            [
             0.5,
             "#f7f7f7"
            ],
            [
             0.6,
             "#e6f5d0"
            ],
            [
             0.7,
             "#b8e186"
            ],
            [
             0.8,
             "#7fbc41"
            ],
            [
             0.9,
             "#4d9221"
            ],
            [
             1,
             "#276419"
            ]
           ],
           "sequential": [
            [
             0,
             "#0d0887"
            ],
            [
             0.1111111111111111,
             "#46039f"
            ],
            [
             0.2222222222222222,
             "#7201a8"
            ],
            [
             0.3333333333333333,
             "#9c179e"
            ],
            [
             0.4444444444444444,
             "#bd3786"
            ],
            [
             0.5555555555555556,
             "#d8576b"
            ],
            [
             0.6666666666666666,
             "#ed7953"
            ],
            [
             0.7777777777777778,
             "#fb9f3a"
            ],
            [
             0.8888888888888888,
             "#fdca26"
            ],
            [
             1,
             "#f0f921"
            ]
           ],
           "sequentialminus": [
            [
             0,
             "#0d0887"
            ],
            [
             0.1111111111111111,
             "#46039f"
            ],
            [
             0.2222222222222222,
             "#7201a8"
            ],
            [
             0.3333333333333333,
             "#9c179e"
            ],
            [
             0.4444444444444444,
             "#bd3786"
            ],
            [
             0.5555555555555556,
             "#d8576b"
            ],
            [
             0.6666666666666666,
             "#ed7953"
            ],
            [
             0.7777777777777778,
             "#fb9f3a"
            ],
            [
             0.8888888888888888,
             "#fdca26"
            ],
            [
             1,
             "#f0f921"
            ]
           ]
          },
          "colorway": [
           "#636efa",
           "#EF553B",
           "#00cc96",
           "#ab63fa",
           "#FFA15A",
           "#19d3f3",
           "#FF6692",
           "#B6E880",
           "#FF97FF",
           "#FECB52"
          ],
          "font": {
           "color": "#2a3f5f"
          },
          "geo": {
           "bgcolor": "white",
           "lakecolor": "white",
           "landcolor": "#E5ECF6",
           "showlakes": true,
           "showland": true,
           "subunitcolor": "white"
          },
          "hoverlabel": {
           "align": "left"
          },
          "hovermode": "closest",
          "mapbox": {
           "style": "light"
          },
          "paper_bgcolor": "white",
          "plot_bgcolor": "#E5ECF6",
          "polar": {
           "angularaxis": {
            "gridcolor": "white",
            "linecolor": "white",
            "ticks": ""
           },
           "bgcolor": "#E5ECF6",
           "radialaxis": {
            "gridcolor": "white",
            "linecolor": "white",
            "ticks": ""
           }
          },
          "scene": {
           "xaxis": {
            "backgroundcolor": "#E5ECF6",
            "gridcolor": "white",
            "gridwidth": 2,
            "linecolor": "white",
            "showbackground": true,
            "ticks": "",
            "zerolinecolor": "white"
           },
           "yaxis": {
            "backgroundcolor": "#E5ECF6",
            "gridcolor": "white",
            "gridwidth": 2,
            "linecolor": "white",
            "showbackground": true,
            "ticks": "",
            "zerolinecolor": "white"
           },
           "zaxis": {
            "backgroundcolor": "#E5ECF6",
            "gridcolor": "white",
            "gridwidth": 2,
            "linecolor": "white",
            "showbackground": true,
            "ticks": "",
            "zerolinecolor": "white"
           }
          },
          "shapedefaults": {
           "line": {
            "color": "#2a3f5f"
           }
          },
          "ternary": {
           "aaxis": {
            "gridcolor": "white",
            "linecolor": "white",
            "ticks": ""
           },
           "baxis": {
            "gridcolor": "white",
            "linecolor": "white",
            "ticks": ""
           },
           "bgcolor": "#E5ECF6",
           "caxis": {
            "gridcolor": "white",
            "linecolor": "white",
            "ticks": ""
           }
          },
          "title": {
           "x": 0.05
          },
          "xaxis": {
           "automargin": true,
           "gridcolor": "white",
           "linecolor": "white",
           "ticks": "",
           "title": {
            "standoff": 15
           },
           "zerolinecolor": "white",
           "zerolinewidth": 2
          },
          "yaxis": {
           "automargin": true,
           "gridcolor": "white",
           "linecolor": "white",
           "ticks": "",
           "title": {
            "standoff": 15
           },
           "zerolinecolor": "white",
           "zerolinewidth": 2
          }
         }
        },
        "title": {
         "text": "Normalized Attempt volume vs Playstyle"
        },
        "xaxis": {
         "anchor": "y",
         "domain": [
          0,
          1
         ],
         "title": {
          "text": "Play-Style Cluster"
         }
        },
        "yaxis": {
         "anchor": "x",
         "domain": [
          0,
          1
         ],
         "title": {
          "text": "Normalized Scoring Efficiency"
         }
        }
       }
      },
      "text/html": [
       "<div>\n",
       "        \n",
       "        \n",
       "            <div id=\"b0f29f64-b768-4fa0-9fc7-74e78e5c5be2\" class=\"plotly-graph-div\" style=\"height:400px; width:100%;\"></div>\n",
       "            <script type=\"text/javascript\">\n",
       "                require([\"plotly\"], function(Plotly) {\n",
       "                    window.PLOTLYENV=window.PLOTLYENV || {};\n",
       "                    \n",
       "                if (document.getElementById(\"b0f29f64-b768-4fa0-9fc7-74e78e5c5be2\")) {\n",
       "                    Plotly.newPlot(\n",
       "                        'b0f29f64-b768-4fa0-9fc7-74e78e5c5be2',\n",
       "                        [{\"alignmentgroup\": \"True\", \"hoverlabel\": {\"namelength\": 0}, \"hovertemplate\": \"Play-Style=PnR/Ball handling Guards<br>Play-Style Cluster=%{x}<br>Normalized Scoring Efficiency=%{y}\", \"legendgroup\": \"Play-Style=PnR/Ball handling Guards\", \"marker\": {\"color\": \"#636efa\"}, \"name\": \"Play-Style=PnR/Ball handling Guards\", \"offsetgroup\": \"Play-Style=PnR/Ball handling Guards\", \"orientation\": \"v\", \"showlegend\": true, \"textposition\": \"auto\", \"type\": \"bar\", \"x\": [\"PnR/Ball handling Guards\"], \"xaxis\": \"x\", \"y\": [1.0], \"yaxis\": \"y\"}, {\"alignmentgroup\": \"True\", \"hoverlabel\": {\"namelength\": 0}, \"hovertemplate\": \"Play-Style=Stretch 4s<br>Play-Style Cluster=%{x}<br>Normalized Scoring Efficiency=%{y}\", \"legendgroup\": \"Play-Style=Stretch 4s\", \"marker\": {\"color\": \"#EF553B\"}, \"name\": \"Play-Style=Stretch 4s\", \"offsetgroup\": \"Play-Style=Stretch 4s\", \"orientation\": \"v\", \"showlegend\": true, \"textposition\": \"auto\", \"type\": \"bar\", \"x\": [\"Stretch 4s\"], \"xaxis\": \"x\", \"y\": [0.1784256559766764], \"yaxis\": \"y\"}, {\"alignmentgroup\": \"True\", \"hoverlabel\": {\"namelength\": 0}, \"hovertemplate\": \"Play-Style=Post-Up Bigs<br>Play-Style Cluster=%{x}<br>Normalized Scoring Efficiency=%{y}\", \"legendgroup\": \"Play-Style=Post-Up Bigs\", \"marker\": {\"color\": \"#00cc96\"}, \"name\": \"Play-Style=Post-Up Bigs\", \"offsetgroup\": \"Play-Style=Post-Up Bigs\", \"orientation\": \"v\", \"showlegend\": true, \"textposition\": \"auto\", \"type\": \"bar\", \"x\": [\"Post-Up Bigs\"], \"xaxis\": \"x\", \"y\": [0.19941690962099126], \"yaxis\": \"y\"}, {\"alignmentgroup\": \"True\", \"hoverlabel\": {\"namelength\": 0}, \"hovertemplate\": \"Play-Style=Perimeter Wings<br>Play-Style Cluster=%{x}<br>Normalized Scoring Efficiency=%{y}\", \"legendgroup\": \"Play-Style=Perimeter Wings\", \"marker\": {\"color\": \"#ab63fa\"}, \"name\": \"Play-Style=Perimeter Wings\", \"offsetgroup\": \"Play-Style=Perimeter Wings\", \"orientation\": \"v\", \"showlegend\": true, \"textposition\": \"auto\", \"type\": \"bar\", \"x\": [\"Perimeter Wings\"], \"xaxis\": \"x\", \"y\": [0.27405247813411077], \"yaxis\": \"y\"}, {\"alignmentgroup\": \"True\", \"hoverlabel\": {\"namelength\": 0}, \"hovertemplate\": \"Play-Style=Rolling Bigs<br>Play-Style Cluster=%{x}<br>Normalized Scoring Efficiency=%{y}\", \"legendgroup\": \"Play-Style=Rolling Bigs\", \"marker\": {\"color\": \"#FFA15A\"}, \"name\": \"Play-Style=Rolling Bigs\", \"offsetgroup\": \"Play-Style=Rolling Bigs\", \"orientation\": \"v\", \"showlegend\": true, \"textposition\": \"auto\", \"type\": \"bar\", \"x\": [\"Rolling Bigs\"], \"xaxis\": \"x\", \"y\": [0.0], \"yaxis\": \"y\"}, {\"alignmentgroup\": \"True\", \"hoverlabel\": {\"namelength\": 0}, \"hovertemplate\": \"Play-Style=Versatile Wings<br>Play-Style Cluster=%{x}<br>Normalized Scoring Efficiency=%{y}\", \"legendgroup\": \"Play-Style=Versatile Wings\", \"marker\": {\"color\": \"#19d3f3\"}, \"name\": \"Play-Style=Versatile Wings\", \"offsetgroup\": \"Play-Style=Versatile Wings\", \"orientation\": \"v\", \"showlegend\": true, \"textposition\": \"auto\", \"type\": \"bar\", \"x\": [\"Versatile Wings\"], \"xaxis\": \"x\", \"y\": [0.2717201166180758], \"yaxis\": \"y\"}, {\"alignmentgroup\": \"True\", \"hoverlabel\": {\"namelength\": 0}, \"hovertemplate\": \"Play-Style=C&S Guards<br>Play-Style Cluster=%{x}<br>Normalized Scoring Efficiency=%{y}\", \"legendgroup\": \"Play-Style=C&S Guards\", \"marker\": {\"color\": \"#FF6692\"}, \"name\": \"Play-Style=C&S Guards\", \"offsetgroup\": \"Play-Style=C&S Guards\", \"orientation\": \"v\", \"showlegend\": true, \"textposition\": \"auto\", \"type\": \"bar\", \"x\": [\"C&S Guards\"], \"xaxis\": \"x\", \"y\": [0.21865889212827988], \"yaxis\": \"y\"}],\n",
       "                        {\"barmode\": \"relative\", \"height\": 400, \"legend\": {\"tracegroupgap\": 0}, \"template\": {\"data\": {\"bar\": [{\"error_x\": {\"color\": \"#2a3f5f\"}, \"error_y\": {\"color\": \"#2a3f5f\"}, \"marker\": {\"line\": {\"color\": \"#E5ECF6\", \"width\": 0.5}}, \"type\": \"bar\"}], \"barpolar\": [{\"marker\": {\"line\": {\"color\": \"#E5ECF6\", \"width\": 0.5}}, \"type\": \"barpolar\"}], \"carpet\": [{\"aaxis\": {\"endlinecolor\": \"#2a3f5f\", \"gridcolor\": \"white\", \"linecolor\": \"white\", \"minorgridcolor\": \"white\", \"startlinecolor\": \"#2a3f5f\"}, \"baxis\": {\"endlinecolor\": \"#2a3f5f\", \"gridcolor\": \"white\", \"linecolor\": \"white\", \"minorgridcolor\": \"white\", \"startlinecolor\": \"#2a3f5f\"}, \"type\": \"carpet\"}], \"choropleth\": [{\"colorbar\": {\"outlinewidth\": 0, \"ticks\": \"\"}, \"type\": \"choropleth\"}], \"contour\": [{\"colorbar\": {\"outlinewidth\": 0, \"ticks\": \"\"}, \"colorscale\": [[0.0, \"#0d0887\"], [0.1111111111111111, \"#46039f\"], [0.2222222222222222, \"#7201a8\"], [0.3333333333333333, \"#9c179e\"], [0.4444444444444444, \"#bd3786\"], [0.5555555555555556, \"#d8576b\"], [0.6666666666666666, \"#ed7953\"], [0.7777777777777778, \"#fb9f3a\"], [0.8888888888888888, \"#fdca26\"], [1.0, \"#f0f921\"]], \"type\": \"contour\"}], \"contourcarpet\": [{\"colorbar\": {\"outlinewidth\": 0, \"ticks\": \"\"}, \"type\": \"contourcarpet\"}], \"heatmap\": [{\"colorbar\": {\"outlinewidth\": 0, \"ticks\": \"\"}, \"colorscale\": [[0.0, \"#0d0887\"], [0.1111111111111111, \"#46039f\"], [0.2222222222222222, \"#7201a8\"], [0.3333333333333333, \"#9c179e\"], [0.4444444444444444, \"#bd3786\"], [0.5555555555555556, \"#d8576b\"], [0.6666666666666666, \"#ed7953\"], [0.7777777777777778, \"#fb9f3a\"], [0.8888888888888888, \"#fdca26\"], [1.0, \"#f0f921\"]], \"type\": \"heatmap\"}], \"heatmapgl\": [{\"colorbar\": {\"outlinewidth\": 0, \"ticks\": \"\"}, \"colorscale\": [[0.0, \"#0d0887\"], [0.1111111111111111, \"#46039f\"], [0.2222222222222222, \"#7201a8\"], [0.3333333333333333, \"#9c179e\"], [0.4444444444444444, \"#bd3786\"], [0.5555555555555556, \"#d8576b\"], [0.6666666666666666, \"#ed7953\"], [0.7777777777777778, \"#fb9f3a\"], [0.8888888888888888, \"#fdca26\"], [1.0, \"#f0f921\"]], \"type\": \"heatmapgl\"}], \"histogram\": [{\"marker\": {\"colorbar\": {\"outlinewidth\": 0, \"ticks\": \"\"}}, \"type\": \"histogram\"}], \"histogram2d\": [{\"colorbar\": {\"outlinewidth\": 0, \"ticks\": \"\"}, \"colorscale\": [[0.0, \"#0d0887\"], [0.1111111111111111, \"#46039f\"], [0.2222222222222222, \"#7201a8\"], [0.3333333333333333, \"#9c179e\"], [0.4444444444444444, \"#bd3786\"], [0.5555555555555556, \"#d8576b\"], [0.6666666666666666, \"#ed7953\"], [0.7777777777777778, \"#fb9f3a\"], [0.8888888888888888, \"#fdca26\"], [1.0, \"#f0f921\"]], \"type\": \"histogram2d\"}], \"histogram2dcontour\": [{\"colorbar\": {\"outlinewidth\": 0, \"ticks\": \"\"}, \"colorscale\": [[0.0, \"#0d0887\"], [0.1111111111111111, \"#46039f\"], [0.2222222222222222, \"#7201a8\"], [0.3333333333333333, \"#9c179e\"], [0.4444444444444444, \"#bd3786\"], [0.5555555555555556, \"#d8576b\"], [0.6666666666666666, \"#ed7953\"], [0.7777777777777778, \"#fb9f3a\"], [0.8888888888888888, \"#fdca26\"], [1.0, \"#f0f921\"]], \"type\": \"histogram2dcontour\"}], \"mesh3d\": [{\"colorbar\": {\"outlinewidth\": 0, \"ticks\": \"\"}, \"type\": \"mesh3d\"}], \"parcoords\": [{\"line\": {\"colorbar\": {\"outlinewidth\": 0, \"ticks\": \"\"}}, \"type\": \"parcoords\"}], \"pie\": [{\"automargin\": true, \"type\": \"pie\"}], \"scatter\": [{\"marker\": {\"colorbar\": {\"outlinewidth\": 0, \"ticks\": \"\"}}, \"type\": \"scatter\"}], \"scatter3d\": [{\"line\": {\"colorbar\": {\"outlinewidth\": 0, \"ticks\": \"\"}}, \"marker\": {\"colorbar\": {\"outlinewidth\": 0, \"ticks\": \"\"}}, \"type\": \"scatter3d\"}], \"scattercarpet\": [{\"marker\": {\"colorbar\": {\"outlinewidth\": 0, \"ticks\": \"\"}}, \"type\": \"scattercarpet\"}], \"scattergeo\": [{\"marker\": {\"colorbar\": {\"outlinewidth\": 0, \"ticks\": \"\"}}, \"type\": \"scattergeo\"}], \"scattergl\": [{\"marker\": {\"colorbar\": {\"outlinewidth\": 0, \"ticks\": \"\"}}, \"type\": \"scattergl\"}], \"scattermapbox\": [{\"marker\": {\"colorbar\": {\"outlinewidth\": 0, \"ticks\": \"\"}}, \"type\": \"scattermapbox\"}], \"scatterpolar\": [{\"marker\": {\"colorbar\": {\"outlinewidth\": 0, \"ticks\": \"\"}}, \"type\": \"scatterpolar\"}], \"scatterpolargl\": [{\"marker\": {\"colorbar\": {\"outlinewidth\": 0, \"ticks\": \"\"}}, \"type\": \"scatterpolargl\"}], \"scatterternary\": [{\"marker\": {\"colorbar\": {\"outlinewidth\": 0, \"ticks\": \"\"}}, \"type\": \"scatterternary\"}], \"surface\": [{\"colorbar\": {\"outlinewidth\": 0, \"ticks\": \"\"}, \"colorscale\": [[0.0, \"#0d0887\"], [0.1111111111111111, \"#46039f\"], [0.2222222222222222, \"#7201a8\"], [0.3333333333333333, \"#9c179e\"], [0.4444444444444444, \"#bd3786\"], [0.5555555555555556, \"#d8576b\"], [0.6666666666666666, \"#ed7953\"], [0.7777777777777778, \"#fb9f3a\"], [0.8888888888888888, \"#fdca26\"], [1.0, \"#f0f921\"]], \"type\": \"surface\"}], \"table\": [{\"cells\": {\"fill\": {\"color\": \"#EBF0F8\"}, \"line\": {\"color\": \"white\"}}, \"header\": {\"fill\": {\"color\": \"#C8D4E3\"}, \"line\": {\"color\": \"white\"}}, \"type\": \"table\"}]}, \"layout\": {\"annotationdefaults\": {\"arrowcolor\": \"#2a3f5f\", \"arrowhead\": 0, \"arrowwidth\": 1}, \"coloraxis\": {\"colorbar\": {\"outlinewidth\": 0, \"ticks\": \"\"}}, \"colorscale\": {\"diverging\": [[0, \"#8e0152\"], [0.1, \"#c51b7d\"], [0.2, \"#de77ae\"], [0.3, \"#f1b6da\"], [0.4, \"#fde0ef\"], [0.5, \"#f7f7f7\"], [0.6, \"#e6f5d0\"], [0.7, \"#b8e186\"], [0.8, \"#7fbc41\"], [0.9, \"#4d9221\"], [1, \"#276419\"]], \"sequential\": [[0.0, \"#0d0887\"], [0.1111111111111111, \"#46039f\"], [0.2222222222222222, \"#7201a8\"], [0.3333333333333333, \"#9c179e\"], [0.4444444444444444, \"#bd3786\"], [0.5555555555555556, \"#d8576b\"], [0.6666666666666666, \"#ed7953\"], [0.7777777777777778, \"#fb9f3a\"], [0.8888888888888888, \"#fdca26\"], [1.0, \"#f0f921\"]], \"sequentialminus\": [[0.0, \"#0d0887\"], [0.1111111111111111, \"#46039f\"], [0.2222222222222222, \"#7201a8\"], [0.3333333333333333, \"#9c179e\"], [0.4444444444444444, \"#bd3786\"], [0.5555555555555556, \"#d8576b\"], [0.6666666666666666, \"#ed7953\"], [0.7777777777777778, \"#fb9f3a\"], [0.8888888888888888, \"#fdca26\"], [1.0, \"#f0f921\"]]}, \"colorway\": [\"#636efa\", \"#EF553B\", \"#00cc96\", \"#ab63fa\", \"#FFA15A\", \"#19d3f3\", \"#FF6692\", \"#B6E880\", \"#FF97FF\", \"#FECB52\"], \"font\": {\"color\": \"#2a3f5f\"}, \"geo\": {\"bgcolor\": \"white\", \"lakecolor\": \"white\", \"landcolor\": \"#E5ECF6\", \"showlakes\": true, \"showland\": true, \"subunitcolor\": \"white\"}, \"hoverlabel\": {\"align\": \"left\"}, \"hovermode\": \"closest\", \"mapbox\": {\"style\": \"light\"}, \"paper_bgcolor\": \"white\", \"plot_bgcolor\": \"#E5ECF6\", \"polar\": {\"angularaxis\": {\"gridcolor\": \"white\", \"linecolor\": \"white\", \"ticks\": \"\"}, \"bgcolor\": \"#E5ECF6\", \"radialaxis\": {\"gridcolor\": \"white\", \"linecolor\": \"white\", \"ticks\": \"\"}}, \"scene\": {\"xaxis\": {\"backgroundcolor\": \"#E5ECF6\", \"gridcolor\": \"white\", \"gridwidth\": 2, \"linecolor\": \"white\", \"showbackground\": true, \"ticks\": \"\", \"zerolinecolor\": \"white\"}, \"yaxis\": {\"backgroundcolor\": \"#E5ECF6\", \"gridcolor\": \"white\", \"gridwidth\": 2, \"linecolor\": \"white\", \"showbackground\": true, \"ticks\": \"\", \"zerolinecolor\": \"white\"}, \"zaxis\": {\"backgroundcolor\": \"#E5ECF6\", \"gridcolor\": \"white\", \"gridwidth\": 2, \"linecolor\": \"white\", \"showbackground\": true, \"ticks\": \"\", \"zerolinecolor\": \"white\"}}, \"shapedefaults\": {\"line\": {\"color\": \"#2a3f5f\"}}, \"ternary\": {\"aaxis\": {\"gridcolor\": \"white\", \"linecolor\": \"white\", \"ticks\": \"\"}, \"baxis\": {\"gridcolor\": \"white\", \"linecolor\": \"white\", \"ticks\": \"\"}, \"bgcolor\": \"#E5ECF6\", \"caxis\": {\"gridcolor\": \"white\", \"linecolor\": \"white\", \"ticks\": \"\"}}, \"title\": {\"x\": 0.05}, \"xaxis\": {\"automargin\": true, \"gridcolor\": \"white\", \"linecolor\": \"white\", \"ticks\": \"\", \"title\": {\"standoff\": 15}, \"zerolinecolor\": \"white\", \"zerolinewidth\": 2}, \"yaxis\": {\"automargin\": true, \"gridcolor\": \"white\", \"linecolor\": \"white\", \"ticks\": \"\", \"title\": {\"standoff\": 15}, \"zerolinecolor\": \"white\", \"zerolinewidth\": 2}}}, \"title\": {\"text\": \"Normalized Attempt volume vs Playstyle\"}, \"xaxis\": {\"anchor\": \"y\", \"domain\": [0.0, 1.0], \"title\": {\"text\": \"Play-Style Cluster\"}}, \"yaxis\": {\"anchor\": \"x\", \"domain\": [0.0, 1.0], \"title\": {\"text\": \"Normalized Scoring Efficiency\"}}},\n",
       "                        {\"responsive\": true}\n",
       "                    ).then(function(){\n",
       "                            \n",
       "var gd = document.getElementById('b0f29f64-b768-4fa0-9fc7-74e78e5c5be2');\n",
       "var x = new MutationObserver(function (mutations, observer) {{\n",
       "        var display = window.getComputedStyle(gd).display;\n",
       "        if (!display || display === 'none') {{\n",
       "            console.log([gd, 'removed!']);\n",
       "            Plotly.purge(gd);\n",
       "            observer.disconnect();\n",
       "        }}\n",
       "}});\n",
       "\n",
       "// Listen for the removal of the full notebook cells\n",
       "var notebookContainer = gd.closest('#notebook-container');\n",
       "if (notebookContainer) {{\n",
       "    x.observe(notebookContainer, {childList: true});\n",
       "}}\n",
       "\n",
       "// Listen for the clearing of the current output cell\n",
       "var outputEl = gd.closest('.output');\n",
       "if (outputEl) {{\n",
       "    x.observe(outputEl, {childList: true});\n",
       "}}\n",
       "\n",
       "                        })\n",
       "                };\n",
       "                });\n",
       "            </script>\n",
       "        </div>"
      ]
     },
     "metadata": {},
     "output_type": "display_data"
    },
    {
     "name": "stdout",
     "output_type": "stream",
     "text": [
      "395\n"
     ]
    }
   ],
   "source": [
    "import plotly.express as px\n",
    "a = attempts.values()\n",
    "norm = [(float(i)-min(a))/(max(a)-min(a)) for i in a]\n",
    "\n",
    "fig = px.bar(x = attempts.keys(), y = norm,height=400, color = list(weighted_EFG.keys()),labels={\n",
    "                     \"x\" : \"Play-Style Cluster\",\n",
    "                     \"y\": \"Normalized Scoring Efficiency\",\n",
    "                     \"color\" : \"Play-Style\"\n",
    "                 } ,\n",
    "            title=\"Normalized Attempt volume vs Playstyle\")\n",
    "fig.show()\n",
    "\n",
    "print(len(names))"
   ]
  },
  {
   "cell_type": "code",
   "execution_count": null,
   "metadata": {},
   "outputs": [],
   "source": []
  },
  {
   "cell_type": "code",
   "execution_count": null,
   "metadata": {},
   "outputs": [],
   "source": []
  },
  {
   "cell_type": "code",
   "execution_count": null,
   "metadata": {},
   "outputs": [],
   "source": []
  }
 ],
 "metadata": {
  "kernelspec": {
   "display_name": "Python 3",
   "language": "python",
   "name": "python3"
  },
  "language_info": {
   "codemirror_mode": {
    "name": "ipython",
    "version": 3
   },
   "file_extension": ".py",
   "mimetype": "text/x-python",
   "name": "python",
   "nbconvert_exporter": "python",
   "pygments_lexer": "ipython3",
   "version": "3.7.1"
  }
 },
 "nbformat": 4,
 "nbformat_minor": 2
}
